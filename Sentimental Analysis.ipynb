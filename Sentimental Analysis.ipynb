{
 "cells": [
  {
   "cell_type": "markdown",
   "metadata": {
    "id": "7Ib3gEarZD0C"
   },
   "source": [
    "# **Step 1: Stock Price Analysis and Prediction**\n"
   ]
  },
  {
   "cell_type": "markdown",
   "metadata": {
    "id": "MsRM5f1MSPh_"
   },
   "source": [
    "# **Step 1.1: Importing Required Libraries for numerical analysis and prediction of stock prices**\n",
    "\n",
    "Technical Stack used : \n",
    "* Numpy Array\n",
    "* Matplotlib\n",
    "* Pandas\n",
    "* Keras\n",
    "* Scikit Learn\n",
    "* Math"
   ]
  },
  {
   "cell_type": "code",
   "execution_count": 1,
   "metadata": {
    "id": "lKpLp-CLON21"
   },
   "outputs": [],
   "source": [
    "import numpy as np\n",
    "import matplotlib.pyplot as plt\n",
    "import pandas as pd \n",
    "from sklearn.preprocessing import MinMaxScaler\n",
    "from sklearn.metrics import mean_squared_error\n",
    "from sklearn import metrics \n",
    "from keras.models import Sequential\n",
    "from keras.layers import Dense, LSTM\n",
    "import math\n",
    "import yfinance as yf"
   ]
  },
  {
   "cell_type": "code",
   "execution_count": 2,
   "metadata": {},
   "outputs": [],
   "source": [
    "quote='JETAIRWAYS.NS'"
   ]
  },
  {
   "cell_type": "code",
   "execution_count": 3,
   "metadata": {},
   "outputs": [],
   "source": [
    "def get_historical(quote):\n",
    "    end = datetime(2023,12,30)\n",
    "    start = datetime(2005,1,2)\n",
    "    data = yf.download(quote, start=start, end=end)\n",
    "    df = pd.DataFrame(data=data)\n",
    "    df.to_csv(''+quote+'.csv')\n",
    "    if(df.empty):\n",
    "        ts = TimeSeries(key='N6A6QT6IBFJOPJ70',output_format='pandas')\n",
    "        data, meta_data = ts.get_daily_adjusted(symbol='NSE:'+quote, outputsize='full')\n",
    "        #Format df\n",
    "        #Last 2 yrs rows => 502, in ascending order => ::-1\n",
    "        data=data.head(503).iloc[::-1]\n",
    "        data=data.reset_index()\n",
    "        #Keep Required cols only\n",
    "        df=pd.DataFrame()\n",
    "        df['Date']=data['date']\n",
    "        df['Open']=data['1. open']\n",
    "        df['High']=data['2. high']\n",
    "        df['Low']=data['3. low']\n",
    "        df['Close']=data['4. close']\n",
    "        df['Adj Close']=data['5. adjusted close']\n",
    "        df['Volume']=data['6. volume']\n",
    "        df.to_csv(''+quote+'.csv',index=False)\n",
    "    return"
   ]
  },
  {
   "cell_type": "code",
   "execution_count": 4,
   "metadata": {},
   "outputs": [
    {
     "name": "stdout",
     "output_type": "stream",
     "text": [
      "Requirement already satisfied: datetime in /opt/anaconda3/lib/python3.11/site-packages (5.4)\n",
      "Requirement already satisfied: zope.interface in /opt/anaconda3/lib/python3.11/site-packages (from datetime) (5.4.0)\n",
      "Requirement already satisfied: pytz in /opt/anaconda3/lib/python3.11/site-packages (from datetime) (2023.3.post1)\n",
      "Requirement already satisfied: setuptools in /opt/anaconda3/lib/python3.11/site-packages (from zope.interface->datetime) (68.2.2)\n",
      "Note: you may need to restart the kernel to use updated packages.\n"
     ]
    }
   ],
   "source": [
    "%pip install datetime"
   ]
  },
  {
   "cell_type": "code",
   "execution_count": 5,
   "metadata": {},
   "outputs": [],
   "source": [
    "import datetime"
   ]
  },
  {
   "cell_type": "code",
   "execution_count": 6,
   "metadata": {},
   "outputs": [],
   "source": [
    "end = datetime.datetime(2023,12,30)\n",
    "start = datetime.datetime(2005,1,2)"
   ]
  },
  {
   "cell_type": "code",
   "execution_count": 7,
   "metadata": {},
   "outputs": [],
   "source": [
    "def get_historical(quote):\n",
    "    start = datetime.datetime(2005, 1, 2)\n",
    "    end = datetime.datetime(2023, 12, 30)\n",
    "    data = yf.download(quote, start=start, end=end)\n",
    "    \n",
    "    if not data.empty:\n",
    "        data.to_csv(f'{quote}.csv')\n",
    "        print(f\"Data saved to {quote}.csv\")\n",
    "    else:\n",
    "        print(\"Failed to retrieve data for:\", quote)"
   ]
  },
  {
   "cell_type": "code",
   "execution_count": 8,
   "metadata": {},
   "outputs": [
    {
     "name": "stderr",
     "output_type": "stream",
     "text": [
      "[*********************100%%**********************]  1 of 1 completed"
     ]
    },
    {
     "name": "stdout",
     "output_type": "stream",
     "text": [
      "Data saved to JETAIRWAYS.NS.csv\n"
     ]
    },
    {
     "name": "stderr",
     "output_type": "stream",
     "text": [
      "\n"
     ]
    }
   ],
   "source": [
    "get_historical(quote)\n"
   ]
  },
  {
   "cell_type": "markdown",
   "metadata": {
    "id": "0pgCJ43ETiY4"
   },
   "source": [
    "# **Step 1.3 : Creating a dataframe for storing the Closing stock data per day**"
   ]
  },
  {
   "cell_type": "code",
   "execution_count": 9,
   "metadata": {
    "id": "E_t86RrNPPp1"
   },
   "outputs": [],
   "source": [
    "# convert an array of values into a dataset matrix\n",
    "def create_dataset(df2, look_back=1):\n",
    "    dataX, dataY = [], []\n",
    "    for i in range(len(df2) - look_back - 1):\n",
    "        a = df2[i:(i + look_back), 0]\n",
    "        dataX.append(a)\n",
    "        dataY.append(df2[i + look_back, 0])\n",
    "    return np.array(dataX), np.array(dataY)"
   ]
  },
  {
   "cell_type": "code",
   "execution_count": 10,
   "metadata": {
    "id": "RY7MxhH4PmLc",
    "scrolled": true
   },
   "outputs": [],
   "source": [
    "df2 = pd.read_csv(f'{quote}.csv', usecols=['Adj Close'], engine='python')\n",
    "df2.dropna(inplace=True)\n",
    "df2 = df2.values\n",
    "df2 = df2.astype('float32')"
   ]
  },
  {
   "cell_type": "markdown",
   "metadata": {
    "id": "4RyRIOKRTyGR"
   },
   "source": [
    "# **Step 1.4: Data Normalization and Division into Training and Test sets**"
   ]
  },
  {
   "cell_type": "code",
   "execution_count": 11,
   "metadata": {
    "id": "Z6QPEMVxP0nF"
   },
   "outputs": [],
   "source": [
    "# normalize the dataset\n",
    "scaler = MinMaxScaler(feature_range=(0, 1))\n",
    "df2 = scaler.fit_transform(df2)\n",
    "\n",
    "# split into train and test sets\n",
    "train_size = int(len(df2) * 0.67)\n",
    "test_size = len(df2) - train_size\n",
    "train, test = df2[0:train_size,:], df2[train_size:len(df2),:]"
   ]
  },
  {
   "cell_type": "code",
   "execution_count": 12,
   "metadata": {
    "id": "tSDPDwtDYnO7"
   },
   "outputs": [],
   "source": [
    "# reshape into X=t and Y=t+1\n",
    "look_back = 2\n",
    "trainX, trainY = create_dataset(train, look_back)\n",
    "testX, testY = create_dataset(test, look_back)\n",
    "# reshape input to be [samples, time steps, features]\n",
    "trainX = np.reshape(trainX, (trainX.shape[0], trainX.shape[1], 1))\n",
    "testX = np.reshape(testX, (testX.shape[0], testX.shape[1], 1))"
   ]
  },
  {
   "cell_type": "markdown",
   "metadata": {
    "id": "K2kJ2ucYUMnW"
   },
   "source": [
    "# **Step 1.5 : Creating a LSTM Neural Network Model for Numerical Analysis**"
   ]
  },
  {
   "cell_type": "code",
   "execution_count": 13,
   "metadata": {
    "colab": {
     "base_uri": "https://localhost:8080/"
    },
    "id": "6sm0nTlBYs9R",
    "outputId": "cb7ddb15-0d8e-4765-c8a0-0dfd160c5e04"
   },
   "outputs": [
    {
     "name": "stdout",
     "output_type": "stream",
     "text": [
      "Epoch 1/100\n",
      "621/621 - 1s - loss: 0.0181 - 698ms/epoch - 1ms/step\n",
      "Epoch 2/100\n",
      "621/621 - 0s - loss: 2.9183e-04 - 218ms/epoch - 350us/step\n",
      "Epoch 3/100\n",
      "621/621 - 0s - loss: 2.4179e-04 - 218ms/epoch - 350us/step\n",
      "Epoch 4/100\n",
      "621/621 - 0s - loss: 2.3086e-04 - 218ms/epoch - 351us/step\n",
      "Epoch 5/100\n",
      "621/621 - 0s - loss: 2.2755e-04 - 216ms/epoch - 348us/step\n",
      "Epoch 6/100\n",
      "621/621 - 0s - loss: 2.2943e-04 - 219ms/epoch - 353us/step\n",
      "Epoch 7/100\n",
      "621/621 - 0s - loss: 2.2103e-04 - 214ms/epoch - 345us/step\n",
      "Epoch 8/100\n",
      "621/621 - 0s - loss: 2.2966e-04 - 221ms/epoch - 356us/step\n",
      "Epoch 9/100\n",
      "621/621 - 0s - loss: 2.2280e-04 - 217ms/epoch - 349us/step\n",
      "Epoch 10/100\n",
      "621/621 - 0s - loss: 2.2393e-04 - 239ms/epoch - 385us/step\n",
      "Epoch 11/100\n",
      "621/621 - 0s - loss: 2.2654e-04 - 222ms/epoch - 358us/step\n",
      "Epoch 12/100\n",
      "621/621 - 0s - loss: 2.1950e-04 - 220ms/epoch - 354us/step\n",
      "Epoch 13/100\n",
      "621/621 - 0s - loss: 2.1866e-04 - 218ms/epoch - 351us/step\n",
      "Epoch 14/100\n",
      "621/621 - 0s - loss: 2.2340e-04 - 243ms/epoch - 392us/step\n",
      "Epoch 15/100\n",
      "621/621 - 0s - loss: 2.2221e-04 - 229ms/epoch - 369us/step\n",
      "Epoch 16/100\n",
      "621/621 - 0s - loss: 2.1585e-04 - 224ms/epoch - 361us/step\n",
      "Epoch 17/100\n",
      "621/621 - 0s - loss: 2.1385e-04 - 222ms/epoch - 357us/step\n",
      "Epoch 18/100\n",
      "621/621 - 0s - loss: 2.1267e-04 - 224ms/epoch - 360us/step\n",
      "Epoch 19/100\n",
      "621/621 - 0s - loss: 2.1704e-04 - 222ms/epoch - 358us/step\n",
      "Epoch 20/100\n",
      "621/621 - 0s - loss: 2.1035e-04 - 227ms/epoch - 365us/step\n",
      "Epoch 21/100\n",
      "621/621 - 0s - loss: 2.1301e-04 - 222ms/epoch - 358us/step\n",
      "Epoch 22/100\n",
      "621/621 - 0s - loss: 2.1678e-04 - 222ms/epoch - 358us/step\n",
      "Epoch 23/100\n",
      "621/621 - 0s - loss: 2.1089e-04 - 222ms/epoch - 358us/step\n",
      "Epoch 24/100\n",
      "621/621 - 0s - loss: 2.1023e-04 - 222ms/epoch - 358us/step\n",
      "Epoch 25/100\n",
      "621/621 - 0s - loss: 2.0764e-04 - 239ms/epoch - 385us/step\n",
      "Epoch 26/100\n",
      "621/621 - 0s - loss: 2.0411e-04 - 220ms/epoch - 355us/step\n",
      "Epoch 27/100\n",
      "621/621 - 0s - loss: 1.9814e-04 - 217ms/epoch - 350us/step\n",
      "Epoch 28/100\n",
      "621/621 - 0s - loss: 2.0316e-04 - 218ms/epoch - 351us/step\n",
      "Epoch 29/100\n",
      "621/621 - 0s - loss: 2.0246e-04 - 217ms/epoch - 350us/step\n",
      "Epoch 30/100\n",
      "621/621 - 0s - loss: 2.0243e-04 - 217ms/epoch - 349us/step\n",
      "Epoch 31/100\n",
      "621/621 - 0s - loss: 1.9776e-04 - 217ms/epoch - 349us/step\n",
      "Epoch 32/100\n",
      "621/621 - 0s - loss: 1.9820e-04 - 216ms/epoch - 348us/step\n",
      "Epoch 33/100\n",
      "621/621 - 0s - loss: 1.9521e-04 - 217ms/epoch - 349us/step\n",
      "Epoch 34/100\n",
      "621/621 - 0s - loss: 1.9205e-04 - 216ms/epoch - 347us/step\n",
      "Epoch 35/100\n",
      "621/621 - 0s - loss: 1.9212e-04 - 216ms/epoch - 348us/step\n",
      "Epoch 36/100\n",
      "621/621 - 0s - loss: 1.8945e-04 - 217ms/epoch - 349us/step\n",
      "Epoch 37/100\n",
      "621/621 - 0s - loss: 1.9494e-04 - 217ms/epoch - 349us/step\n",
      "Epoch 38/100\n",
      "621/621 - 0s - loss: 1.8846e-04 - 217ms/epoch - 349us/step\n",
      "Epoch 39/100\n",
      "621/621 - 0s - loss: 1.8570e-04 - 217ms/epoch - 350us/step\n",
      "Epoch 40/100\n",
      "621/621 - 0s - loss: 1.8477e-04 - 245ms/epoch - 395us/step\n",
      "Epoch 41/100\n",
      "621/621 - 0s - loss: 1.8362e-04 - 245ms/epoch - 394us/step\n",
      "Epoch 42/100\n",
      "621/621 - 0s - loss: 1.7559e-04 - 244ms/epoch - 393us/step\n",
      "Epoch 43/100\n",
      "621/621 - 0s - loss: 1.7711e-04 - 221ms/epoch - 355us/step\n",
      "Epoch 44/100\n",
      "621/621 - 0s - loss: 1.7485e-04 - 217ms/epoch - 349us/step\n",
      "Epoch 45/100\n",
      "621/621 - 0s - loss: 1.7180e-04 - 238ms/epoch - 384us/step\n",
      "Epoch 46/100\n",
      "621/621 - 0s - loss: 1.7413e-04 - 217ms/epoch - 350us/step\n",
      "Epoch 47/100\n",
      "621/621 - 0s - loss: 1.7005e-04 - 217ms/epoch - 350us/step\n",
      "Epoch 48/100\n",
      "621/621 - 0s - loss: 1.6762e-04 - 217ms/epoch - 350us/step\n",
      "Epoch 49/100\n",
      "621/621 - 0s - loss: 1.6524e-04 - 217ms/epoch - 349us/step\n",
      "Epoch 50/100\n",
      "621/621 - 0s - loss: 1.6838e-04 - 221ms/epoch - 355us/step\n",
      "Epoch 51/100\n",
      "621/621 - 0s - loss: 1.6747e-04 - 222ms/epoch - 358us/step\n",
      "Epoch 52/100\n",
      "621/621 - 0s - loss: 1.7061e-04 - 223ms/epoch - 359us/step\n",
      "Epoch 53/100\n",
      "621/621 - 0s - loss: 1.6755e-04 - 223ms/epoch - 358us/step\n",
      "Epoch 54/100\n",
      "621/621 - 0s - loss: 1.6646e-04 - 224ms/epoch - 360us/step\n",
      "Epoch 55/100\n",
      "621/621 - 0s - loss: 1.6362e-04 - 222ms/epoch - 357us/step\n",
      "Epoch 56/100\n",
      "621/621 - 0s - loss: 1.6188e-04 - 229ms/epoch - 369us/step\n",
      "Epoch 57/100\n",
      "621/621 - 0s - loss: 1.6760e-04 - 244ms/epoch - 393us/step\n",
      "Epoch 58/100\n",
      "621/621 - 0s - loss: 1.6629e-04 - 245ms/epoch - 395us/step\n",
      "Epoch 59/100\n",
      "621/621 - 0s - loss: 1.6094e-04 - 244ms/epoch - 393us/step\n",
      "Epoch 60/100\n",
      "621/621 - 0s - loss: 1.6423e-04 - 223ms/epoch - 359us/step\n",
      "Epoch 61/100\n",
      "621/621 - 0s - loss: 1.6811e-04 - 220ms/epoch - 355us/step\n",
      "Epoch 62/100\n",
      "621/621 - 0s - loss: 1.6988e-04 - 221ms/epoch - 356us/step\n",
      "Epoch 63/100\n",
      "621/621 - 0s - loss: 1.6872e-04 - 222ms/epoch - 357us/step\n",
      "Epoch 64/100\n",
      "621/621 - 0s - loss: 1.6529e-04 - 221ms/epoch - 356us/step\n",
      "Epoch 65/100\n",
      "621/621 - 0s - loss: 1.6230e-04 - 221ms/epoch - 356us/step\n",
      "Epoch 66/100\n",
      "621/621 - 0s - loss: 1.6389e-04 - 223ms/epoch - 358us/step\n",
      "Epoch 67/100\n",
      "621/621 - 0s - loss: 1.6584e-04 - 220ms/epoch - 355us/step\n",
      "Epoch 68/100\n",
      "621/621 - 0s - loss: 1.6460e-04 - 221ms/epoch - 357us/step\n",
      "Epoch 69/100\n",
      "621/621 - 0s - loss: 1.6211e-04 - 243ms/epoch - 391us/step\n",
      "Epoch 70/100\n",
      "621/621 - 0s - loss: 1.6491e-04 - 221ms/epoch - 356us/step\n",
      "Epoch 71/100\n",
      "621/621 - 0s - loss: 1.6298e-04 - 222ms/epoch - 358us/step\n",
      "Epoch 72/100\n",
      "621/621 - 0s - loss: 1.6181e-04 - 222ms/epoch - 357us/step\n",
      "Epoch 73/100\n",
      "621/621 - 0s - loss: 1.6438e-04 - 231ms/epoch - 371us/step\n",
      "Epoch 74/100\n",
      "621/621 - 0s - loss: 1.6332e-04 - 242ms/epoch - 390us/step\n",
      "Epoch 75/100\n",
      "621/621 - 0s - loss: 1.7161e-04 - 221ms/epoch - 356us/step\n",
      "Epoch 76/100\n",
      "621/621 - 0s - loss: 1.6819e-04 - 221ms/epoch - 356us/step\n",
      "Epoch 77/100\n",
      "621/621 - 0s - loss: 1.6295e-04 - 221ms/epoch - 356us/step\n",
      "Epoch 78/100\n",
      "621/621 - 0s - loss: 1.6631e-04 - 221ms/epoch - 355us/step\n",
      "Epoch 79/100\n",
      "621/621 - 0s - loss: 1.6098e-04 - 221ms/epoch - 356us/step\n",
      "Epoch 80/100\n",
      "621/621 - 0s - loss: 1.6338e-04 - 221ms/epoch - 355us/step\n",
      "Epoch 81/100\n",
      "621/621 - 0s - loss: 1.6136e-04 - 220ms/epoch - 355us/step\n",
      "Epoch 82/100\n",
      "621/621 - 0s - loss: 1.6896e-04 - 220ms/epoch - 354us/step\n",
      "Epoch 83/100\n",
      "621/621 - 0s - loss: 1.6152e-04 - 221ms/epoch - 356us/step\n",
      "Epoch 84/100\n",
      "621/621 - 0s - loss: 1.6064e-04 - 222ms/epoch - 357us/step\n",
      "Epoch 85/100\n",
      "621/621 - 0s - loss: 1.6573e-04 - 221ms/epoch - 355us/step\n",
      "Epoch 86/100\n",
      "621/621 - 0s - loss: 1.6091e-04 - 222ms/epoch - 357us/step\n",
      "Epoch 87/100\n",
      "621/621 - 0s - loss: 1.6583e-04 - 220ms/epoch - 355us/step\n",
      "Epoch 88/100\n",
      "621/621 - 0s - loss: 1.6226e-04 - 232ms/epoch - 373us/step\n",
      "Epoch 89/100\n",
      "621/621 - 0s - loss: 1.6407e-04 - 248ms/epoch - 399us/step\n",
      "Epoch 90/100\n",
      "621/621 - 0s - loss: 1.6427e-04 - 224ms/epoch - 360us/step\n",
      "Epoch 91/100\n",
      "621/621 - 0s - loss: 1.6352e-04 - 222ms/epoch - 357us/step\n",
      "Epoch 92/100\n",
      "621/621 - 0s - loss: 1.6044e-04 - 222ms/epoch - 357us/step\n",
      "Epoch 93/100\n",
      "621/621 - 0s - loss: 1.6427e-04 - 223ms/epoch - 358us/step\n",
      "Epoch 94/100\n",
      "621/621 - 0s - loss: 1.6094e-04 - 221ms/epoch - 356us/step\n",
      "Epoch 95/100\n",
      "621/621 - 0s - loss: 1.6287e-04 - 222ms/epoch - 357us/step\n",
      "Epoch 96/100\n",
      "621/621 - 0s - loss: 1.6597e-04 - 222ms/epoch - 357us/step\n",
      "Epoch 97/100\n",
      "621/621 - 0s - loss: 1.5945e-04 - 243ms/epoch - 391us/step\n",
      "Epoch 98/100\n",
      "621/621 - 0s - loss: 1.6228e-04 - 222ms/epoch - 357us/step\n",
      "Epoch 99/100\n",
      "621/621 - 0s - loss: 1.6507e-04 - 222ms/epoch - 357us/step\n",
      "Epoch 100/100\n",
      "621/621 - 0s - loss: 1.6528e-04 - 222ms/epoch - 357us/step\n"
     ]
    },
    {
     "data": {
      "text/plain": [
       "<keras.src.callbacks.History at 0x159f4a450>"
      ]
     },
     "execution_count": 13,
     "metadata": {},
     "output_type": "execute_result"
    }
   ],
   "source": [
    "# create and fit the LSTM networkworkbench.action.openLargeOutput\n",
    "model = Sequential()\n",
    "model.add(LSTM(7, input_shape=(look_back, 1)))\n",
    "model.add(Dense(1))\n",
    "model.compile(loss='mean_squared_error', optimizer='adam')\n",
    "model.fit(trainX, trainY, epochs=100, batch_size=5, verbose=2)"
   ]
  },
  {
   "cell_type": "markdown",
   "metadata": {
    "id": "qPRj_im5UcQv"
   },
   "source": [
    "# **Step 1.6 : Making Predictions of the Model**"
   ]
  },
  {
   "cell_type": "code",
   "execution_count": 14,
   "metadata": {
    "id": "B3ihPZIDY7cw",
    "scrolled": true
   },
   "outputs": [
    {
     "name": "stdout",
     "output_type": "stream",
     "text": [
      "98/98 [==============================] - 0s 322us/step\n",
      "48/48 [==============================] - 0s 277us/step\n"
     ]
    }
   ],
   "source": [
    "# make predictions\n",
    "trainPredict = model.predict(trainX)\n",
    "testPredict = model.predict(testX)\n",
    "# invert predictions\n",
    "trainPredict = scaler.inverse_transform(trainPredict)\n",
    "trainY = scaler.inverse_transform([trainY])\n",
    "testPredict = scaler.inverse_transform(testPredict)\n",
    "testY = scaler.inverse_transform([testY])"
   ]
  },
  {
   "cell_type": "code",
   "execution_count": 15,
   "metadata": {
    "colab": {
     "base_uri": "https://localhost:8080/",
     "height": 295
    },
    "id": "A74E6l2fZgIx",
    "outputId": "b9fe85e5-5da8-4950-e303-28d5bbe5e3e3"
   },
   "outputs": [
    {
     "data": {
      "image/png": "[encoded data removed]",
      "text/plain": [
       "<Figure size 640x480 with 1 Axes>"
      ]
     },
     "metadata": {},
     "output_type": "display_data"
    }
   ],
   "source": [
    "# shift train predictions for plotting\n",
    "trainPredictPlot = np.empty_like(df2)\n",
    "trainPredictPlot[:, :] = np.nan\n",
    "trainPredictPlot[look_back:len(trainPredict)+look_back, :] = trainPredict\n",
    "# shift test predictions for plotting\n",
    "testPredictPlot = np.empty_like(df2)\n",
    "testPredictPlot[:, :] = np.nan\n",
    "testPredictPlot[len(trainPredict)+(look_back*2)+1:len(df2)-1, :] = testPredict\n",
    "# plot baseline and predictions\n",
    "plt.plot(scaler.inverse_transform(df2), label = 'Actual Data')\n",
    "plt.title('MRF Stock Price Movement from last 17 years Data')\n",
    "plt.xlabel('Time')\n",
    "plt.ylabel('Actual Stock Price')\n",
    "plt.plot(trainPredictPlot,color='#DE3163', label = 'Train Predicted Data')\n",
    "plt.plot(testPredictPlot, color='#FFC300', label = 'Test Predicted Data')\n",
    "plt.legend(loc='best')\n",
    "plt.show()"
   ]
  },
  {
   "cell_type": "code",
   "execution_count": 17,
   "metadata": {
    "colab": {
     "base_uri": "https://localhost:8080/"
    },
    "id": "0HexV7_hZqYi",
    "outputId": "d56219bf-3c89-437b-b57e-a48c5f675805"
   },
   "outputs": [
    {
     "name": "stdout",
     "output_type": "stream",
     "text": [
      "Root mean square error of Training  =  16.93425602029132  RMSE\n",
      "Root mean square error of Testing =  9.467267832535365  RMSE\n"
     ]
    }
   ],
   "source": [
    "# calculate root mean squared error(to access model performance and also compare test and train data)\n",
    "trainScore = math.sqrt(mean_squared_error(trainY[0], trainPredict[:,0]))\n",
    "print(\"Root mean square error of Training  = \",trainScore,\" RMSE\")\n",
    "testScore = math.sqrt(mean_squared_error(testY[0], testPredict[:,0]))\n",
    "print(\"Root mean square error of Testing = \",testScore,\" RMSE\")\n"
   ]
  },
  {
   "cell_type": "markdown",
   "metadata": {
    "id": "6giCUCP0aeFV"
   },
   "source": [
    "# **Step 2: Textual Data(News Headlines) Analysis**"
   ]
  },
  {
   "cell_type": "markdown",
   "metadata": {
    "id": "w4E_FI83o-DV"
   },
   "source": [
    "# **Step 2.1:  Importing Required Libraries for Textual (News Headlines) analysis**"
   ]
  },
  {
   "cell_type": "code",
   "execution_count": 18,
   "metadata": {
    "id": "yY7Uz-KXaV2J"
   },
   "outputs": [],
   "source": [
    "import pandas as pd\n",
    "import numpy as np\n",
    "import matplotlib.pyplot as plt\n",
    "from textblob import TextBlob\n",
    "from datetime import datetime"
   ]
  },
  {
   "cell_type": "code",
   "execution_count": 19,
   "metadata": {},
   "outputs": [
    {
     "name": "stdout",
     "output_type": "stream",
     "text": [
      "Requirement already satisfied: textblob in /opt/anaconda3/lib/python3.11/site-packages (0.18.0.post0)\n",
      "Requirement already satisfied: nltk>=3.8 in /opt/anaconda3/lib/python3.11/site-packages (from textblob) (3.8.1)\n",
      "Requirement already satisfied: click in /opt/anaconda3/lib/python3.11/site-packages (from nltk>=3.8->textblob) (8.1.7)\n",
      "Requirement already satisfied: joblib in /opt/anaconda3/lib/python3.11/site-packages (from nltk>=3.8->textblob) (1.2.0)\n",
      "Requirement already satisfied: regex>=2021.8.3 in /opt/anaconda3/lib/python3.11/site-packages (from nltk>=3.8->textblob) (2023.10.3)\n",
      "Requirement already satisfied: tqdm in /opt/anaconda3/lib/python3.11/site-packages (from nltk>=3.8->textblob) (4.65.0)\n",
      "Note: you may need to restart the kernel to use updated packages.\n"
     ]
    }
   ],
   "source": [
    "%pip install textblob"
   ]
  },
  {
   "cell_type": "markdown",
   "metadata": {
    "id": "IyuMeBWep0MS"
   },
   "source": [
    "# **Step 2.2 : Importing the Textual dataset and performing Exploratory Analysis**"
   ]
  },
  {
   "cell_type": "code",
   "execution_count": 20,
   "metadata": {
    "colab": {
     "base_uri": "https://localhost:8080/",
     "height": 203
    },
    "id": "WiAm-dFpe5Ga",
    "outputId": "fc90a23d-05cd-45f1-b2d7-4027ff6bbbf0"
   },
   "outputs": [
    {
     "data": {
      "text/html": [
       "<div>\n",
       "<style scoped>\n",
       "    .dataframe tbody tr th:only-of-type {\n",
       "        vertical-align: middle;\n",
       "    }\n",
       "\n",
       "    .dataframe tbody tr th {\n",
       "        vertical-align: top;\n",
       "    }\n",
       "\n",
       "    .dataframe thead th {\n",
       "        text-align: right;\n",
       "    }\n",
       "</style>\n",
       "<table border=\"1\" class=\"dataframe\">\n",
       "  <thead>\n",
       "    <tr style=\"text-align: right;\">\n",
       "      <th></th>\n",
       "      <th>publish_date</th>\n",
       "      <th>headline_category</th>\n",
       "      <th>headline_text</th>\n",
       "    </tr>\n",
       "  </thead>\n",
       "  <tbody>\n",
       "    <tr>\n",
       "      <th>0</th>\n",
       "      <td>0</td>\n",
       "      <td>Negative</td>\n",
       "      <td>Markets Close Mostly Lower Again; ROST, PANW R...</td>\n",
       "    </tr>\n",
       "    <tr>\n",
       "      <th>1</th>\n",
       "      <td>1</td>\n",
       "      <td>Negative</td>\n",
       "      <td>Gap plummets on earnings miss, cuts full-year ...</td>\n",
       "    </tr>\n",
       "    <tr>\n",
       "      <th>2</th>\n",
       "      <td>2</td>\n",
       "      <td>Negative</td>\n",
       "      <td>Billionaire Ken Fisher is Selling These 10 Stocks</td>\n",
       "    </tr>\n",
       "    <tr>\n",
       "      <th>3</th>\n",
       "      <td>3</td>\n",
       "      <td>Negative</td>\n",
       "      <td>Corning net income drops 13%, shares fall</td>\n",
       "    </tr>\n",
       "    <tr>\n",
       "      <th>4</th>\n",
       "      <td>4</td>\n",
       "      <td>Negative</td>\n",
       "      <td>Internet Explorer shutdown to cause Japan prob...</td>\n",
       "    </tr>\n",
       "  </tbody>\n",
       "</table>\n",
       "</div>"
      ],
      "text/plain": [
       "   publish_date headline_category  \\\n",
       "0             0          Negative   \n",
       "1             1          Negative   \n",
       "2             2          Negative   \n",
       "3             3          Negative   \n",
       "4             4          Negative   \n",
       "\n",
       "                                       headline_text  \n",
       "0  Markets Close Mostly Lower Again; ROST, PANW R...  \n",
       "1  Gap plummets on earnings miss, cuts full-year ...  \n",
       "2  Billionaire Ken Fisher is Selling These 10 Stocks  \n",
       "3          Corning net income drops 13%, shares fall  \n",
       "4  Internet Explorer shutdown to cause Japan prob...  "
      ]
     },
     "execution_count": 20,
     "metadata": {},
     "output_type": "execute_result"
    }
   ],
   "source": [
    "data = pd.read_csv('stock_newsss.csv')\n",
    "data.head()"
   ]
  },
  {
   "cell_type": "code",
   "execution_count": 21,
   "metadata": {
    "colab": {
     "base_uri": "https://localhost:8080/"
    },
    "id": "yhMhYxbye6oP",
    "outputId": "3137f605-8c9e-4b75-dcbd-32b6244777a6"
   },
   "outputs": [
    {
     "data": {
      "text/plain": [
       "0        False\n",
       "1        False\n",
       "2        False\n",
       "3        False\n",
       "4        False\n",
       "         ...  \n",
       "25995    False\n",
       "25996    False\n",
       "25997    False\n",
       "25998    False\n",
       "25999    False\n",
       "Name: publish_date, Length: 26000, dtype: bool"
      ]
     },
     "execution_count": 21,
     "metadata": {},
     "output_type": "execute_result"
    }
   ],
   "source": [
    "data['publish_date'].duplicated()"
   ]
  },
  {
   "cell_type": "code",
   "execution_count": 22,
   "metadata": {
    "id": "1RBk5iyEj7hh"
   },
   "outputs": [],
   "source": [
    "data = data.drop_duplicates('publish_date', keep='first').sort_index()\n",
    "data= data.reset_index()"
   ]
  },
  {
   "cell_type": "code",
   "execution_count": 23,
   "metadata": {
    "colab": {
     "base_uri": "https://localhost:8080/",
     "height": 203
    },
    "id": "wi60qSDuFs2Z",
    "outputId": "c4846d4a-54cf-4c81-d65a-a840ca85fde7"
   },
   "outputs": [
    {
     "data": {
      "text/html": [
       "<div>\n",
       "<style scoped>\n",
       "    .dataframe tbody tr th:only-of-type {\n",
       "        vertical-align: middle;\n",
       "    }\n",
       "\n",
       "    .dataframe tbody tr th {\n",
       "        vertical-align: top;\n",
       "    }\n",
       "\n",
       "    .dataframe thead th {\n",
       "        text-align: right;\n",
       "    }\n",
       "</style>\n",
       "<table border=\"1\" class=\"dataframe\">\n",
       "  <thead>\n",
       "    <tr style=\"text-align: right;\">\n",
       "      <th></th>\n",
       "      <th>index</th>\n",
       "      <th>Date</th>\n",
       "      <th>headline_category</th>\n",
       "      <th>headline_text</th>\n",
       "    </tr>\n",
       "  </thead>\n",
       "  <tbody>\n",
       "    <tr>\n",
       "      <th>0</th>\n",
       "      <td>0</td>\n",
       "      <td>0</td>\n",
       "      <td>Negative</td>\n",
       "      <td>Markets Close Mostly Lower Again; ROST, PANW R...</td>\n",
       "    </tr>\n",
       "    <tr>\n",
       "      <th>1</th>\n",
       "      <td>1</td>\n",
       "      <td>1</td>\n",
       "      <td>Negative</td>\n",
       "      <td>Gap plummets on earnings miss, cuts full-year ...</td>\n",
       "    </tr>\n",
       "    <tr>\n",
       "      <th>2</th>\n",
       "      <td>2</td>\n",
       "      <td>2</td>\n",
       "      <td>Negative</td>\n",
       "      <td>Billionaire Ken Fisher is Selling These 10 Stocks</td>\n",
       "    </tr>\n",
       "    <tr>\n",
       "      <th>3</th>\n",
       "      <td>3</td>\n",
       "      <td>3</td>\n",
       "      <td>Negative</td>\n",
       "      <td>Corning net income drops 13%, shares fall</td>\n",
       "    </tr>\n",
       "    <tr>\n",
       "      <th>4</th>\n",
       "      <td>4</td>\n",
       "      <td>4</td>\n",
       "      <td>Negative</td>\n",
       "      <td>Internet Explorer shutdown to cause Japan prob...</td>\n",
       "    </tr>\n",
       "  </tbody>\n",
       "</table>\n",
       "</div>"
      ],
      "text/plain": [
       "   index  Date headline_category  \\\n",
       "0      0     0          Negative   \n",
       "1      1     1          Negative   \n",
       "2      2     2          Negative   \n",
       "3      3     3          Negative   \n",
       "4      4     4          Negative   \n",
       "\n",
       "                                       headline_text  \n",
       "0  Markets Close Mostly Lower Again; ROST, PANW R...  \n",
       "1  Gap plummets on earnings miss, cuts full-year ...  \n",
       "2  Billionaire Ken Fisher is Selling These 10 Stocks  \n",
       "3          Corning net income drops 13%, shares fall  \n",
       "4  Internet Explorer shutdown to cause Japan prob...  "
      ]
     },
     "execution_count": 23,
     "metadata": {},
     "output_type": "execute_result"
    }
   ],
   "source": [
    "data.rename(columns={'publish_date': 'Date'},inplace = True)\n",
    "data.head()"
   ]
  },
  {
   "cell_type": "code",
   "execution_count": 24,
   "metadata": {
    "colab": {
     "base_uri": "https://localhost:8080/"
    },
    "id": "zVlTo3KC5cy-",
    "outputId": "38b05672-5853-4ab7-ae91-142b6aea0b7c"
   },
   "outputs": [
    {
     "name": "stdout",
     "output_type": "stream",
     "text": [
      "<class 'pandas.core.frame.DataFrame'>\n",
      "RangeIndex: 26000 entries, 0 to 25999\n",
      "Data columns (total 4 columns):\n",
      " #   Column             Non-Null Count  Dtype \n",
      "---  ------             --------------  ----- \n",
      " 0   index              26000 non-null  int64 \n",
      " 1   Date               26000 non-null  int64 \n",
      " 2   headline_category  26000 non-null  object\n",
      " 3   headline_text      26000 non-null  object\n",
      "dtypes: int64(2), object(2)\n",
      "memory usage: 812.6+ KB\n"
     ]
    }
   ],
   "source": [
    "data.info()"
   ]
  },
  {
   "cell_type": "code",
   "execution_count": 25,
   "metadata": {
    "colab": {
     "base_uri": "https://localhost:8080/"
    },
    "id": "zmi6eou6IygT",
    "outputId": "aefc9ba6-4d02-4ac5-d9c1-866f6d71f3ee"
   },
   "outputs": [
    {
     "data": {
      "text/plain": [
       "headline_category\n",
       "Positive    12448\n",
       "Neutral      8748\n",
       "Negative     4804\n",
       "Name: count, dtype: int64"
      ]
     },
     "execution_count": 25,
     "metadata": {},
     "output_type": "execute_result"
    }
   ],
   "source": [
    "data['headline_category'].value_counts()"
   ]
  },
  {
   "cell_type": "code",
   "execution_count": 26,
   "metadata": {
    "colab": {
     "base_uri": "https://localhost:8080/",
     "height": 417
    },
    "id": "tmSUodIBKJxa",
    "outputId": "9177c367-7cae-4fbd-f261-552f75ecb891"
   },
   "outputs": [
    {
     "data": {
      "text/html": [
       "<div>\n",
       "<style scoped>\n",
       "    .dataframe tbody tr th:only-of-type {\n",
       "        vertical-align: middle;\n",
       "    }\n",
       "\n",
       "    .dataframe tbody tr th {\n",
       "        vertical-align: top;\n",
       "    }\n",
       "\n",
       "    .dataframe thead th {\n",
       "        text-align: right;\n",
       "    }\n",
       "</style>\n",
       "<table border=\"1\" class=\"dataframe\">\n",
       "  <thead>\n",
       "    <tr style=\"text-align: right;\">\n",
       "      <th></th>\n",
       "      <th>index</th>\n",
       "      <th>Date</th>\n",
       "      <th>headline_category</th>\n",
       "      <th>headline_text</th>\n",
       "    </tr>\n",
       "  </thead>\n",
       "  <tbody>\n",
       "  </tbody>\n",
       "</table>\n",
       "</div>"
      ],
      "text/plain": [
       "Empty DataFrame\n",
       "Columns: [index, Date, headline_category, headline_text]\n",
       "Index: []"
      ]
     },
     "execution_count": 26,
     "metadata": {},
     "output_type": "execute_result"
    }
   ],
   "source": [
    "city_data = data[data['headline_category'].str.contains('^city\\.[a-z]+$', regex=True)]\n",
    "city_data"
   ]
  },
  {
   "cell_type": "code",
   "execution_count": 27,
   "metadata": {
    "id": "9hW4UB5gKJup"
   },
   "outputs": [],
   "source": [
    "city_split = pd.DataFrame(columns=['city_name'])"
   ]
  },
  {
   "cell_type": "code",
   "execution_count": 49,
   "metadata": {
    "id": "XPswvNfcKJr5"
   },
   "outputs": [
    {
     "ename": "AttributeError",
     "evalue": "'DataFrame' object has no attribute 'headline_category'",
     "output_type": "error",
     "traceback": [
      "\u001b[0;31m---------------------------------------------------------------------------\u001b[0m",
      "\u001b[0;31mAttributeError\u001b[0m                            Traceback (most recent call last)",
      "\u001b[0;32m/var/folders/2f/npyyptj56ld25y5frhh1q5gc0000gn/T/ipykernel_70167/1619153766.py\u001b[0m in \u001b[0;36m?\u001b[0;34m()\u001b[0m\n\u001b[0;32m----> 1\u001b[0;31m \u001b[0mcity_split\u001b[0m\u001b[0;34m[\u001b[0m\u001b[0;34m'city_name'\u001b[0m\u001b[0;34m]\u001b[0m \u001b[0;34m=\u001b[0m \u001b[0mcity_data\u001b[0m\u001b[0;34m.\u001b[0m\u001b[0mheadline_category\u001b[0m\u001b[0;34m.\u001b[0m\u001b[0mstr\u001b[0m\u001b[0;34m.\u001b[0m\u001b[0msplit\u001b[0m\u001b[0;34m(\u001b[0m\u001b[0;34m'.'\u001b[0m\u001b[0;34m,\u001b[0m\u001b[0mexpand\u001b[0m\u001b[0;34m=\u001b[0m\u001b[0;32mTrue\u001b[0m\u001b[0;34m)\u001b[0m\u001b[0;34m[\u001b[0m\u001b[0;36m1\u001b[0m\u001b[0;34m]\u001b[0m\u001b[0;34m\u001b[0m\u001b[0;34m\u001b[0m\u001b[0m\n\u001b[0m",
      "\u001b[0;32m/opt/anaconda3/lib/python3.11/site-packages/pandas/core/generic.py\u001b[0m in \u001b[0;36m?\u001b[0;34m(self, name)\u001b[0m\n\u001b[1;32m   6200\u001b[0m             \u001b[0;32mand\u001b[0m \u001b[0mname\u001b[0m \u001b[0;32mnot\u001b[0m \u001b[0;32min\u001b[0m \u001b[0mself\u001b[0m\u001b[0;34m.\u001b[0m\u001b[0m_accessors\u001b[0m\u001b[0;34m\u001b[0m\u001b[0;34m\u001b[0m\u001b[0m\n\u001b[1;32m   6201\u001b[0m             \u001b[0;32mand\u001b[0m \u001b[0mself\u001b[0m\u001b[0;34m.\u001b[0m\u001b[0m_info_axis\u001b[0m\u001b[0;34m.\u001b[0m\u001b[0m_can_hold_identifiers_and_holds_name\u001b[0m\u001b[0;34m(\u001b[0m\u001b[0mname\u001b[0m\u001b[0;34m)\u001b[0m\u001b[0;34m\u001b[0m\u001b[0;34m\u001b[0m\u001b[0m\n\u001b[1;32m   6202\u001b[0m         ):\n\u001b[1;32m   6203\u001b[0m             \u001b[0;32mreturn\u001b[0m \u001b[0mself\u001b[0m\u001b[0;34m[\u001b[0m\u001b[0mname\u001b[0m\u001b[0;34m]\u001b[0m\u001b[0;34m\u001b[0m\u001b[0;34m\u001b[0m\u001b[0m\n\u001b[0;32m-> 6204\u001b[0;31m         \u001b[0;32mreturn\u001b[0m \u001b[0mobject\u001b[0m\u001b[0;34m.\u001b[0m\u001b[0m__getattribute__\u001b[0m\u001b[0;34m(\u001b[0m\u001b[0mself\u001b[0m\u001b[0;34m,\u001b[0m \u001b[0mname\u001b[0m\u001b[0;34m)\u001b[0m\u001b[0;34m\u001b[0m\u001b[0;34m\u001b[0m\u001b[0m\n\u001b[0m",
      "\u001b[0;31mAttributeError\u001b[0m: 'DataFrame' object has no attribute 'headline_category'"
     ]
    }
   ],
   "source": [
    "city_split['city_name'] = city_data.headline_category.str.split('.',expand=True)[1]"
   ]
  },
  {
   "cell_type": "code",
   "execution_count": 50,
   "metadata": {
    "id": "8c1RRQn2KJqU"
   },
   "outputs": [],
   "source": [
    "# concate the data set city_data and city_split\n",
    "city_data = pd.concat([city_data,city_split],axis=1)"
   ]
  },
  {
   "cell_type": "code",
   "execution_count": 51,
   "metadata": {
    "id": "PW2QpPIeKJmo"
   },
   "outputs": [
    {
     "ename": "KeyError",
     "evalue": "\"['headline_category'] not found in axis\"",
     "output_type": "error",
     "traceback": [
      "\u001b[0;31m---------------------------------------------------------------------------\u001b[0m",
      "\u001b[0;31mKeyError\u001b[0m                                  Traceback (most recent call last)",
      "\u001b[0;32m/var/folders/2f/npyyptj56ld25y5frhh1q5gc0000gn/T/ipykernel_70167/2101245785.py\u001b[0m in \u001b[0;36m?\u001b[0;34m()\u001b[0m\n\u001b[1;32m      1\u001b[0m \u001b[0;31m# removing unnecessary column from dataset\u001b[0m\u001b[0;34m\u001b[0m\u001b[0;34m\u001b[0m\u001b[0m\n\u001b[0;32m----> 2\u001b[0;31m \u001b[0mcity_data\u001b[0m\u001b[0;34m.\u001b[0m\u001b[0mdrop\u001b[0m\u001b[0;34m(\u001b[0m\u001b[0mcolumns\u001b[0m\u001b[0;34m=\u001b[0m\u001b[0;34m[\u001b[0m\u001b[0;34m'headline_category'\u001b[0m\u001b[0;34m]\u001b[0m\u001b[0;34m,\u001b[0m\u001b[0maxis\u001b[0m\u001b[0;34m=\u001b[0m\u001b[0;36m1\u001b[0m\u001b[0;34m,\u001b[0m \u001b[0minplace\u001b[0m\u001b[0;34m=\u001b[0m\u001b[0;32mTrue\u001b[0m\u001b[0;34m)\u001b[0m\u001b[0;34m\u001b[0m\u001b[0;34m\u001b[0m\u001b[0m\n\u001b[0m",
      "\u001b[0;32m/opt/anaconda3/lib/python3.11/site-packages/pandas/core/frame.py\u001b[0m in \u001b[0;36m?\u001b[0;34m(self, labels, axis, index, columns, level, inplace, errors)\u001b[0m\n\u001b[1;32m   5340\u001b[0m                 \u001b[0mweight\u001b[0m  \u001b[0;36m250.0\u001b[0m   \u001b[0;36m150.0\u001b[0m\u001b[0;34m\u001b[0m\u001b[0;34m\u001b[0m\u001b[0m\n\u001b[1;32m   5341\u001b[0m         \u001b[0mfalcon\u001b[0m  \u001b[0mspeed\u001b[0m   \u001b[0;36m320.0\u001b[0m   \u001b[0;36m250.0\u001b[0m\u001b[0;34m\u001b[0m\u001b[0;34m\u001b[0m\u001b[0m\n\u001b[1;32m   5342\u001b[0m                 \u001b[0mweight\u001b[0m  \u001b[0;36m1.0\u001b[0m     \u001b[0;36m0.8\u001b[0m\u001b[0;34m\u001b[0m\u001b[0;34m\u001b[0m\u001b[0m\n\u001b[1;32m   5343\u001b[0m         \"\"\"\n\u001b[0;32m-> 5344\u001b[0;31m         return super().drop(\n\u001b[0m\u001b[1;32m   5345\u001b[0m             \u001b[0mlabels\u001b[0m\u001b[0;34m=\u001b[0m\u001b[0mlabels\u001b[0m\u001b[0;34m,\u001b[0m\u001b[0;34m\u001b[0m\u001b[0;34m\u001b[0m\u001b[0m\n\u001b[1;32m   5346\u001b[0m             \u001b[0maxis\u001b[0m\u001b[0;34m=\u001b[0m\u001b[0maxis\u001b[0m\u001b[0;34m,\u001b[0m\u001b[0;34m\u001b[0m\u001b[0;34m\u001b[0m\u001b[0m\n\u001b[1;32m   5347\u001b[0m             \u001b[0mindex\u001b[0m\u001b[0;34m=\u001b[0m\u001b[0mindex\u001b[0m\u001b[0;34m,\u001b[0m\u001b[0;34m\u001b[0m\u001b[0;34m\u001b[0m\u001b[0m\n",
      "\u001b[0;32m/opt/anaconda3/lib/python3.11/site-packages/pandas/core/generic.py\u001b[0m in \u001b[0;36m?\u001b[0;34m(self, labels, axis, index, columns, level, inplace, errors)\u001b[0m\n\u001b[1;32m   4707\u001b[0m         \u001b[0mobj\u001b[0m \u001b[0;34m=\u001b[0m \u001b[0mself\u001b[0m\u001b[0;34m\u001b[0m\u001b[0;34m\u001b[0m\u001b[0m\n\u001b[1;32m   4708\u001b[0m \u001b[0;34m\u001b[0m\u001b[0m\n\u001b[1;32m   4709\u001b[0m         \u001b[0;32mfor\u001b[0m \u001b[0maxis\u001b[0m\u001b[0;34m,\u001b[0m \u001b[0mlabels\u001b[0m \u001b[0;32min\u001b[0m \u001b[0maxes\u001b[0m\u001b[0;34m.\u001b[0m\u001b[0mitems\u001b[0m\u001b[0;34m(\u001b[0m\u001b[0;34m)\u001b[0m\u001b[0;34m:\u001b[0m\u001b[0;34m\u001b[0m\u001b[0;34m\u001b[0m\u001b[0m\n\u001b[1;32m   4710\u001b[0m             \u001b[0;32mif\u001b[0m \u001b[0mlabels\u001b[0m \u001b[0;32mis\u001b[0m \u001b[0;32mnot\u001b[0m \u001b[0;32mNone\u001b[0m\u001b[0;34m:\u001b[0m\u001b[0;34m\u001b[0m\u001b[0;34m\u001b[0m\u001b[0m\n\u001b[0;32m-> 4711\u001b[0;31m                 \u001b[0mobj\u001b[0m \u001b[0;34m=\u001b[0m \u001b[0mobj\u001b[0m\u001b[0;34m.\u001b[0m\u001b[0m_drop_axis\u001b[0m\u001b[0;34m(\u001b[0m\u001b[0mlabels\u001b[0m\u001b[0;34m,\u001b[0m \u001b[0maxis\u001b[0m\u001b[0;34m,\u001b[0m \u001b[0mlevel\u001b[0m\u001b[0;34m=\u001b[0m\u001b[0mlevel\u001b[0m\u001b[0;34m,\u001b[0m \u001b[0merrors\u001b[0m\u001b[0;34m=\u001b[0m\u001b[0merrors\u001b[0m\u001b[0;34m)\u001b[0m\u001b[0;34m\u001b[0m\u001b[0;34m\u001b[0m\u001b[0m\n\u001b[0m\u001b[1;32m   4712\u001b[0m \u001b[0;34m\u001b[0m\u001b[0m\n\u001b[1;32m   4713\u001b[0m         \u001b[0;32mif\u001b[0m \u001b[0minplace\u001b[0m\u001b[0;34m:\u001b[0m\u001b[0;34m\u001b[0m\u001b[0;34m\u001b[0m\u001b[0m\n\u001b[1;32m   4714\u001b[0m             \u001b[0mself\u001b[0m\u001b[0;34m.\u001b[0m\u001b[0m_update_inplace\u001b[0m\u001b[0;34m(\u001b[0m\u001b[0mobj\u001b[0m\u001b[0;34m)\u001b[0m\u001b[0;34m\u001b[0m\u001b[0;34m\u001b[0m\u001b[0m\n",
      "\u001b[0;32m/opt/anaconda3/lib/python3.11/site-packages/pandas/core/generic.py\u001b[0m in \u001b[0;36m?\u001b[0;34m(self, labels, axis, level, errors, only_slice)\u001b[0m\n\u001b[1;32m   4778\u001b[0m                 \u001b[0mmask\u001b[0m \u001b[0;34m=\u001b[0m \u001b[0;34m~\u001b[0m\u001b[0maxis\u001b[0m\u001b[0;34m.\u001b[0m\u001b[0misin\u001b[0m\u001b[0;34m(\u001b[0m\u001b[0mlabels\u001b[0m\u001b[0;34m)\u001b[0m\u001b[0;34m\u001b[0m\u001b[0;34m\u001b[0m\u001b[0m\n\u001b[1;32m   4779\u001b[0m                 \u001b[0;31m# Check if label doesn't exist along axis\u001b[0m\u001b[0;34m\u001b[0m\u001b[0;34m\u001b[0m\u001b[0m\n\u001b[1;32m   4780\u001b[0m                 \u001b[0mlabels_missing\u001b[0m \u001b[0;34m=\u001b[0m \u001b[0;34m(\u001b[0m\u001b[0maxis\u001b[0m\u001b[0;34m.\u001b[0m\u001b[0mget_indexer_for\u001b[0m\u001b[0;34m(\u001b[0m\u001b[0mlabels\u001b[0m\u001b[0;34m)\u001b[0m \u001b[0;34m==\u001b[0m \u001b[0;34m-\u001b[0m\u001b[0;36m1\u001b[0m\u001b[0;34m)\u001b[0m\u001b[0;34m.\u001b[0m\u001b[0many\u001b[0m\u001b[0;34m(\u001b[0m\u001b[0;34m)\u001b[0m\u001b[0;34m\u001b[0m\u001b[0;34m\u001b[0m\u001b[0m\n\u001b[1;32m   4781\u001b[0m                 \u001b[0;32mif\u001b[0m \u001b[0merrors\u001b[0m \u001b[0;34m==\u001b[0m \u001b[0;34m\"raise\"\u001b[0m \u001b[0;32mand\u001b[0m \u001b[0mlabels_missing\u001b[0m\u001b[0;34m:\u001b[0m\u001b[0;34m\u001b[0m\u001b[0;34m\u001b[0m\u001b[0m\n\u001b[0;32m-> 4782\u001b[0;31m                     \u001b[0;32mraise\u001b[0m \u001b[0mKeyError\u001b[0m\u001b[0;34m(\u001b[0m\u001b[0;34mf\"{labels} not found in axis\"\u001b[0m\u001b[0;34m)\u001b[0m\u001b[0;34m\u001b[0m\u001b[0;34m\u001b[0m\u001b[0m\n\u001b[0m\u001b[1;32m   4783\u001b[0m \u001b[0;34m\u001b[0m\u001b[0m\n\u001b[1;32m   4784\u001b[0m             \u001b[0;32mif\u001b[0m \u001b[0misinstance\u001b[0m\u001b[0;34m(\u001b[0m\u001b[0mmask\u001b[0m\u001b[0;34m.\u001b[0m\u001b[0mdtype\u001b[0m\u001b[0;34m,\u001b[0m \u001b[0mExtensionDtype\u001b[0m\u001b[0;34m)\u001b[0m\u001b[0;34m:\u001b[0m\u001b[0;34m\u001b[0m\u001b[0;34m\u001b[0m\u001b[0m\n\u001b[1;32m   4785\u001b[0m                 \u001b[0;31m# GH#45860\u001b[0m\u001b[0;34m\u001b[0m\u001b[0;34m\u001b[0m\u001b[0m\n",
      "\u001b[0;31mKeyError\u001b[0m: \"['headline_category'] not found in axis\""
     ]
    }
   ],
   "source": [
    "# removing unnecessary column from dataset\n",
    "city_data.drop(columns=['headline_category'],axis=1, inplace=True)"
   ]
  },
  {
   "cell_type": "code",
   "execution_count": 52,
   "metadata": {
    "id": "lGMv8WHoKJkK"
   },
   "outputs": [],
   "source": [
    "# re-setting the index\n",
    "city_data.reset_index(inplace=True)"
   ]
  },
  {
   "cell_type": "code",
   "execution_count": 53,
   "metadata": {
    "colab": {
     "base_uri": "https://localhost:8080/",
     "height": 203
    },
    "id": "_5JVC3tbKJg_",
    "outputId": "8473aa01-d484-49fc-eaa4-1cfc7ed60fbf"
   },
   "outputs": [
    {
     "data": {
      "text/html": [
       "<div>\n",
       "<style scoped>\n",
       "    .dataframe tbody tr th:only-of-type {\n",
       "        vertical-align: middle;\n",
       "    }\n",
       "\n",
       "    .dataframe tbody tr th {\n",
       "        vertical-align: top;\n",
       "    }\n",
       "\n",
       "    .dataframe thead th {\n",
       "        text-align: right;\n",
       "    }\n",
       "</style>\n",
       "<table border=\"1\" class=\"dataframe\">\n",
       "  <thead>\n",
       "    <tr style=\"text-align: right;\">\n",
       "      <th></th>\n",
       "      <th>index</th>\n",
       "      <th>level_0</th>\n",
       "      <th>headline_text</th>\n",
       "      <th>city_name</th>\n",
       "      <th>Year</th>\n",
       "      <th>city_name</th>\n",
       "    </tr>\n",
       "  </thead>\n",
       "  <tbody>\n",
       "  </tbody>\n",
       "</table>\n",
       "</div>"
      ],
      "text/plain": [
       "Empty DataFrame\n",
       "Columns: [index, level_0, headline_text, city_name, Year, city_name]\n",
       "Index: []"
      ]
     },
     "execution_count": 53,
     "metadata": {},
     "output_type": "execute_result"
    }
   ],
   "source": [
    "# see the final data which contain city_name column\n",
    "city_data.head()"
   ]
  },
  {
   "cell_type": "code",
   "execution_count": 54,
   "metadata": {
    "colab": {
     "base_uri": "https://localhost:8080/",
     "height": 417
    },
    "id": "gFYVZf3BKEkb",
    "outputId": "a0329e07-cbcc-4e79-aa54-a921aec14543"
   },
   "outputs": [
    {
     "data": {
      "text/html": [
       "<div>\n",
       "<style scoped>\n",
       "    .dataframe tbody tr th:only-of-type {\n",
       "        vertical-align: middle;\n",
       "    }\n",
       "\n",
       "    .dataframe tbody tr th {\n",
       "        vertical-align: top;\n",
       "    }\n",
       "\n",
       "    .dataframe thead th {\n",
       "        text-align: right;\n",
       "    }\n",
       "</style>\n",
       "<table border=\"1\" class=\"dataframe\">\n",
       "  <thead>\n",
       "    <tr style=\"text-align: right;\">\n",
       "      <th></th>\n",
       "      <th>headline_text</th>\n",
       "      <th>city_name</th>\n",
       "      <th>Year</th>\n",
       "      <th>city_name</th>\n",
       "    </tr>\n",
       "  </thead>\n",
       "  <tbody>\n",
       "  </tbody>\n",
       "</table>\n",
       "</div>"
      ],
      "text/plain": [
       "Empty DataFrame\n",
       "Columns: [headline_text, city_name, Year, city_name]\n",
       "Index: []"
      ]
     },
     "execution_count": 54,
     "metadata": {},
     "output_type": "execute_result"
    }
   ],
   "source": [
    "city_data.drop(['level_0', 'index'],axis=1)"
   ]
  },
  {
   "cell_type": "code",
   "execution_count": 55,
   "metadata": {
    "colab": {
     "base_uri": "https://localhost:8080/"
    },
    "id": "zQ3M6MHsKJen",
    "outputId": "fa0175d0-4fe0-4d59-98a8-109992ebe5c4"
   },
   "outputs": [
    {
     "ename": "AttributeError",
     "evalue": "'DataFrame' object has no attribute 'unique'",
     "output_type": "error",
     "traceback": [
      "\u001b[0;31m---------------------------------------------------------------------------\u001b[0m",
      "\u001b[0;31mAttributeError\u001b[0m                            Traceback (most recent call last)",
      "\u001b[0;32m/var/folders/2f/npyyptj56ld25y5frhh1q5gc0000gn/T/ipykernel_70167/4106632023.py\u001b[0m in \u001b[0;36m?\u001b[0;34m()\u001b[0m\n\u001b[1;32m      1\u001b[0m \u001b[0;31m# there are so many cities which we can see\u001b[0m\u001b[0;34m\u001b[0m\u001b[0;34m\u001b[0m\u001b[0m\n\u001b[0;32m----> 2\u001b[0;31m \u001b[0mcity_data\u001b[0m\u001b[0;34m.\u001b[0m\u001b[0mcity_name\u001b[0m\u001b[0;34m.\u001b[0m\u001b[0munique\u001b[0m\u001b[0;34m(\u001b[0m\u001b[0;34m)\u001b[0m\u001b[0;34m\u001b[0m\u001b[0;34m\u001b[0m\u001b[0m\n\u001b[0m",
      "\u001b[0;32m/opt/anaconda3/lib/python3.11/site-packages/pandas/core/generic.py\u001b[0m in \u001b[0;36m?\u001b[0;34m(self, name)\u001b[0m\n\u001b[1;32m   6200\u001b[0m             \u001b[0;32mand\u001b[0m \u001b[0mname\u001b[0m \u001b[0;32mnot\u001b[0m \u001b[0;32min\u001b[0m \u001b[0mself\u001b[0m\u001b[0;34m.\u001b[0m\u001b[0m_accessors\u001b[0m\u001b[0;34m\u001b[0m\u001b[0;34m\u001b[0m\u001b[0m\n\u001b[1;32m   6201\u001b[0m             \u001b[0;32mand\u001b[0m \u001b[0mself\u001b[0m\u001b[0;34m.\u001b[0m\u001b[0m_info_axis\u001b[0m\u001b[0;34m.\u001b[0m\u001b[0m_can_hold_identifiers_and_holds_name\u001b[0m\u001b[0;34m(\u001b[0m\u001b[0mname\u001b[0m\u001b[0;34m)\u001b[0m\u001b[0;34m\u001b[0m\u001b[0;34m\u001b[0m\u001b[0m\n\u001b[1;32m   6202\u001b[0m         ):\n\u001b[1;32m   6203\u001b[0m             \u001b[0;32mreturn\u001b[0m \u001b[0mself\u001b[0m\u001b[0;34m[\u001b[0m\u001b[0mname\u001b[0m\u001b[0;34m]\u001b[0m\u001b[0;34m\u001b[0m\u001b[0;34m\u001b[0m\u001b[0m\n\u001b[0;32m-> 6204\u001b[0;31m         \u001b[0;32mreturn\u001b[0m \u001b[0mobject\u001b[0m\u001b[0;34m.\u001b[0m\u001b[0m__getattribute__\u001b[0m\u001b[0;34m(\u001b[0m\u001b[0mself\u001b[0m\u001b[0;34m,\u001b[0m \u001b[0mname\u001b[0m\u001b[0;34m)\u001b[0m\u001b[0;34m\u001b[0m\u001b[0;34m\u001b[0m\u001b[0m\n\u001b[0m",
      "\u001b[0;31mAttributeError\u001b[0m: 'DataFrame' object has no attribute 'unique'"
     ]
    }
   ],
   "source": [
    "# there are so many cities which we can see\n",
    "city_data.city_name.unique()"
   ]
  },
  {
   "cell_type": "markdown",
   "metadata": {
    "id": "Y6O4sKhrrjWd"
   },
   "source": [
    "# **Step 2.3: Representing number of headline text (News Headline) per city**"
   ]
  },
  {
   "cell_type": "code",
   "execution_count": 56,
   "metadata": {
    "id": "KKxzEFBOKJbv"
   },
   "outputs": [
    {
     "ename": "ValueError",
     "evalue": "Grouper for 'city_name' not 1-dimensional",
     "output_type": "error",
     "traceback": [
      "\u001b[0;31m---------------------------------------------------------------------------\u001b[0m",
      "\u001b[0;31mValueError\u001b[0m                                Traceback (most recent call last)",
      "Cell \u001b[0;32mIn[56], line 2\u001b[0m\n\u001b[1;32m      1\u001b[0m \u001b[38;5;66;03m# create a group of cities and let's see which city have, how many no. of headine text\u001b[39;00m\n\u001b[0;32m----> 2\u001b[0m city_headline \u001b[38;5;241m=\u001b[39m city_data\u001b[38;5;241m.\u001b[39mgroupby([\u001b[38;5;124m'\u001b[39m\u001b[38;5;124mcity_name\u001b[39m\u001b[38;5;124m'\u001b[39m])\u001b[38;5;241m.\u001b[39magg({\u001b[38;5;124m'\u001b[39m\u001b[38;5;124mheadline_text\u001b[39m\u001b[38;5;124m'\u001b[39m:\u001b[38;5;124m'\u001b[39m\u001b[38;5;124mcount\u001b[39m\u001b[38;5;124m'\u001b[39m})\n",
      "File \u001b[0;32m/opt/anaconda3/lib/python3.11/site-packages/pandas/core/frame.py:8869\u001b[0m, in \u001b[0;36mDataFrame.groupby\u001b[0;34m(self, by, axis, level, as_index, sort, group_keys, observed, dropna)\u001b[0m\n\u001b[1;32m   8866\u001b[0m \u001b[38;5;28;01mif\u001b[39;00m level \u001b[38;5;129;01mis\u001b[39;00m \u001b[38;5;28;01mNone\u001b[39;00m \u001b[38;5;129;01mand\u001b[39;00m by \u001b[38;5;129;01mis\u001b[39;00m \u001b[38;5;28;01mNone\u001b[39;00m:\n\u001b[1;32m   8867\u001b[0m     \u001b[38;5;28;01mraise\u001b[39;00m \u001b[38;5;167;01mTypeError\u001b[39;00m(\u001b[38;5;124m\"\u001b[39m\u001b[38;5;124mYou have to supply one of \u001b[39m\u001b[38;5;124m'\u001b[39m\u001b[38;5;124mby\u001b[39m\u001b[38;5;124m'\u001b[39m\u001b[38;5;124m and \u001b[39m\u001b[38;5;124m'\u001b[39m\u001b[38;5;124mlevel\u001b[39m\u001b[38;5;124m'\u001b[39m\u001b[38;5;124m\"\u001b[39m)\n\u001b[0;32m-> 8869\u001b[0m \u001b[38;5;28;01mreturn\u001b[39;00m DataFrameGroupBy(\n\u001b[1;32m   8870\u001b[0m     obj\u001b[38;5;241m=\u001b[39m\u001b[38;5;28mself\u001b[39m,\n\u001b[1;32m   8871\u001b[0m     keys\u001b[38;5;241m=\u001b[39mby,\n\u001b[1;32m   8872\u001b[0m     axis\u001b[38;5;241m=\u001b[39maxis,\n\u001b[1;32m   8873\u001b[0m     level\u001b[38;5;241m=\u001b[39mlevel,\n\u001b[1;32m   8874\u001b[0m     as_index\u001b[38;5;241m=\u001b[39mas_index,\n\u001b[1;32m   8875\u001b[0m     sort\u001b[38;5;241m=\u001b[39msort,\n\u001b[1;32m   8876\u001b[0m     group_keys\u001b[38;5;241m=\u001b[39mgroup_keys,\n\u001b[1;32m   8877\u001b[0m     observed\u001b[38;5;241m=\u001b[39mobserved,\n\u001b[1;32m   8878\u001b[0m     dropna\u001b[38;5;241m=\u001b[39mdropna,\n\u001b[1;32m   8879\u001b[0m )\n",
      "File \u001b[0;32m/opt/anaconda3/lib/python3.11/site-packages/pandas/core/groupby/groupby.py:1278\u001b[0m, in \u001b[0;36mGroupBy.__init__\u001b[0;34m(self, obj, keys, axis, level, grouper, exclusions, selection, as_index, sort, group_keys, observed, dropna)\u001b[0m\n\u001b[1;32m   1275\u001b[0m \u001b[38;5;28mself\u001b[39m\u001b[38;5;241m.\u001b[39mdropna \u001b[38;5;241m=\u001b[39m dropna\n\u001b[1;32m   1277\u001b[0m \u001b[38;5;28;01mif\u001b[39;00m grouper \u001b[38;5;129;01mis\u001b[39;00m \u001b[38;5;28;01mNone\u001b[39;00m:\n\u001b[0;32m-> 1278\u001b[0m     grouper, exclusions, obj \u001b[38;5;241m=\u001b[39m get_grouper(\n\u001b[1;32m   1279\u001b[0m         obj,\n\u001b[1;32m   1280\u001b[0m         keys,\n\u001b[1;32m   1281\u001b[0m         axis\u001b[38;5;241m=\u001b[39maxis,\n\u001b[1;32m   1282\u001b[0m         level\u001b[38;5;241m=\u001b[39mlevel,\n\u001b[1;32m   1283\u001b[0m         sort\u001b[38;5;241m=\u001b[39msort,\n\u001b[1;32m   1284\u001b[0m         observed\u001b[38;5;241m=\u001b[39m\u001b[38;5;28;01mFalse\u001b[39;00m \u001b[38;5;28;01mif\u001b[39;00m observed \u001b[38;5;129;01mis\u001b[39;00m lib\u001b[38;5;241m.\u001b[39mno_default \u001b[38;5;28;01melse\u001b[39;00m observed,\n\u001b[1;32m   1285\u001b[0m         dropna\u001b[38;5;241m=\u001b[39m\u001b[38;5;28mself\u001b[39m\u001b[38;5;241m.\u001b[39mdropna,\n\u001b[1;32m   1286\u001b[0m     )\n\u001b[1;32m   1288\u001b[0m \u001b[38;5;28;01mif\u001b[39;00m observed \u001b[38;5;129;01mis\u001b[39;00m lib\u001b[38;5;241m.\u001b[39mno_default:\n\u001b[1;32m   1289\u001b[0m     \u001b[38;5;28;01mif\u001b[39;00m \u001b[38;5;28many\u001b[39m(ping\u001b[38;5;241m.\u001b[39m_passed_categorical \u001b[38;5;28;01mfor\u001b[39;00m ping \u001b[38;5;129;01min\u001b[39;00m grouper\u001b[38;5;241m.\u001b[39mgroupings):\n",
      "File \u001b[0;32m/opt/anaconda3/lib/python3.11/site-packages/pandas/core/groupby/grouper.py:1004\u001b[0m, in \u001b[0;36mget_grouper\u001b[0;34m(obj, key, axis, level, sort, observed, validate, dropna)\u001b[0m\n\u001b[1;32m   1000\u001b[0m     in_axis, name, gpr \u001b[38;5;241m=\u001b[39m \u001b[38;5;28;01mTrue\u001b[39;00m, gpr, obj[gpr]\n\u001b[1;32m   1001\u001b[0m     \u001b[38;5;28;01mif\u001b[39;00m gpr\u001b[38;5;241m.\u001b[39mndim \u001b[38;5;241m!=\u001b[39m \u001b[38;5;241m1\u001b[39m:\n\u001b[1;32m   1002\u001b[0m         \u001b[38;5;66;03m# non-unique columns; raise here to get the name in the\u001b[39;00m\n\u001b[1;32m   1003\u001b[0m         \u001b[38;5;66;03m# exception message\u001b[39;00m\n\u001b[0;32m-> 1004\u001b[0m         \u001b[38;5;28;01mraise\u001b[39;00m \u001b[38;5;167;01mValueError\u001b[39;00m(\u001b[38;5;124mf\u001b[39m\u001b[38;5;124m\"\u001b[39m\u001b[38;5;124mGrouper for \u001b[39m\u001b[38;5;124m'\u001b[39m\u001b[38;5;132;01m{\u001b[39;00mname\u001b[38;5;132;01m}\u001b[39;00m\u001b[38;5;124m'\u001b[39m\u001b[38;5;124m not 1-dimensional\u001b[39m\u001b[38;5;124m\"\u001b[39m)\n\u001b[1;32m   1005\u001b[0m     exclusions\u001b[38;5;241m.\u001b[39madd(name)\n\u001b[1;32m   1006\u001b[0m \u001b[38;5;28;01melif\u001b[39;00m obj\u001b[38;5;241m.\u001b[39m_is_level_reference(gpr, axis\u001b[38;5;241m=\u001b[39maxis):\n",
      "\u001b[0;31mValueError\u001b[0m: Grouper for 'city_name' not 1-dimensional"
     ]
    }
   ],
   "source": [
    "# create a group of cities and let's see which city have, how many no. of headine text\n",
    "city_headline = city_data.groupby(['city_name']).agg({'headline_text':'count'})"
   ]
  },
  {
   "cell_type": "code",
   "execution_count": 57,
   "metadata": {
    "id": "M3ElRbsXKJZH"
   },
   "outputs": [],
   "source": [
    "#for better understanding remane the column\n",
    "city_headline.rename(columns={'headline_text':'Number_of_headline_text'},inplace=True)"
   ]
  },
  {
   "cell_type": "code",
   "execution_count": 58,
   "metadata": {
    "colab": {
     "base_uri": "https://localhost:8080/",
     "height": 542
    },
    "id": "PRpYJloQKJV_",
    "outputId": "7147d5cf-0cad-4219-f5fe-bf03391e5bfe"
   },
   "outputs": [
    {
     "data": {
      "text/html": [
       "<div>\n",
       "<style scoped>\n",
       "    .dataframe tbody tr th:only-of-type {\n",
       "        vertical-align: middle;\n",
       "    }\n",
       "\n",
       "    .dataframe tbody tr th {\n",
       "        vertical-align: top;\n",
       "    }\n",
       "\n",
       "    .dataframe thead th {\n",
       "        text-align: right;\n",
       "    }\n",
       "</style>\n",
       "<table border=\"1\" class=\"dataframe\">\n",
       "  <thead>\n",
       "    <tr style=\"text-align: right;\">\n",
       "      <th></th>\n",
       "      <th>Number_of_headline_text</th>\n",
       "    </tr>\n",
       "    <tr>\n",
       "      <th>city_name</th>\n",
       "      <th></th>\n",
       "    </tr>\n",
       "  </thead>\n",
       "  <tbody>\n",
       "  </tbody>\n",
       "</table>\n",
       "</div>"
      ],
      "text/plain": [
       "Empty DataFrame\n",
       "Columns: [Number_of_headline_text]\n",
       "Index: []"
      ]
     },
     "execution_count": 58,
     "metadata": {},
     "output_type": "execute_result"
    }
   ],
   "source": [
    "# finding the top 15 cities which have high number of headlines text\n",
    "city_headline = city_headline.sort_values(by='Number_of_headline_text',ascending=False)\n",
    "top_15_headline_city = city_headline.head(15)\n",
    "top_15_headline_city"
   ]
  },
  {
   "cell_type": "code",
   "execution_count": 59,
   "metadata": {
    "colab": {
     "base_uri": "https://localhost:8080/",
     "height": 519
    },
    "id": "8fWCam4zKJRn",
    "outputId": "d8f2e56a-c15b-4186-f27a-8ff21a1afe3c"
   },
   "outputs": [
    {
     "data": {
      "image/png": "[encoded data removed]",
      "text/plain": [
       "<Figure size 1600x600 with 1 Axes>"
      ]
     },
     "metadata": {},
     "output_type": "display_data"
    }
   ],
   "source": [
    "# plotting a graph for better understanding for top 15 cities which have high no. of headline text\n",
    "\n",
    "plt.figure(figsize=(16,6))\n",
    "plt.bar(top_15_headline_city.index,height=top_15_headline_city['Number_of_headline_text'])\n",
    "plt.xticks(rotation = 45)\n",
    "plt.xlabel('City Name',fontsize=18)\n",
    "plt.ylabel('Number of recorded articles',fontsize=18)\n",
    "plt.title('Number of articles per city\\n',fontsize=24, fontweight='bold')\n",
    "plt.show()"
   ]
  },
  {
   "cell_type": "markdown",
   "metadata": {
    "id": "pmiiM3jAshuE"
   },
   "source": [
    "# **Step 2.4: Representing Number of News Headlines per year and per city**"
   ]
  },
  {
   "cell_type": "code",
   "execution_count": 60,
   "metadata": {
    "colab": {
     "base_uri": "https://localhost:8080/",
     "height": 203
    },
    "id": "8Ca_g-9NO2J7",
    "outputId": "c7aecc30-8447-409f-c91c-b66cea18468b"
   },
   "outputs": [
    {
     "ename": "KeyError",
     "evalue": "'Date'",
     "output_type": "error",
     "traceback": [
      "\u001b[0;31m---------------------------------------------------------------------------\u001b[0m",
      "\u001b[0;31mKeyError\u001b[0m                                  Traceback (most recent call last)",
      "File \u001b[0;32m/opt/anaconda3/lib/python3.11/site-packages/pandas/core/indexes/base.py:3791\u001b[0m, in \u001b[0;36mIndex.get_loc\u001b[0;34m(self, key)\u001b[0m\n\u001b[1;32m   3790\u001b[0m \u001b[38;5;28;01mtry\u001b[39;00m:\n\u001b[0;32m-> 3791\u001b[0m     \u001b[38;5;28;01mreturn\u001b[39;00m \u001b[38;5;28mself\u001b[39m\u001b[38;5;241m.\u001b[39m_engine\u001b[38;5;241m.\u001b[39mget_loc(casted_key)\n\u001b[1;32m   3792\u001b[0m \u001b[38;5;28;01mexcept\u001b[39;00m \u001b[38;5;167;01mKeyError\u001b[39;00m \u001b[38;5;28;01mas\u001b[39;00m err:\n",
      "File \u001b[0;32mindex.pyx:152\u001b[0m, in \u001b[0;36mpandas._libs.index.IndexEngine.get_loc\u001b[0;34m()\u001b[0m\n",
      "File \u001b[0;32mindex.pyx:176\u001b[0m, in \u001b[0;36mpandas._libs.index.IndexEngine.get_loc\u001b[0;34m()\u001b[0m\n",
      "File \u001b[0;32mindex.pyx:219\u001b[0m, in \u001b[0;36mpandas._libs.index.IndexEngine._get_loc_duplicates\u001b[0;34m()\u001b[0m\n",
      "File \u001b[0;32mindex.pyx:227\u001b[0m, in \u001b[0;36mpandas._libs.index.IndexEngine._maybe_get_bool_indexer\u001b[0;34m()\u001b[0m\n",
      "File \u001b[0;32mindex.pyx:119\u001b[0m, in \u001b[0;36mpandas._libs.index._unpack_bool_indexer\u001b[0;34m()\u001b[0m\n",
      "\u001b[0;31mKeyError\u001b[0m: 'Date'",
      "\nThe above exception was the direct cause of the following exception:\n",
      "\u001b[0;31mKeyError\u001b[0m                                  Traceback (most recent call last)",
      "Cell \u001b[0;32mIn[60], line 1\u001b[0m\n\u001b[0;32m----> 1\u001b[0m city_data[\u001b[38;5;124m'\u001b[39m\u001b[38;5;124mDate\u001b[39m\u001b[38;5;124m'\u001b[39m] \u001b[38;5;241m=\u001b[39m pd\u001b[38;5;241m.\u001b[39mto_datetime(city_data[\u001b[38;5;124m'\u001b[39m\u001b[38;5;124mDate\u001b[39m\u001b[38;5;124m'\u001b[39m])\n\u001b[1;32m      2\u001b[0m city_data\u001b[38;5;241m.\u001b[39mhead()\n",
      "File \u001b[0;32m/opt/anaconda3/lib/python3.11/site-packages/pandas/core/frame.py:3893\u001b[0m, in \u001b[0;36mDataFrame.__getitem__\u001b[0;34m(self, key)\u001b[0m\n\u001b[1;32m   3891\u001b[0m \u001b[38;5;28;01mif\u001b[39;00m \u001b[38;5;28mself\u001b[39m\u001b[38;5;241m.\u001b[39mcolumns\u001b[38;5;241m.\u001b[39mnlevels \u001b[38;5;241m>\u001b[39m \u001b[38;5;241m1\u001b[39m:\n\u001b[1;32m   3892\u001b[0m     \u001b[38;5;28;01mreturn\u001b[39;00m \u001b[38;5;28mself\u001b[39m\u001b[38;5;241m.\u001b[39m_getitem_multilevel(key)\n\u001b[0;32m-> 3893\u001b[0m indexer \u001b[38;5;241m=\u001b[39m \u001b[38;5;28mself\u001b[39m\u001b[38;5;241m.\u001b[39mcolumns\u001b[38;5;241m.\u001b[39mget_loc(key)\n\u001b[1;32m   3894\u001b[0m \u001b[38;5;28;01mif\u001b[39;00m is_integer(indexer):\n\u001b[1;32m   3895\u001b[0m     indexer \u001b[38;5;241m=\u001b[39m [indexer]\n",
      "File \u001b[0;32m/opt/anaconda3/lib/python3.11/site-packages/pandas/core/indexes/base.py:3798\u001b[0m, in \u001b[0;36mIndex.get_loc\u001b[0;34m(self, key)\u001b[0m\n\u001b[1;32m   3793\u001b[0m     \u001b[38;5;28;01mif\u001b[39;00m \u001b[38;5;28misinstance\u001b[39m(casted_key, \u001b[38;5;28mslice\u001b[39m) \u001b[38;5;129;01mor\u001b[39;00m (\n\u001b[1;32m   3794\u001b[0m         \u001b[38;5;28misinstance\u001b[39m(casted_key, abc\u001b[38;5;241m.\u001b[39mIterable)\n\u001b[1;32m   3795\u001b[0m         \u001b[38;5;129;01mand\u001b[39;00m \u001b[38;5;28many\u001b[39m(\u001b[38;5;28misinstance\u001b[39m(x, \u001b[38;5;28mslice\u001b[39m) \u001b[38;5;28;01mfor\u001b[39;00m x \u001b[38;5;129;01min\u001b[39;00m casted_key)\n\u001b[1;32m   3796\u001b[0m     ):\n\u001b[1;32m   3797\u001b[0m         \u001b[38;5;28;01mraise\u001b[39;00m InvalidIndexError(key)\n\u001b[0;32m-> 3798\u001b[0m     \u001b[38;5;28;01mraise\u001b[39;00m \u001b[38;5;167;01mKeyError\u001b[39;00m(key) \u001b[38;5;28;01mfrom\u001b[39;00m \u001b[38;5;21;01merr\u001b[39;00m\n\u001b[1;32m   3799\u001b[0m \u001b[38;5;28;01mexcept\u001b[39;00m \u001b[38;5;167;01mTypeError\u001b[39;00m:\n\u001b[1;32m   3800\u001b[0m     \u001b[38;5;66;03m# If we have a listlike key, _check_indexing_error will raise\u001b[39;00m\n\u001b[1;32m   3801\u001b[0m     \u001b[38;5;66;03m#  InvalidIndexError. Otherwise we fall through and re-raise\u001b[39;00m\n\u001b[1;32m   3802\u001b[0m     \u001b[38;5;66;03m#  the TypeError.\u001b[39;00m\n\u001b[1;32m   3803\u001b[0m     \u001b[38;5;28mself\u001b[39m\u001b[38;5;241m.\u001b[39m_check_indexing_error(key)\n",
      "\u001b[0;31mKeyError\u001b[0m: 'Date'"
     ]
    }
   ],
   "source": [
    "city_data['Date'] = pd.to_datetime(city_data['Date'])\n",
    "city_data.head()"
   ]
  },
  {
   "cell_type": "code",
   "execution_count": null,
   "metadata": {
    "id": "VhrqF1tyM5TE"
   },
   "outputs": [],
   "source": [
    "city_data['Year'] = city_data['Date'].apply(lambda x: (x.year))"
   ]
  },
  {
   "cell_type": "code",
   "execution_count": null,
   "metadata": {
    "id": "qOYV18lZPEUT"
   },
   "outputs": [],
   "source": [
    "# dropping unnecessary columns\n",
    "city_data.drop(columns=['Date','index'],axis=1,inplace=True)"
   ]
  },
  {
   "cell_type": "code",
   "execution_count": 61,
   "metadata": {
    "colab": {
     "base_uri": "https://localhost:8080/",
     "height": 203
    },
    "id": "xJ91macGPPxr",
    "outputId": "18a629cf-298b-46ce-ac86-fcdc70f0390b"
   },
   "outputs": [
    {
     "data": {
      "text/html": [
       "<div>\n",
       "<style scoped>\n",
       "    .dataframe tbody tr th:only-of-type {\n",
       "        vertical-align: middle;\n",
       "    }\n",
       "\n",
       "    .dataframe tbody tr th {\n",
       "        vertical-align: top;\n",
       "    }\n",
       "\n",
       "    .dataframe thead th {\n",
       "        text-align: right;\n",
       "    }\n",
       "</style>\n",
       "<table border=\"1\" class=\"dataframe\">\n",
       "  <thead>\n",
       "    <tr style=\"text-align: right;\">\n",
       "      <th></th>\n",
       "      <th>index</th>\n",
       "      <th>level_0</th>\n",
       "      <th>headline_text</th>\n",
       "      <th>city_name</th>\n",
       "      <th>Year</th>\n",
       "      <th>city_name</th>\n",
       "    </tr>\n",
       "  </thead>\n",
       "  <tbody>\n",
       "  </tbody>\n",
       "</table>\n",
       "</div>"
      ],
      "text/plain": [
       "Empty DataFrame\n",
       "Columns: [index, level_0, headline_text, city_name, Year, city_name]\n",
       "Index: []"
      ]
     },
     "execution_count": 61,
     "metadata": {},
     "output_type": "execute_result"
    }
   ],
   "source": [
    "# final result\n",
    "city_data.head()"
   ]
  },
  {
   "cell_type": "code",
   "execution_count": 62,
   "metadata": {
    "id": "lahUFfWtRvnJ"
   },
   "outputs": [],
   "source": [
    "city_data_2 = city_data.copy()\n",
    "city_data_2['Number_of_headline_text'] = 1"
   ]
  },
  {
   "cell_type": "code",
   "execution_count": 63,
   "metadata": {
    "id": "_93XmgQDR8Zb"
   },
   "outputs": [],
   "source": [
    "# dropping unwanted column\n",
    "city_data_2.drop(columns=['headline_text'],axis=1, inplace=True)"
   ]
  },
  {
   "cell_type": "code",
   "execution_count": 64,
   "metadata": {
    "colab": {
     "base_uri": "https://localhost:8080/",
     "height": 203
    },
    "id": "wy_iqQ9NSDWy",
    "outputId": "7c1a5992-9fc9-4a81-dd79-9b09e7ad776a"
   },
   "outputs": [
    {
     "data": {
      "text/html": [
       "<div>\n",
       "<style scoped>\n",
       "    .dataframe tbody tr th:only-of-type {\n",
       "        vertical-align: middle;\n",
       "    }\n",
       "\n",
       "    .dataframe tbody tr th {\n",
       "        vertical-align: top;\n",
       "    }\n",
       "\n",
       "    .dataframe thead th {\n",
       "        text-align: right;\n",
       "    }\n",
       "</style>\n",
       "<table border=\"1\" class=\"dataframe\">\n",
       "  <thead>\n",
       "    <tr style=\"text-align: right;\">\n",
       "      <th></th>\n",
       "      <th>index</th>\n",
       "      <th>level_0</th>\n",
       "      <th>city_name</th>\n",
       "      <th>Year</th>\n",
       "      <th>city_name</th>\n",
       "      <th>Number_of_headline_text</th>\n",
       "    </tr>\n",
       "  </thead>\n",
       "  <tbody>\n",
       "  </tbody>\n",
       "</table>\n",
       "</div>"
      ],
      "text/plain": [
       "Empty DataFrame\n",
       "Columns: [index, level_0, city_name, Year, city_name, Number_of_headline_text]\n",
       "Index: []"
      ]
     },
     "execution_count": 64,
     "metadata": {},
     "output_type": "execute_result"
    }
   ],
   "source": [
    "city_data_2.head()"
   ]
  },
  {
   "cell_type": "code",
   "execution_count": 65,
   "metadata": {
    "colab": {
     "base_uri": "https://localhost:8080/",
     "height": 295
    },
    "id": "ZVOvjvFTSLHy",
    "outputId": "4cb0b812-4de2-48e6-fb4b-8bf35427656c"
   },
   "outputs": [
    {
     "data": {
      "text/html": [
       "<div>\n",
       "<style scoped>\n",
       "    .dataframe tbody tr th:only-of-type {\n",
       "        vertical-align: middle;\n",
       "    }\n",
       "\n",
       "    .dataframe tbody tr th {\n",
       "        vertical-align: top;\n",
       "    }\n",
       "\n",
       "    .dataframe thead th {\n",
       "        text-align: right;\n",
       "    }\n",
       "</style>\n",
       "<table border=\"1\" class=\"dataframe\">\n",
       "  <thead>\n",
       "    <tr style=\"text-align: right;\">\n",
       "      <th></th>\n",
       "      <th>Number_of_headline_text</th>\n",
       "    </tr>\n",
       "    <tr>\n",
       "      <th>city_name</th>\n",
       "      <th></th>\n",
       "    </tr>\n",
       "  </thead>\n",
       "  <tbody>\n",
       "  </tbody>\n",
       "</table>\n",
       "</div>"
      ],
      "text/plain": [
       "Empty DataFrame\n",
       "Columns: [Number_of_headline_text]\n",
       "Index: []"
      ]
     },
     "execution_count": 65,
     "metadata": {},
     "output_type": "execute_result"
    }
   ],
   "source": [
    "top_15_headline_city.head(7)"
   ]
  },
  {
   "cell_type": "code",
   "execution_count": 66,
   "metadata": {
    "id": "rl48RhMJSULb"
   },
   "outputs": [
    {
     "ename": "ValueError",
     "evalue": "cannot reindex on an axis with duplicate labels",
     "output_type": "error",
     "traceback": [
      "\u001b[0;31m---------------------------------------------------------------------------\u001b[0m",
      "\u001b[0;31mValueError\u001b[0m                                Traceback (most recent call last)",
      "Cell \u001b[0;32mIn[66], line 3\u001b[0m\n\u001b[1;32m      1\u001b[0m \u001b[38;5;66;03m# creating new data_set for top 7 cities with year \u001b[39;00m\n\u001b[0;32m----> 3\u001b[0m city_beng \u001b[38;5;241m=\u001b[39m city_data_2[city_data_2\u001b[38;5;241m.\u001b[39mcity_name \u001b[38;5;241m==\u001b[39m \u001b[38;5;124m'\u001b[39m\u001b[38;5;124mbengaluru\u001b[39m\u001b[38;5;124m'\u001b[39m]\n\u001b[1;32m      4\u001b[0m city_del \u001b[38;5;241m=\u001b[39m city_data_2[city_data_2\u001b[38;5;241m.\u001b[39mcity_name \u001b[38;5;241m==\u001b[39m \u001b[38;5;124m'\u001b[39m\u001b[38;5;124mdelhi\u001b[39m\u001b[38;5;124m'\u001b[39m]\n\u001b[1;32m      5\u001b[0m city_ahme \u001b[38;5;241m=\u001b[39m city_data_2[city_data_2\u001b[38;5;241m.\u001b[39mcity_name \u001b[38;5;241m==\u001b[39m \u001b[38;5;124m'\u001b[39m\u001b[38;5;124mahmedabad\u001b[39m\u001b[38;5;124m'\u001b[39m]\n",
      "File \u001b[0;32m/opt/anaconda3/lib/python3.11/site-packages/pandas/core/frame.py:3880\u001b[0m, in \u001b[0;36mDataFrame.__getitem__\u001b[0;34m(self, key)\u001b[0m\n\u001b[1;32m   3878\u001b[0m \u001b[38;5;66;03m# Do we have a (boolean) DataFrame?\u001b[39;00m\n\u001b[1;32m   3879\u001b[0m \u001b[38;5;28;01mif\u001b[39;00m \u001b[38;5;28misinstance\u001b[39m(key, DataFrame):\n\u001b[0;32m-> 3880\u001b[0m     \u001b[38;5;28;01mreturn\u001b[39;00m \u001b[38;5;28mself\u001b[39m\u001b[38;5;241m.\u001b[39mwhere(key)\n\u001b[1;32m   3882\u001b[0m \u001b[38;5;66;03m# Do we have a (boolean) 1d indexer?\u001b[39;00m\n\u001b[1;32m   3883\u001b[0m \u001b[38;5;28;01mif\u001b[39;00m com\u001b[38;5;241m.\u001b[39mis_bool_indexer(key):\n",
      "File \u001b[0;32m/opt/anaconda3/lib/python3.11/site-packages/pandas/core/generic.py:10615\u001b[0m, in \u001b[0;36mNDFrame.where\u001b[0;34m(self, cond, other, inplace, axis, level)\u001b[0m\n\u001b[1;32m  10609\u001b[0m             warnings\u001b[38;5;241m.\u001b[39mwarn(\n\u001b[1;32m  10610\u001b[0m                 _chained_assignment_method_msg,\n\u001b[1;32m  10611\u001b[0m                 ChainedAssignmentError,\n\u001b[1;32m  10612\u001b[0m                 stacklevel\u001b[38;5;241m=\u001b[39m\u001b[38;5;241m2\u001b[39m,\n\u001b[1;32m  10613\u001b[0m             )\n\u001b[1;32m  10614\u001b[0m other \u001b[38;5;241m=\u001b[39m common\u001b[38;5;241m.\u001b[39mapply_if_callable(other, \u001b[38;5;28mself\u001b[39m)\n\u001b[0;32m> 10615\u001b[0m \u001b[38;5;28;01mreturn\u001b[39;00m \u001b[38;5;28mself\u001b[39m\u001b[38;5;241m.\u001b[39m_where(cond, other, inplace, axis, level)\n",
      "File \u001b[0;32m/opt/anaconda3/lib/python3.11/site-packages/pandas/core/generic.py:10333\u001b[0m, in \u001b[0;36mNDFrame._where\u001b[0;34m(self, cond, other, inplace, axis, level)\u001b[0m\n\u001b[1;32m  10330\u001b[0m     cond \u001b[38;5;241m=\u001b[39m cond\u001b[38;5;241m.\u001b[39mastype(\u001b[38;5;28mbool\u001b[39m)\n\u001b[1;32m  10332\u001b[0m cond \u001b[38;5;241m=\u001b[39m \u001b[38;5;241m-\u001b[39mcond \u001b[38;5;28;01mif\u001b[39;00m inplace \u001b[38;5;28;01melse\u001b[39;00m cond\n\u001b[0;32m> 10333\u001b[0m cond \u001b[38;5;241m=\u001b[39m cond\u001b[38;5;241m.\u001b[39mreindex(\u001b[38;5;28mself\u001b[39m\u001b[38;5;241m.\u001b[39m_info_axis, axis\u001b[38;5;241m=\u001b[39m\u001b[38;5;28mself\u001b[39m\u001b[38;5;241m.\u001b[39m_info_axis_number, copy\u001b[38;5;241m=\u001b[39m\u001b[38;5;28;01mFalse\u001b[39;00m)\n\u001b[1;32m  10335\u001b[0m \u001b[38;5;66;03m# try to align with other\u001b[39;00m\n\u001b[1;32m  10336\u001b[0m \u001b[38;5;28;01mif\u001b[39;00m \u001b[38;5;28misinstance\u001b[39m(other, NDFrame):\n\u001b[1;32m  10337\u001b[0m     \u001b[38;5;66;03m# align with me\u001b[39;00m\n",
      "File \u001b[0;32m/opt/anaconda3/lib/python3.11/site-packages/pandas/core/frame.py:5141\u001b[0m, in \u001b[0;36mDataFrame.reindex\u001b[0;34m(self, labels, index, columns, axis, method, copy, level, fill_value, limit, tolerance)\u001b[0m\n\u001b[1;32m   5122\u001b[0m \u001b[38;5;129m@doc\u001b[39m(\n\u001b[1;32m   5123\u001b[0m     NDFrame\u001b[38;5;241m.\u001b[39mreindex,\n\u001b[1;32m   5124\u001b[0m     klass\u001b[38;5;241m=\u001b[39m_shared_doc_kwargs[\u001b[38;5;124m\"\u001b[39m\u001b[38;5;124mklass\u001b[39m\u001b[38;5;124m\"\u001b[39m],\n\u001b[0;32m   (...)\u001b[0m\n\u001b[1;32m   5139\u001b[0m     tolerance\u001b[38;5;241m=\u001b[39m\u001b[38;5;28;01mNone\u001b[39;00m,\n\u001b[1;32m   5140\u001b[0m ) \u001b[38;5;241m-\u001b[39m\u001b[38;5;241m>\u001b[39m DataFrame:\n\u001b[0;32m-> 5141\u001b[0m     \u001b[38;5;28;01mreturn\u001b[39;00m \u001b[38;5;28msuper\u001b[39m()\u001b[38;5;241m.\u001b[39mreindex(\n\u001b[1;32m   5142\u001b[0m         labels\u001b[38;5;241m=\u001b[39mlabels,\n\u001b[1;32m   5143\u001b[0m         index\u001b[38;5;241m=\u001b[39mindex,\n\u001b[1;32m   5144\u001b[0m         columns\u001b[38;5;241m=\u001b[39mcolumns,\n\u001b[1;32m   5145\u001b[0m         axis\u001b[38;5;241m=\u001b[39maxis,\n\u001b[1;32m   5146\u001b[0m         method\u001b[38;5;241m=\u001b[39mmethod,\n\u001b[1;32m   5147\u001b[0m         copy\u001b[38;5;241m=\u001b[39mcopy,\n\u001b[1;32m   5148\u001b[0m         level\u001b[38;5;241m=\u001b[39mlevel,\n\u001b[1;32m   5149\u001b[0m         fill_value\u001b[38;5;241m=\u001b[39mfill_value,\n\u001b[1;32m   5150\u001b[0m         limit\u001b[38;5;241m=\u001b[39mlimit,\n\u001b[1;32m   5151\u001b[0m         tolerance\u001b[38;5;241m=\u001b[39mtolerance,\n\u001b[1;32m   5152\u001b[0m     )\n",
      "File \u001b[0;32m/opt/anaconda3/lib/python3.11/site-packages/pandas/core/generic.py:5521\u001b[0m, in \u001b[0;36mNDFrame.reindex\u001b[0;34m(self, labels, index, columns, axis, method, copy, level, fill_value, limit, tolerance)\u001b[0m\n\u001b[1;32m   5518\u001b[0m     \u001b[38;5;28;01mreturn\u001b[39;00m \u001b[38;5;28mself\u001b[39m\u001b[38;5;241m.\u001b[39m_reindex_multi(axes, copy, fill_value)\n\u001b[1;32m   5520\u001b[0m \u001b[38;5;66;03m# perform the reindex on the axes\u001b[39;00m\n\u001b[0;32m-> 5521\u001b[0m \u001b[38;5;28;01mreturn\u001b[39;00m \u001b[38;5;28mself\u001b[39m\u001b[38;5;241m.\u001b[39m_reindex_axes(\n\u001b[1;32m   5522\u001b[0m     axes, level, limit, tolerance, method, fill_value, copy\n\u001b[1;32m   5523\u001b[0m )\u001b[38;5;241m.\u001b[39m__finalize__(\u001b[38;5;28mself\u001b[39m, method\u001b[38;5;241m=\u001b[39m\u001b[38;5;124m\"\u001b[39m\u001b[38;5;124mreindex\u001b[39m\u001b[38;5;124m\"\u001b[39m)\n",
      "File \u001b[0;32m/opt/anaconda3/lib/python3.11/site-packages/pandas/core/generic.py:5544\u001b[0m, in \u001b[0;36mNDFrame._reindex_axes\u001b[0;34m(self, axes, level, limit, tolerance, method, fill_value, copy)\u001b[0m\n\u001b[1;32m   5541\u001b[0m     \u001b[38;5;28;01mcontinue\u001b[39;00m\n\u001b[1;32m   5543\u001b[0m ax \u001b[38;5;241m=\u001b[39m \u001b[38;5;28mself\u001b[39m\u001b[38;5;241m.\u001b[39m_get_axis(a)\n\u001b[0;32m-> 5544\u001b[0m new_index, indexer \u001b[38;5;241m=\u001b[39m ax\u001b[38;5;241m.\u001b[39mreindex(\n\u001b[1;32m   5545\u001b[0m     labels, level\u001b[38;5;241m=\u001b[39mlevel, limit\u001b[38;5;241m=\u001b[39mlimit, tolerance\u001b[38;5;241m=\u001b[39mtolerance, method\u001b[38;5;241m=\u001b[39mmethod\n\u001b[1;32m   5546\u001b[0m )\n\u001b[1;32m   5548\u001b[0m axis \u001b[38;5;241m=\u001b[39m \u001b[38;5;28mself\u001b[39m\u001b[38;5;241m.\u001b[39m_get_axis_number(a)\n\u001b[1;32m   5549\u001b[0m obj \u001b[38;5;241m=\u001b[39m obj\u001b[38;5;241m.\u001b[39m_reindex_with_indexers(\n\u001b[1;32m   5550\u001b[0m     {axis: [new_index, indexer]},\n\u001b[1;32m   5551\u001b[0m     fill_value\u001b[38;5;241m=\u001b[39mfill_value,\n\u001b[1;32m   5552\u001b[0m     copy\u001b[38;5;241m=\u001b[39mcopy,\n\u001b[1;32m   5553\u001b[0m     allow_dups\u001b[38;5;241m=\u001b[39m\u001b[38;5;28;01mFalse\u001b[39;00m,\n\u001b[1;32m   5554\u001b[0m )\n",
      "File \u001b[0;32m/opt/anaconda3/lib/python3.11/site-packages/pandas/core/indexes/base.py:4434\u001b[0m, in \u001b[0;36mIndex.reindex\u001b[0;34m(self, target, method, level, limit, tolerance)\u001b[0m\n\u001b[1;32m   4431\u001b[0m     \u001b[38;5;28;01mraise\u001b[39;00m \u001b[38;5;167;01mValueError\u001b[39;00m(\u001b[38;5;124m\"\u001b[39m\u001b[38;5;124mcannot handle a non-unique multi-index!\u001b[39m\u001b[38;5;124m\"\u001b[39m)\n\u001b[1;32m   4432\u001b[0m \u001b[38;5;28;01melif\u001b[39;00m \u001b[38;5;129;01mnot\u001b[39;00m \u001b[38;5;28mself\u001b[39m\u001b[38;5;241m.\u001b[39mis_unique:\n\u001b[1;32m   4433\u001b[0m     \u001b[38;5;66;03m# GH#42568\u001b[39;00m\n\u001b[0;32m-> 4434\u001b[0m     \u001b[38;5;28;01mraise\u001b[39;00m \u001b[38;5;167;01mValueError\u001b[39;00m(\u001b[38;5;124m\"\u001b[39m\u001b[38;5;124mcannot reindex on an axis with duplicate labels\u001b[39m\u001b[38;5;124m\"\u001b[39m)\n\u001b[1;32m   4435\u001b[0m \u001b[38;5;28;01melse\u001b[39;00m:\n\u001b[1;32m   4436\u001b[0m     indexer, _ \u001b[38;5;241m=\u001b[39m \u001b[38;5;28mself\u001b[39m\u001b[38;5;241m.\u001b[39mget_indexer_non_unique(target)\n",
      "\u001b[0;31mValueError\u001b[0m: cannot reindex on an axis with duplicate labels"
     ]
    }
   ],
   "source": [
    "# creating new data_set for top 7 cities with year \n",
    "\n",
    "city_beng = city_data_2[city_data_2.city_name == 'bengaluru']\n",
    "city_del = city_data_2[city_data_2.city_name == 'delhi']\n",
    "city_ahme = city_data_2[city_data_2.city_name == 'ahmedabad']\n",
    "city_mum = city_data_2[city_data_2.city_name == 'mumbai']\n",
    "city_pune = city_data_2[city_data_2.city_name == 'pune']\n",
    "city_hyd = city_data_2[city_data_2.city_name == 'hyderabad']\n",
    "city_luck = city_data_2[city_data_2.city_name == 'luck']"
   ]
  },
  {
   "cell_type": "code",
   "execution_count": null,
   "metadata": {
    "id": "d3uGhgnHT4Sc"
   },
   "outputs": [],
   "source": [
    "famous_cities = [city_beng, city_del, city_ahme, city_mum, city_pune, city_hyd, city_luck]\n",
    "data_famous_cities = pd.concat(famous_cities)"
   ]
  },
  {
   "cell_type": "code",
   "execution_count": 67,
   "metadata": {
    "id": "JcbbwUe_UObh"
   },
   "outputs": [],
   "source": [
    "# reset index numbers\n",
    "data_famous_cities.reset_index(inplace=True)"
   ]
  },
  {
   "cell_type": "code",
   "execution_count": 68,
   "metadata": {
    "colab": {
     "base_uri": "https://localhost:8080/",
     "height": 220
    },
    "id": "ttgJzM47USix",
    "outputId": "44f6d596-674d-4d26-9c6f-3659a2370f0c"
   },
   "outputs": [
    {
     "name": "stdout",
     "output_type": "stream",
     "text": [
      "(0, 5)\n"
     ]
    },
    {
     "data": {
      "text/html": [
       "<div>\n",
       "<style scoped>\n",
       "    .dataframe tbody tr th:only-of-type {\n",
       "        vertical-align: middle;\n",
       "    }\n",
       "\n",
       "    .dataframe tbody tr th {\n",
       "        vertical-align: top;\n",
       "    }\n",
       "\n",
       "    .dataframe thead th {\n",
       "        text-align: right;\n",
       "    }\n",
       "</style>\n",
       "<table border=\"1\" class=\"dataframe\">\n",
       "  <thead>\n",
       "    <tr style=\"text-align: right;\">\n",
       "      <th></th>\n",
       "      <th>index</th>\n",
       "      <th>level_0</th>\n",
       "      <th>city_name</th>\n",
       "      <th>Year</th>\n",
       "      <th>Number_of_headline_text</th>\n",
       "    </tr>\n",
       "  </thead>\n",
       "  <tbody>\n",
       "  </tbody>\n",
       "</table>\n",
       "</div>"
      ],
      "text/plain": [
       "Empty DataFrame\n",
       "Columns: [index, level_0, city_name, Year, Number_of_headline_text]\n",
       "Index: []"
      ]
     },
     "execution_count": 68,
     "metadata": {},
     "output_type": "execute_result"
    }
   ],
   "source": [
    "# top 7 cities\n",
    "print(data_famous_cities.shape)\n",
    "data_famous_cities.head()"
   ]
  },
  {
   "cell_type": "code",
   "execution_count": 69,
   "metadata": {
    "colab": {
     "base_uri": "https://localhost:8080/",
     "height": 203
    },
    "id": "4q3G-jz-UY5p",
    "outputId": "f6b34c18-351e-4dc1-8913-96d0bd63584a"
   },
   "outputs": [
    {
     "data": {
      "text/html": [
       "<div>\n",
       "<style scoped>\n",
       "    .dataframe tbody tr th:only-of-type {\n",
       "        vertical-align: middle;\n",
       "    }\n",
       "\n",
       "    .dataframe tbody tr th {\n",
       "        vertical-align: top;\n",
       "    }\n",
       "\n",
       "    .dataframe thead th {\n",
       "        text-align: right;\n",
       "    }\n",
       "</style>\n",
       "<table border=\"1\" class=\"dataframe\">\n",
       "  <thead>\n",
       "    <tr style=\"text-align: right;\">\n",
       "      <th></th>\n",
       "      <th>index</th>\n",
       "      <th>city_name</th>\n",
       "      <th>Year</th>\n",
       "      <th>Number_of_headline_text</th>\n",
       "    </tr>\n",
       "  </thead>\n",
       "  <tbody>\n",
       "  </tbody>\n",
       "</table>\n",
       "</div>"
      ],
      "text/plain": [
       "Empty DataFrame\n",
       "Columns: [index, city_name, Year, Number_of_headline_text]\n",
       "Index: []"
      ]
     },
     "execution_count": 69,
     "metadata": {},
     "output_type": "execute_result"
    }
   ],
   "source": [
    "data_famous_cities=data_famous_cities.drop(['level_0'],axis=1)\n",
    "data_famous_cities.head()"
   ]
  },
  {
   "cell_type": "code",
   "execution_count": 70,
   "metadata": {
    "id": "7xyQwKYFUv57"
   },
   "outputs": [],
   "source": [
    "# year-wise no. of headlines text\n",
    "city_year_count = pd.Series(city_data_2.groupby(['Year'])['Number_of_headline_text'].count())\n",
    "\n",
    "# year-wise data which shows which city have how many no. of headline text\n",
    "city_count = data_famous_cities.groupby(['Year', 'city_name']).sum()['Number_of_headline_text'].unstack()"
   ]
  },
  {
   "cell_type": "code",
   "execution_count": 71,
   "metadata": {
    "colab": {
     "base_uri": "https://localhost:8080/",
     "height": 234
    },
    "id": "RXiidW9FU-yy",
    "outputId": "93fae1f3-82d9-45bd-ef60-3de6e8c335c8"
   },
   "outputs": [
    {
     "data": {
      "text/html": [
       "<div>\n",
       "<style scoped>\n",
       "    .dataframe tbody tr th:only-of-type {\n",
       "        vertical-align: middle;\n",
       "    }\n",
       "\n",
       "    .dataframe tbody tr th {\n",
       "        vertical-align: top;\n",
       "    }\n",
       "\n",
       "    .dataframe thead th {\n",
       "        text-align: right;\n",
       "    }\n",
       "</style>\n",
       "<table border=\"1\" class=\"dataframe\">\n",
       "  <thead>\n",
       "    <tr style=\"text-align: right;\">\n",
       "      <th>city_name</th>\n",
       "    </tr>\n",
       "    <tr>\n",
       "      <th>Year</th>\n",
       "    </tr>\n",
       "  </thead>\n",
       "  <tbody>\n",
       "  </tbody>\n",
       "</table>\n",
       "</div>"
      ],
      "text/plain": [
       "Empty DataFrame\n",
       "Columns: []\n",
       "Index: []"
      ]
     },
     "execution_count": 71,
     "metadata": {},
     "output_type": "execute_result"
    }
   ],
   "source": [
    "city_count.head()"
   ]
  },
  {
   "cell_type": "code",
   "execution_count": 408,
   "metadata": {
    "colab": {
     "base_uri": "https://localhost:8080/"
    },
    "id": "SvPVH8czVPVS",
    "outputId": "3e84652b-7799-448c-db9e-aff50db9d7f7"
   },
   "outputs": [
    {
     "data": {
      "text/plain": [
       "Series([], Name: Number_of_headline_text, dtype: int64)"
      ]
     },
     "execution_count": 408,
     "metadata": {},
     "output_type": "execute_result"
    }
   ],
   "source": [
    "city_year_count.head()"
   ]
  },
  {
   "cell_type": "code",
   "execution_count": 409,
   "metadata": {
    "colab": {
     "base_uri": "https://localhost:8080/",
     "height": 671
    },
    "id": "raqkinWoVag6",
    "outputId": "2ab47d8c-5b1a-475e-c0b8-21f21316d818"
   },
   "outputs": [
    {
     "ename": "IndexError",
     "evalue": "index 0 is out of bounds for axis 0 with size 0",
     "output_type": "error",
     "traceback": [
      "\u001b[0;31m---------------------------------------------------------------------------\u001b[0m",
      "\u001b[0;31mIndexError\u001b[0m                                Traceback (most recent call last)",
      "Cell \u001b[0;32mIn[409], line 7\u001b[0m\n\u001b[1;32m      4\u001b[0m b \u001b[38;5;241m=\u001b[39m fig\u001b[38;5;241m.\u001b[39madd_subplot(\u001b[38;5;241m111\u001b[39m,label\u001b[38;5;241m=\u001b[39m\u001b[38;5;124m\"\u001b[39m\u001b[38;5;124m2\u001b[39m\u001b[38;5;124m\"\u001b[39m, frame_on \u001b[38;5;241m=\u001b[39m \u001b[38;5;28;01mFalse\u001b[39;00m)\n\u001b[1;32m      6\u001b[0m plt\u001b[38;5;241m.\u001b[39mfigure(figsize\u001b[38;5;241m=\u001b[39m(\u001b[38;5;241m20\u001b[39m,\u001b[38;5;241m10\u001b[39m))\n\u001b[0;32m----> 7\u001b[0m city_year_count\u001b[38;5;241m.\u001b[39mplot(kind\u001b[38;5;241m=\u001b[39m\u001b[38;5;124m'\u001b[39m\u001b[38;5;124mbar\u001b[39m\u001b[38;5;124m'\u001b[39m,figsize\u001b[38;5;241m=\u001b[39m(\u001b[38;5;241m20\u001b[39m,\u001b[38;5;241m10\u001b[39m), ax\u001b[38;5;241m=\u001b[39ma,title\u001b[38;5;241m=\u001b[39m\u001b[38;5;124m\"\u001b[39m\u001b[38;5;124mNumber of articles per year and per city\u001b[39m\u001b[38;5;130;01m\\n\u001b[39;00m\u001b[38;5;124m\"\u001b[39m)\n\u001b[1;32m      8\u001b[0m a\u001b[38;5;241m.\u001b[39mset_ylabel(\u001b[38;5;124m'\u001b[39m\u001b[38;5;124mNumber of Articles (Per city)\u001b[39m\u001b[38;5;124m'\u001b[39m)\n\u001b[1;32m      9\u001b[0m a\u001b[38;5;241m.\u001b[39mset_xlabel(\u001b[38;5;124m\"\u001b[39m\u001b[38;5;124m\"\u001b[39m)\n",
      "File \u001b[0;32m/opt/anaconda3/lib/python3.11/site-packages/pandas/plotting/_core.py:1031\u001b[0m, in \u001b[0;36mPlotAccessor.__call__\u001b[0;34m(self, *args, **kwargs)\u001b[0m\n\u001b[1;32m   1028\u001b[0m             label_name \u001b[38;5;241m=\u001b[39m label_kw \u001b[38;5;129;01mor\u001b[39;00m data\u001b[38;5;241m.\u001b[39mcolumns\n\u001b[1;32m   1029\u001b[0m             data\u001b[38;5;241m.\u001b[39mcolumns \u001b[38;5;241m=\u001b[39m label_name\n\u001b[0;32m-> 1031\u001b[0m \u001b[38;5;28;01mreturn\u001b[39;00m plot_backend\u001b[38;5;241m.\u001b[39mplot(data, kind\u001b[38;5;241m=\u001b[39mkind, \u001b[38;5;241m*\u001b[39m\u001b[38;5;241m*\u001b[39mkwargs)\n",
      "File \u001b[0;32m/opt/anaconda3/lib/python3.11/site-packages/pandas/plotting/_matplotlib/__init__.py:71\u001b[0m, in \u001b[0;36mplot\u001b[0;34m(data, kind, **kwargs)\u001b[0m\n\u001b[1;32m     69\u001b[0m         kwargs[\u001b[38;5;124m\"\u001b[39m\u001b[38;5;124max\u001b[39m\u001b[38;5;124m\"\u001b[39m] \u001b[38;5;241m=\u001b[39m \u001b[38;5;28mgetattr\u001b[39m(ax, \u001b[38;5;124m\"\u001b[39m\u001b[38;5;124mleft_ax\u001b[39m\u001b[38;5;124m\"\u001b[39m, ax)\n\u001b[1;32m     70\u001b[0m plot_obj \u001b[38;5;241m=\u001b[39m PLOT_CLASSES[kind](data, \u001b[38;5;241m*\u001b[39m\u001b[38;5;241m*\u001b[39mkwargs)\n\u001b[0;32m---> 71\u001b[0m plot_obj\u001b[38;5;241m.\u001b[39mgenerate()\n\u001b[1;32m     72\u001b[0m plot_obj\u001b[38;5;241m.\u001b[39mdraw()\n\u001b[1;32m     73\u001b[0m \u001b[38;5;28;01mreturn\u001b[39;00m plot_obj\u001b[38;5;241m.\u001b[39mresult\n",
      "File \u001b[0;32m/opt/anaconda3/lib/python3.11/site-packages/pandas/plotting/_matplotlib/core.py:460\u001b[0m, in \u001b[0;36mMPLPlot.generate\u001b[0;34m(self)\u001b[0m\n\u001b[1;32m    458\u001b[0m \u001b[38;5;28;01mfor\u001b[39;00m ax \u001b[38;5;129;01min\u001b[39;00m \u001b[38;5;28mself\u001b[39m\u001b[38;5;241m.\u001b[39maxes:\n\u001b[1;32m    459\u001b[0m     \u001b[38;5;28mself\u001b[39m\u001b[38;5;241m.\u001b[39m_post_plot_logic_common(ax, \u001b[38;5;28mself\u001b[39m\u001b[38;5;241m.\u001b[39mdata)\n\u001b[0;32m--> 460\u001b[0m     \u001b[38;5;28mself\u001b[39m\u001b[38;5;241m.\u001b[39m_post_plot_logic(ax, \u001b[38;5;28mself\u001b[39m\u001b[38;5;241m.\u001b[39mdata)\n",
      "File \u001b[0;32m/opt/anaconda3/lib/python3.11/site-packages/pandas/plotting/_matplotlib/core.py:1757\u001b[0m, in \u001b[0;36mBarPlot._post_plot_logic\u001b[0;34m(self, ax, data)\u001b[0m\n\u001b[1;32m   1754\u001b[0m \u001b[38;5;28;01melse\u001b[39;00m:\n\u001b[1;32m   1755\u001b[0m     str_index \u001b[38;5;241m=\u001b[39m [pprint_thing(key) \u001b[38;5;28;01mfor\u001b[39;00m key \u001b[38;5;129;01min\u001b[39;00m \u001b[38;5;28mrange\u001b[39m(data\u001b[38;5;241m.\u001b[39mshape[\u001b[38;5;241m0\u001b[39m])]\n\u001b[0;32m-> 1757\u001b[0m s_edge \u001b[38;5;241m=\u001b[39m \u001b[38;5;28mself\u001b[39m\u001b[38;5;241m.\u001b[39max_pos[\u001b[38;5;241m0\u001b[39m] \u001b[38;5;241m-\u001b[39m \u001b[38;5;241m0.25\u001b[39m \u001b[38;5;241m+\u001b[39m \u001b[38;5;28mself\u001b[39m\u001b[38;5;241m.\u001b[39mlim_offset\n\u001b[1;32m   1758\u001b[0m e_edge \u001b[38;5;241m=\u001b[39m \u001b[38;5;28mself\u001b[39m\u001b[38;5;241m.\u001b[39max_pos[\u001b[38;5;241m-\u001b[39m\u001b[38;5;241m1\u001b[39m] \u001b[38;5;241m+\u001b[39m \u001b[38;5;241m0.25\u001b[39m \u001b[38;5;241m+\u001b[39m \u001b[38;5;28mself\u001b[39m\u001b[38;5;241m.\u001b[39mbar_width \u001b[38;5;241m+\u001b[39m \u001b[38;5;28mself\u001b[39m\u001b[38;5;241m.\u001b[39mlim_offset\n\u001b[1;32m   1760\u001b[0m \u001b[38;5;28mself\u001b[39m\u001b[38;5;241m.\u001b[39m_decorate_ticks(ax, \u001b[38;5;28mself\u001b[39m\u001b[38;5;241m.\u001b[39m_get_index_name(), str_index, s_edge, e_edge)\n",
      "\u001b[0;31mIndexError\u001b[0m: index 0 is out of bounds for axis 0 with size 0"
     ]
    },
    {
     "data": {
      "image/png": "[encoded data removed]",
      "text/plain": [
       "<Figure size 2000x1000 with 2 Axes>"
      ]
     },
     "metadata": {},
     "output_type": "display_data"
    },
    {
     "data": {
      "text/plain": [
       "<Figure size 2000x1000 with 0 Axes>"
      ]
     },
     "metadata": {},
     "output_type": "display_data"
    }
   ],
   "source": [
    "fig=plt.figure()\n",
    "\n",
    "a = fig.add_subplot(111,label=\"1\")\n",
    "b = fig.add_subplot(111,label=\"2\", frame_on = False)\n",
    "\n",
    "plt.figure(figsize=(20,10))\n",
    "city_year_count.plot(kind='bar',figsize=(20,10), ax=a,title=\"Number of articles per year and per city\\n\")\n",
    "a.set_ylabel('Number of Articles (Per city)')\n",
    "a.set_xlabel(\"\")\n",
    "\n",
    "city_count.plot(ax=b)\n",
    "b.set_xticks([])\n",
    "b.set_ylabel('Number of Articles (Per city)', size =16)\n",
    "b.yaxis.tick_right()\n",
    "b.set_xlabel('Year') \n",
    "\n",
    "a.get_yaxis().set_label_coords(-.05,0.5)\n",
    "b.get_yaxis().set_label_coords(1.05,0.5)\n",
    "b.get_xaxis().set_label_coords(0.5, -0.07)\n",
    "\n",
    "plt.show()"
   ]
  },
  {
   "cell_type": "markdown",
   "metadata": {
    "id": "T3IuuL0AWD8m"
   },
   "source": [
    "# **Step 2.5: Sentiment Analysis of News Headlines**"
   ]
  },
  {
   "cell_type": "code",
   "execution_count": 413,
   "metadata": {
    "id": "uRvPb7dfV4d6"
   },
   "outputs": [],
   "source": [
    "def getAnalysis_polarity(headline):\n",
    "    result = TextBlob(headline)\n",
    "    \n",
    "    if result.sentiment.polarity < 0:\n",
    "        return 'negative'\n",
    "    elif result.sentiment.polarity == 0:\n",
    "        return 'neutral'\n",
    "    else:\n",
    "        return 'positive'"
   ]
  },
  {
   "cell_type": "code",
   "execution_count": 414,
   "metadata": {
    "id": "eiuHcwcoWxx5"
   },
   "outputs": [],
   "source": [
    "data['Result'] = np.array([getAnalysis_polarity(headline) for headline in data['headline_text']])"
   ]
  },
  {
   "cell_type": "code",
   "execution_count": 415,
   "metadata": {
    "colab": {
     "base_uri": "https://localhost:8080/",
     "height": 172
    },
    "id": "Sywg96uKW2LZ",
    "outputId": "fb3180de-76c8-45e4-facc-a2257e32fe9a"
   },
   "outputs": [
    {
     "data": {
      "text/html": [
       "<div>\n",
       "<style scoped>\n",
       "    .dataframe tbody tr th:only-of-type {\n",
       "        vertical-align: middle;\n",
       "    }\n",
       "\n",
       "    .dataframe tbody tr th {\n",
       "        vertical-align: top;\n",
       "    }\n",
       "\n",
       "    .dataframe thead th {\n",
       "        text-align: right;\n",
       "    }\n",
       "</style>\n",
       "<table border=\"1\" class=\"dataframe\">\n",
       "  <thead>\n",
       "    <tr style=\"text-align: right;\">\n",
       "      <th></th>\n",
       "      <th>headline_text</th>\n",
       "    </tr>\n",
       "    <tr>\n",
       "      <th>Result</th>\n",
       "      <th></th>\n",
       "    </tr>\n",
       "  </thead>\n",
       "  <tbody>\n",
       "    <tr>\n",
       "      <th>negative</th>\n",
       "      <td>2558</td>\n",
       "    </tr>\n",
       "    <tr>\n",
       "      <th>neutral</th>\n",
       "      <td>15646</td>\n",
       "    </tr>\n",
       "    <tr>\n",
       "      <th>positive</th>\n",
       "      <td>7796</td>\n",
       "    </tr>\n",
       "  </tbody>\n",
       "</table>\n",
       "</div>"
      ],
      "text/plain": [
       "          headline_text\n",
       "Result                 \n",
       "negative           2558\n",
       "neutral           15646\n",
       "positive           7796"
      ]
     },
     "execution_count": 415,
     "metadata": {},
     "output_type": "execute_result"
    }
   ],
   "source": [
    "final_result = data.groupby(['Result']).agg({'headline_text':'count'})\n",
    "final_result"
   ]
  },
  {
   "cell_type": "code",
   "execution_count": 416,
   "metadata": {
    "colab": {
     "base_uri": "https://localhost:8080/"
    },
    "id": "ZRXDegJvW_Gk",
    "outputId": "38d91c06-5087-4a63-9157-9e97159132b4"
   },
   "outputs": [
    {
     "name": "stdout",
     "output_type": "stream",
     "text": [
      "Positive Headlines:  headline_text    29.984615\n",
      "Name: positive, dtype: float64\n",
      "\n",
      "\n",
      "Negative Headlines:  headline_text    9.838462\n",
      "Name: negative, dtype: float64\n",
      "\n",
      "\n",
      "Unbiased Headlines:  headline_text    60.176923\n",
      "Name: neutral, dtype: float64\n"
     ]
    }
   ],
   "source": [
    "negative = (final_result.loc['negative'] / len(data))*100\n",
    "neutral = (final_result.loc['neutral'] / len(data))*100\n",
    "positive = (final_result.loc['positive'] / len(data))*100\n",
    "\n",
    "\n",
    "print('Positive Headlines: ' , positive )\n",
    "print('\\n\\nNegative Headlines: ' ,negative )\n",
    "print('\\n\\nUnbiased Headlines: ' , str(neutral))"
   ]
  },
  {
   "cell_type": "code",
   "execution_count": 417,
   "metadata": {
    "colab": {
     "base_uri": "https://localhost:8080/",
     "height": 482
    },
    "id": "fBAzHckSXKDS",
    "outputId": "35c22987-8196-4b54-b9ba-dd86271fa6c0"
   },
   "outputs": [
    {
     "data": {
      "image/png": "[encoded data removed]",
      "text/plain": [
       "<Figure size 800x800 with 1 Axes>"
      ]
     },
     "metadata": {},
     "output_type": "display_data"
    }
   ],
   "source": [
    "plt.figure(figsize=(8,8))\n",
    "final_result['headline_text'].plot.pie(autopct='%1.1f%%')\n",
    "plt.title(\"Overall Sentiment Distribution Pie Chart\",fontweight=\"bold\")\n",
    "plt.show()"
   ]
  },
  {
   "cell_type": "markdown",
   "metadata": {
    "id": "DmjWO_sdX-9e"
   },
   "source": [
    "# **Step 3: Creating Hybrid model for stock price/performance prediction using numerical analysis of historical stock prices, and sentimental analysis of news headlines**"
   ]
  },
  {
   "cell_type": "markdown",
   "metadata": {
    "id": "uBUTGxg1yN9l"
   },
   "source": [
    "# **Step 3.1: Importing Required Libraries**"
   ]
  },
  {
   "cell_type": "code",
   "execution_count": 418,
   "metadata": {
    "colab": {
     "base_uri": "https://localhost:8080/"
    },
    "id": "uxBQLKepvzAC",
    "outputId": "c7cd9245-ac75-4660-b9cd-5ceb214e58c3"
   },
   "outputs": [
    {
     "name": "stdout",
     "output_type": "stream",
     "text": [
      "Requirement already satisfied: vaderSentiment in /opt/anaconda3/lib/python3.11/site-packages (3.3.2)\n",
      "Requirement already satisfied: requests in /opt/anaconda3/lib/python3.11/site-packages (from vaderSentiment) (2.31.0)\n",
      "Requirement already satisfied: charset-normalizer<4,>=2 in /opt/anaconda3/lib/python3.11/site-packages (from requests->vaderSentiment) (2.0.4)\n",
      "Requirement already satisfied: idna<4,>=2.5 in /opt/anaconda3/lib/python3.11/site-packages (from requests->vaderSentiment) (3.4)\n",
      "Requirement already satisfied: urllib3<3,>=1.21.1 in /opt/anaconda3/lib/python3.11/site-packages (from requests->vaderSentiment) (2.0.7)\n",
      "Requirement already satisfied: certifi>=2017.4.17 in /opt/anaconda3/lib/python3.11/site-packages (from requests->vaderSentiment) (2024.2.2)\n",
      "Note: you may need to restart the kernel to use updated packages.\n"
     ]
    }
   ],
   "source": [
    "%pip install vaderSentiment\n",
    "#provide sentimental analysis score"
   ]
  },
  {
   "cell_type": "code",
   "execution_count": 419,
   "metadata": {
    "colab": {
     "base_uri": "https://localhost:8080/"
    },
    "id": "RQXh-3tPXvaB",
    "outputId": "800fb10c-665f-4370-9e44-76ad7c498dce"
   },
   "outputs": [],
   "source": [
    "import re\n",
    "from vaderSentiment.vaderSentiment import SentimentIntensityAnalyzer\n",
    "from sklearn.model_selection import train_test_split\n",
    "from sklearn.metrics import accuracy_score\n",
    "from sklearn.ensemble import RandomForestClassifier\n",
    "from sklearn.linear_model import LogisticRegression\n",
    "from sklearn.tree import DecisionTreeClassifier\n",
    "from sklearn.discriminant_analysis import LinearDiscriminantAnalysis\n",
    "from sklearn.ensemble import AdaBoostClassifier\n",
    "from sklearn.ensemble import GradientBoostingClassifier"
   ]
  },
  {
   "cell_type": "markdown",
   "metadata": {
    "id": "gsP9KCpRyemF"
   },
   "source": [
    "# **Step 3.2 : Importing the Numerical and Textual dataset**"
   ]
  },
  {
   "cell_type": "code",
   "execution_count": 420,
   "metadata": {
    "colab": {
     "base_uri": "https://localhost:8080/",
     "height": 203
    },
    "id": "L9bILBtIYDjp",
    "outputId": "06ff8d5d-b57c-472c-e1c0-ce64500a8460"
   },
   "outputs": [
    {
     "data": {
      "text/html": [
       "<div>\n",
       "<style scoped>\n",
       "    .dataframe tbody tr th:only-of-type {\n",
       "        vertical-align: middle;\n",
       "    }\n",
       "\n",
       "    .dataframe tbody tr th {\n",
       "        vertical-align: top;\n",
       "    }\n",
       "\n",
       "    .dataframe thead th {\n",
       "        text-align: right;\n",
       "    }\n",
       "</style>\n",
       "<table border=\"1\" class=\"dataframe\">\n",
       "  <thead>\n",
       "    <tr style=\"text-align: right;\">\n",
       "      <th></th>\n",
       "      <th>Date</th>\n",
       "      <th>Open</th>\n",
       "      <th>High</th>\n",
       "      <th>Low</th>\n",
       "      <th>Close</th>\n",
       "      <th>Adj Close</th>\n",
       "      <th>Volume</th>\n",
       "    </tr>\n",
       "  </thead>\n",
       "  <tbody>\n",
       "    <tr>\n",
       "      <th>0</th>\n",
       "      <td>2005-03-14</td>\n",
       "      <td>1155.0</td>\n",
       "      <td>1338.900024</td>\n",
       "      <td>1155.000000</td>\n",
       "      <td>1304.199951</td>\n",
       "      <td>1279.098267</td>\n",
       "      <td>12791631</td>\n",
       "    </tr>\n",
       "    <tr>\n",
       "      <th>1</th>\n",
       "      <td>2005-03-15</td>\n",
       "      <td>1310.0</td>\n",
       "      <td>1311.699951</td>\n",
       "      <td>1280.000000</td>\n",
       "      <td>1293.349976</td>\n",
       "      <td>1268.457153</td>\n",
       "      <td>3701537</td>\n",
       "    </tr>\n",
       "    <tr>\n",
       "      <th>2</th>\n",
       "      <td>2005-03-16</td>\n",
       "      <td>1295.0</td>\n",
       "      <td>1300.949951</td>\n",
       "      <td>1275.550049</td>\n",
       "      <td>1282.599976</td>\n",
       "      <td>1257.913940</td>\n",
       "      <td>958818</td>\n",
       "    </tr>\n",
       "    <tr>\n",
       "      <th>3</th>\n",
       "      <td>2005-03-17</td>\n",
       "      <td>1280.0</td>\n",
       "      <td>1280.000000</td>\n",
       "      <td>1246.650024</td>\n",
       "      <td>1251.500000</td>\n",
       "      <td>1227.412598</td>\n",
       "      <td>839750</td>\n",
       "    </tr>\n",
       "    <tr>\n",
       "      <th>4</th>\n",
       "      <td>2005-03-18</td>\n",
       "      <td>1248.0</td>\n",
       "      <td>1251.500000</td>\n",
       "      <td>1219.150024</td>\n",
       "      <td>1229.400024</td>\n",
       "      <td>1205.737915</td>\n",
       "      <td>1389118</td>\n",
       "    </tr>\n",
       "  </tbody>\n",
       "</table>\n",
       "</div>"
      ],
      "text/plain": [
       "         Date    Open         High          Low        Close    Adj Close  \\\n",
       "0  2005-03-14  1155.0  1338.900024  1155.000000  1304.199951  1279.098267   \n",
       "1  2005-03-15  1310.0  1311.699951  1280.000000  1293.349976  1268.457153   \n",
       "2  2005-03-16  1295.0  1300.949951  1275.550049  1282.599976  1257.913940   \n",
       "3  2005-03-17  1280.0  1280.000000  1246.650024  1251.500000  1227.412598   \n",
       "4  2005-03-18  1248.0  1251.500000  1219.150024  1229.400024  1205.737915   \n",
       "\n",
       "     Volume  \n",
       "0  12791631  \n",
       "1   3701537  \n",
       "2    958818  \n",
       "3    839750  \n",
       "4   1389118  "
      ]
     },
     "execution_count": 420,
     "metadata": {},
     "output_type": "execute_result"
    }
   ],
   "source": [
    "stock_data=pd.read_csv('JETAIRWAYS.NS.csv')\n",
    "stock_data.head()"
   ]
  },
  {
   "cell_type": "code",
   "execution_count": 421,
   "metadata": {
    "colab": {
     "base_uri": "https://localhost:8080/",
     "height": 203
    },
    "id": "S45RhpePYjFZ",
    "outputId": "c3c9de54-6d46-4657-afc9-0463d3276292"
   },
   "outputs": [
    {
     "data": {
      "text/html": [
       "<div>\n",
       "<style scoped>\n",
       "    .dataframe tbody tr th:only-of-type {\n",
       "        vertical-align: middle;\n",
       "    }\n",
       "\n",
       "    .dataframe tbody tr th {\n",
       "        vertical-align: top;\n",
       "    }\n",
       "\n",
       "    .dataframe thead th {\n",
       "        text-align: right;\n",
       "    }\n",
       "</style>\n",
       "<table border=\"1\" class=\"dataframe\">\n",
       "  <thead>\n",
       "    <tr style=\"text-align: right;\">\n",
       "      <th></th>\n",
       "      <th>publish_date</th>\n",
       "      <th>headline_category</th>\n",
       "      <th>headline_text</th>\n",
       "    </tr>\n",
       "  </thead>\n",
       "  <tbody>\n",
       "    <tr>\n",
       "      <th>0</th>\n",
       "      <td>0</td>\n",
       "      <td>Negative</td>\n",
       "      <td>Markets Close Mostly Lower Again; ROST, PANW R...</td>\n",
       "    </tr>\n",
       "    <tr>\n",
       "      <th>1</th>\n",
       "      <td>1</td>\n",
       "      <td>Negative</td>\n",
       "      <td>Gap plummets on earnings miss, cuts full-year ...</td>\n",
       "    </tr>\n",
       "    <tr>\n",
       "      <th>2</th>\n",
       "      <td>2</td>\n",
       "      <td>Negative</td>\n",
       "      <td>Billionaire Ken Fisher is Selling These 10 Stocks</td>\n",
       "    </tr>\n",
       "    <tr>\n",
       "      <th>3</th>\n",
       "      <td>3</td>\n",
       "      <td>Negative</td>\n",
       "      <td>Corning net income drops 13%, shares fall</td>\n",
       "    </tr>\n",
       "    <tr>\n",
       "      <th>4</th>\n",
       "      <td>4</td>\n",
       "      <td>Negative</td>\n",
       "      <td>Internet Explorer shutdown to cause Japan prob...</td>\n",
       "    </tr>\n",
       "  </tbody>\n",
       "</table>\n",
       "</div>"
      ],
      "text/plain": [
       "   publish_date headline_category  \\\n",
       "0             0          Negative   \n",
       "1             1          Negative   \n",
       "2             2          Negative   \n",
       "3             3          Negative   \n",
       "4             4          Negative   \n",
       "\n",
       "                                       headline_text  \n",
       "0  Markets Close Mostly Lower Again; ROST, PANW R...  \n",
       "1  Gap plummets on earnings miss, cuts full-year ...  \n",
       "2  Billionaire Ken Fisher is Selling These 10 Stocks  \n",
       "3          Corning net income drops 13%, shares fall  \n",
       "4  Internet Explorer shutdown to cause Japan prob...  "
      ]
     },
     "execution_count": 421,
     "metadata": {},
     "output_type": "execute_result"
    }
   ],
   "source": [
    "news_data=pd.read_csv('stock_newsss.csv')\n",
    "news_data.head()"
   ]
  },
  {
   "cell_type": "code",
   "execution_count": 422,
   "metadata": {
    "colab": {
     "base_uri": "https://localhost:8080/",
     "height": 203
    },
    "id": "TvEu6zS6Yw9M",
    "outputId": "09abc89d-927b-4041-ae92-fd9f541f5bb7"
   },
   "outputs": [
    {
     "data": {
      "text/html": [
       "<div>\n",
       "<style scoped>\n",
       "    .dataframe tbody tr th:only-of-type {\n",
       "        vertical-align: middle;\n",
       "    }\n",
       "\n",
       "    .dataframe tbody tr th {\n",
       "        vertical-align: top;\n",
       "    }\n",
       "\n",
       "    .dataframe thead th {\n",
       "        text-align: right;\n",
       "    }\n",
       "</style>\n",
       "<table border=\"1\" class=\"dataframe\">\n",
       "  <thead>\n",
       "    <tr style=\"text-align: right;\">\n",
       "      <th></th>\n",
       "      <th>Date</th>\n",
       "      <th>headline_category</th>\n",
       "      <th>headline_text</th>\n",
       "    </tr>\n",
       "  </thead>\n",
       "  <tbody>\n",
       "    <tr>\n",
       "      <th>0</th>\n",
       "      <td>0</td>\n",
       "      <td>Negative</td>\n",
       "      <td>Markets Close Mostly Lower Again; ROST, PANW R...</td>\n",
       "    </tr>\n",
       "    <tr>\n",
       "      <th>1</th>\n",
       "      <td>1</td>\n",
       "      <td>Negative</td>\n",
       "      <td>Gap plummets on earnings miss, cuts full-year ...</td>\n",
       "    </tr>\n",
       "    <tr>\n",
       "      <th>2</th>\n",
       "      <td>2</td>\n",
       "      <td>Negative</td>\n",
       "      <td>Billionaire Ken Fisher is Selling These 10 Stocks</td>\n",
       "    </tr>\n",
       "    <tr>\n",
       "      <th>3</th>\n",
       "      <td>3</td>\n",
       "      <td>Negative</td>\n",
       "      <td>Corning net income drops 13%, shares fall</td>\n",
       "    </tr>\n",
       "    <tr>\n",
       "      <th>4</th>\n",
       "      <td>4</td>\n",
       "      <td>Negative</td>\n",
       "      <td>Internet Explorer shutdown to cause Japan prob...</td>\n",
       "    </tr>\n",
       "  </tbody>\n",
       "</table>\n",
       "</div>"
      ],
      "text/plain": [
       "   Date headline_category                                      headline_text\n",
       "0     0          Negative  Markets Close Mostly Lower Again; ROST, PANW R...\n",
       "1     1          Negative  Gap plummets on earnings miss, cuts full-year ...\n",
       "2     2          Negative  Billionaire Ken Fisher is Selling These 10 Stocks\n",
       "3     3          Negative          Corning net income drops 13%, shares fall\n",
       "4     4          Negative  Internet Explorer shutdown to cause Japan prob..."
      ]
     },
     "execution_count": 422,
     "metadata": {},
     "output_type": "execute_result"
    }
   ],
   "source": [
    "news_data.rename(columns={'publish_date': 'Date'},inplace = True)\n",
    "news_data.head()"
   ]
  },
  {
   "cell_type": "markdown",
   "metadata": {
    "id": "HEVQ4IY3ys0z"
   },
   "source": [
    "# **Step 3.3: Creating Hybrid data from Numerical and Textual Data**"
   ]
  },
  {
   "cell_type": "code",
   "execution_count": 423,
   "metadata": {
    "id": "L6k8RGRmF-KV"
   },
   "outputs": [],
   "source": [
    "#Index of each DataFrame should be used for the merge operation.\n",
    "hybrid_data = pd.merge(stock_data, news_data, left_index=True, right_index=True, how='inner')\n"
   ]
  },
  {
   "cell_type": "code",
   "execution_count": 424,
   "metadata": {
    "colab": {
     "base_uri": "https://localhost:8080/",
     "height": 203
    },
    "id": "TrfN9UqMZEie",
    "outputId": "f23436a9-7f9c-41a4-bf85-573fd34a6832"
   },
   "outputs": [
    {
     "data": {
      "text/html": [
       "<div>\n",
       "<style scoped>\n",
       "    .dataframe tbody tr th:only-of-type {\n",
       "        vertical-align: middle;\n",
       "    }\n",
       "\n",
       "    .dataframe tbody tr th {\n",
       "        vertical-align: top;\n",
       "    }\n",
       "\n",
       "    .dataframe thead th {\n",
       "        text-align: right;\n",
       "    }\n",
       "</style>\n",
       "<table border=\"1\" class=\"dataframe\">\n",
       "  <thead>\n",
       "    <tr style=\"text-align: right;\">\n",
       "      <th></th>\n",
       "      <th>Date_x</th>\n",
       "      <th>Open</th>\n",
       "      <th>High</th>\n",
       "      <th>Low</th>\n",
       "      <th>Close</th>\n",
       "      <th>Adj Close</th>\n",
       "      <th>Volume</th>\n",
       "      <th>Date_y</th>\n",
       "      <th>headline_category</th>\n",
       "      <th>headline_text</th>\n",
       "    </tr>\n",
       "  </thead>\n",
       "  <tbody>\n",
       "    <tr>\n",
       "      <th>0</th>\n",
       "      <td>2005-03-14</td>\n",
       "      <td>1155.0</td>\n",
       "      <td>1338.900024</td>\n",
       "      <td>1155.000000</td>\n",
       "      <td>1304.199951</td>\n",
       "      <td>1279.098267</td>\n",
       "      <td>12791631</td>\n",
       "      <td>0</td>\n",
       "      <td>Negative</td>\n",
       "      <td>Markets Close Mostly Lower Again; ROST, PANW R...</td>\n",
       "    </tr>\n",
       "    <tr>\n",
       "      <th>1</th>\n",
       "      <td>2005-03-15</td>\n",
       "      <td>1310.0</td>\n",
       "      <td>1311.699951</td>\n",
       "      <td>1280.000000</td>\n",
       "      <td>1293.349976</td>\n",
       "      <td>1268.457153</td>\n",
       "      <td>3701537</td>\n",
       "      <td>1</td>\n",
       "      <td>Negative</td>\n",
       "      <td>Gap plummets on earnings miss, cuts full-year ...</td>\n",
       "    </tr>\n",
       "    <tr>\n",
       "      <th>2</th>\n",
       "      <td>2005-03-16</td>\n",
       "      <td>1295.0</td>\n",
       "      <td>1300.949951</td>\n",
       "      <td>1275.550049</td>\n",
       "      <td>1282.599976</td>\n",
       "      <td>1257.913940</td>\n",
       "      <td>958818</td>\n",
       "      <td>2</td>\n",
       "      <td>Negative</td>\n",
       "      <td>Billionaire Ken Fisher is Selling These 10 Stocks</td>\n",
       "    </tr>\n",
       "    <tr>\n",
       "      <th>3</th>\n",
       "      <td>2005-03-17</td>\n",
       "      <td>1280.0</td>\n",
       "      <td>1280.000000</td>\n",
       "      <td>1246.650024</td>\n",
       "      <td>1251.500000</td>\n",
       "      <td>1227.412598</td>\n",
       "      <td>839750</td>\n",
       "      <td>3</td>\n",
       "      <td>Negative</td>\n",
       "      <td>Corning net income drops 13%, shares fall</td>\n",
       "    </tr>\n",
       "    <tr>\n",
       "      <th>4</th>\n",
       "      <td>2005-03-18</td>\n",
       "      <td>1248.0</td>\n",
       "      <td>1251.500000</td>\n",
       "      <td>1219.150024</td>\n",
       "      <td>1229.400024</td>\n",
       "      <td>1205.737915</td>\n",
       "      <td>1389118</td>\n",
       "      <td>4</td>\n",
       "      <td>Negative</td>\n",
       "      <td>Internet Explorer shutdown to cause Japan prob...</td>\n",
       "    </tr>\n",
       "  </tbody>\n",
       "</table>\n",
       "</div>"
      ],
      "text/plain": [
       "       Date_x    Open         High          Low        Close    Adj Close  \\\n",
       "0  2005-03-14  1155.0  1338.900024  1155.000000  1304.199951  1279.098267   \n",
       "1  2005-03-15  1310.0  1311.699951  1280.000000  1293.349976  1268.457153   \n",
       "2  2005-03-16  1295.0  1300.949951  1275.550049  1282.599976  1257.913940   \n",
       "3  2005-03-17  1280.0  1280.000000  1246.650024  1251.500000  1227.412598   \n",
       "4  2005-03-18  1248.0  1251.500000  1219.150024  1229.400024  1205.737915   \n",
       "\n",
       "     Volume  Date_y headline_category  \\\n",
       "0  12791631       0          Negative   \n",
       "1   3701537       1          Negative   \n",
       "2    958818       2          Negative   \n",
       "3    839750       3          Negative   \n",
       "4   1389118       4          Negative   \n",
       "\n",
       "                                       headline_text  \n",
       "0  Markets Close Mostly Lower Again; ROST, PANW R...  \n",
       "1  Gap plummets on earnings miss, cuts full-year ...  \n",
       "2  Billionaire Ken Fisher is Selling These 10 Stocks  \n",
       "3          Corning net income drops 13%, shares fall  \n",
       "4  Internet Explorer shutdown to cause Japan prob...  "
      ]
     },
     "execution_count": 424,
     "metadata": {},
     "output_type": "execute_result"
    }
   ],
   "source": [
    "hybrid_data.head()"
   ]
  },
  {
   "cell_type": "markdown",
   "metadata": {
    "id": "5435dwf2y9a7"
   },
   "source": [
    "# **Step 3.4: Performing Sentiment Analysis on Hybrid Data**"
   ]
  },
  {
   "cell_type": "markdown",
   "metadata": {
    "id": "l705jlus0jUr"
   },
   "source": [
    "## **Step 3.4.1: Sentiment Analysis using TextBlob**"
   ]
  },
  {
   "cell_type": "code",
   "execution_count": 425,
   "metadata": {
    "id": "ALkdbiXZZKBJ"
   },
   "outputs": [],
   "source": [
    "def analysis_polarity(headline):\n",
    "    result = TextBlob(headline)\n",
    "    \n",
    "    if result.sentiment.polarity < 0:\n",
    "        return 'negative'\n",
    "    elif result.sentiment.polarity == 0:\n",
    "        return 'neutral'\n",
    "    else:\n",
    "        return 'positive'"
   ]
  },
  {
   "cell_type": "code",
   "execution_count": 426,
   "metadata": {
    "colab": {
     "base_uri": "https://localhost:8080/",
     "height": 203
    },
    "id": "tLYJr53gZVCR",
    "outputId": "47347bd0-1615-45ee-9287-3128ca17e6cd"
   },
   "outputs": [
    {
     "data": {
      "text/html": [
       "<div>\n",
       "<style scoped>\n",
       "    .dataframe tbody tr th:only-of-type {\n",
       "        vertical-align: middle;\n",
       "    }\n",
       "\n",
       "    .dataframe tbody tr th {\n",
       "        vertical-align: top;\n",
       "    }\n",
       "\n",
       "    .dataframe thead th {\n",
       "        text-align: right;\n",
       "    }\n",
       "</style>\n",
       "<table border=\"1\" class=\"dataframe\">\n",
       "  <thead>\n",
       "    <tr style=\"text-align: right;\">\n",
       "      <th></th>\n",
       "      <th>Date_x</th>\n",
       "      <th>Open</th>\n",
       "      <th>High</th>\n",
       "      <th>Low</th>\n",
       "      <th>Close</th>\n",
       "      <th>Adj Close</th>\n",
       "      <th>Volume</th>\n",
       "      <th>Date_y</th>\n",
       "      <th>headline_category</th>\n",
       "      <th>headline_text</th>\n",
       "      <th>sentiment</th>\n",
       "    </tr>\n",
       "  </thead>\n",
       "  <tbody>\n",
       "    <tr>\n",
       "      <th>0</th>\n",
       "      <td>2005-03-14</td>\n",
       "      <td>1155.0</td>\n",
       "      <td>1338.900024</td>\n",
       "      <td>1155.000000</td>\n",
       "      <td>1304.199951</td>\n",
       "      <td>1279.098267</td>\n",
       "      <td>12791631</td>\n",
       "      <td>0</td>\n",
       "      <td>Negative</td>\n",
       "      <td>Markets Close Mostly Lower Again; ROST, PANW R...</td>\n",
       "      <td>positive</td>\n",
       "    </tr>\n",
       "    <tr>\n",
       "      <th>1</th>\n",
       "      <td>2005-03-15</td>\n",
       "      <td>1310.0</td>\n",
       "      <td>1311.699951</td>\n",
       "      <td>1280.000000</td>\n",
       "      <td>1293.349976</td>\n",
       "      <td>1268.457153</td>\n",
       "      <td>3701537</td>\n",
       "      <td>1</td>\n",
       "      <td>Negative</td>\n",
       "      <td>Gap plummets on earnings miss, cuts full-year ...</td>\n",
       "      <td>neutral</td>\n",
       "    </tr>\n",
       "    <tr>\n",
       "      <th>2</th>\n",
       "      <td>2005-03-16</td>\n",
       "      <td>1295.0</td>\n",
       "      <td>1300.949951</td>\n",
       "      <td>1275.550049</td>\n",
       "      <td>1282.599976</td>\n",
       "      <td>1257.913940</td>\n",
       "      <td>958818</td>\n",
       "      <td>2</td>\n",
       "      <td>Negative</td>\n",
       "      <td>Billionaire Ken Fisher is Selling These 10 Stocks</td>\n",
       "      <td>neutral</td>\n",
       "    </tr>\n",
       "    <tr>\n",
       "      <th>3</th>\n",
       "      <td>2005-03-17</td>\n",
       "      <td>1280.0</td>\n",
       "      <td>1280.000000</td>\n",
       "      <td>1246.650024</td>\n",
       "      <td>1251.500000</td>\n",
       "      <td>1227.412598</td>\n",
       "      <td>839750</td>\n",
       "      <td>3</td>\n",
       "      <td>Negative</td>\n",
       "      <td>Corning net income drops 13%, shares fall</td>\n",
       "      <td>neutral</td>\n",
       "    </tr>\n",
       "    <tr>\n",
       "      <th>4</th>\n",
       "      <td>2005-03-18</td>\n",
       "      <td>1248.0</td>\n",
       "      <td>1251.500000</td>\n",
       "      <td>1219.150024</td>\n",
       "      <td>1229.400024</td>\n",
       "      <td>1205.737915</td>\n",
       "      <td>1389118</td>\n",
       "      <td>4</td>\n",
       "      <td>Negative</td>\n",
       "      <td>Internet Explorer shutdown to cause Japan prob...</td>\n",
       "      <td>neutral</td>\n",
       "    </tr>\n",
       "  </tbody>\n",
       "</table>\n",
       "</div>"
      ],
      "text/plain": [
       "       Date_x    Open         High          Low        Close    Adj Close  \\\n",
       "0  2005-03-14  1155.0  1338.900024  1155.000000  1304.199951  1279.098267   \n",
       "1  2005-03-15  1310.0  1311.699951  1280.000000  1293.349976  1268.457153   \n",
       "2  2005-03-16  1295.0  1300.949951  1275.550049  1282.599976  1257.913940   \n",
       "3  2005-03-17  1280.0  1280.000000  1246.650024  1251.500000  1227.412598   \n",
       "4  2005-03-18  1248.0  1251.500000  1219.150024  1229.400024  1205.737915   \n",
       "\n",
       "     Volume  Date_y headline_category  \\\n",
       "0  12791631       0          Negative   \n",
       "1   3701537       1          Negative   \n",
       "2    958818       2          Negative   \n",
       "3    839750       3          Negative   \n",
       "4   1389118       4          Negative   \n",
       "\n",
       "                                       headline_text sentiment  \n",
       "0  Markets Close Mostly Lower Again; ROST, PANW R...  positive  \n",
       "1  Gap plummets on earnings miss, cuts full-year ...   neutral  \n",
       "2  Billionaire Ken Fisher is Selling These 10 Stocks   neutral  \n",
       "3          Corning net income drops 13%, shares fall   neutral  \n",
       "4  Internet Explorer shutdown to cause Japan prob...   neutral  "
      ]
     },
     "execution_count": 426,
     "metadata": {},
     "output_type": "execute_result"
    }
   ],
   "source": [
    "hybrid_data['sentiment'] = np.array([analysis_polarity(headline) for headline in hybrid_data['headline_text']])\n",
    "hybrid_data.head()"
   ]
  },
  {
   "cell_type": "code",
   "execution_count": 427,
   "metadata": {
    "id": "78a2vGnqaYwN"
   },
   "outputs": [],
   "source": [
    "#MAKING TWO COLUMNS NEUTRAL AND POSITIVE AND IF ITS FALSE THEN ANOTHER FALSE COLUMNN IS ADDED\n",
    "senti_data = pd.get_dummies(hybrid_data['sentiment'],drop_first=True)"
   ]
  },
  {
   "cell_type": "code",
   "execution_count": 428,
   "metadata": {
    "id": "RSJEbawpZrCx"
   },
   "outputs": [],
   "source": [
    "hybrid_data = pd.concat([hybrid_data,senti_data],axis=1)"
   ]
  },
  {
   "cell_type": "code",
   "execution_count": 429,
   "metadata": {
    "colab": {
     "base_uri": "https://localhost:8080/",
     "height": 203
    },
    "id": "dDwvzFMeaoE5",
    "outputId": "1dd0c670-3dde-4a22-e8b7-86eb542787e5"
   },
   "outputs": [
    {
     "data": {
      "text/html": [
       "<div>\n",
       "<style scoped>\n",
       "    .dataframe tbody tr th:only-of-type {\n",
       "        vertical-align: middle;\n",
       "    }\n",
       "\n",
       "    .dataframe tbody tr th {\n",
       "        vertical-align: top;\n",
       "    }\n",
       "\n",
       "    .dataframe thead th {\n",
       "        text-align: right;\n",
       "    }\n",
       "</style>\n",
       "<table border=\"1\" class=\"dataframe\">\n",
       "  <thead>\n",
       "    <tr style=\"text-align: right;\">\n",
       "      <th></th>\n",
       "      <th>Date_x</th>\n",
       "      <th>Open</th>\n",
       "      <th>High</th>\n",
       "      <th>Low</th>\n",
       "      <th>Close</th>\n",
       "      <th>Adj Close</th>\n",
       "      <th>Volume</th>\n",
       "      <th>Date_y</th>\n",
       "      <th>headline_category</th>\n",
       "      <th>headline_text</th>\n",
       "      <th>sentiment</th>\n",
       "      <th>neutral</th>\n",
       "      <th>positive</th>\n",
       "    </tr>\n",
       "  </thead>\n",
       "  <tbody>\n",
       "    <tr>\n",
       "      <th>0</th>\n",
       "      <td>2005-03-14</td>\n",
       "      <td>1155.0</td>\n",
       "      <td>1338.900024</td>\n",
       "      <td>1155.000000</td>\n",
       "      <td>1304.199951</td>\n",
       "      <td>1279.098267</td>\n",
       "      <td>12791631</td>\n",
       "      <td>0</td>\n",
       "      <td>Negative</td>\n",
       "      <td>Markets Close Mostly Lower Again; ROST, PANW R...</td>\n",
       "      <td>positive</td>\n",
       "      <td>False</td>\n",
       "      <td>True</td>\n",
       "    </tr>\n",
       "    <tr>\n",
       "      <th>1</th>\n",
       "      <td>2005-03-15</td>\n",
       "      <td>1310.0</td>\n",
       "      <td>1311.699951</td>\n",
       "      <td>1280.000000</td>\n",
       "      <td>1293.349976</td>\n",
       "      <td>1268.457153</td>\n",
       "      <td>3701537</td>\n",
       "      <td>1</td>\n",
       "      <td>Negative</td>\n",
       "      <td>Gap plummets on earnings miss, cuts full-year ...</td>\n",
       "      <td>neutral</td>\n",
       "      <td>True</td>\n",
       "      <td>False</td>\n",
       "    </tr>\n",
       "    <tr>\n",
       "      <th>2</th>\n",
       "      <td>2005-03-16</td>\n",
       "      <td>1295.0</td>\n",
       "      <td>1300.949951</td>\n",
       "      <td>1275.550049</td>\n",
       "      <td>1282.599976</td>\n",
       "      <td>1257.913940</td>\n",
       "      <td>958818</td>\n",
       "      <td>2</td>\n",
       "      <td>Negative</td>\n",
       "      <td>Billionaire Ken Fisher is Selling These 10 Stocks</td>\n",
       "      <td>neutral</td>\n",
       "      <td>True</td>\n",
       "      <td>False</td>\n",
       "    </tr>\n",
       "    <tr>\n",
       "      <th>3</th>\n",
       "      <td>2005-03-17</td>\n",
       "      <td>1280.0</td>\n",
       "      <td>1280.000000</td>\n",
       "      <td>1246.650024</td>\n",
       "      <td>1251.500000</td>\n",
       "      <td>1227.412598</td>\n",
       "      <td>839750</td>\n",
       "      <td>3</td>\n",
       "      <td>Negative</td>\n",
       "      <td>Corning net income drops 13%, shares fall</td>\n",
       "      <td>neutral</td>\n",
       "      <td>True</td>\n",
       "      <td>False</td>\n",
       "    </tr>\n",
       "    <tr>\n",
       "      <th>4</th>\n",
       "      <td>2005-03-18</td>\n",
       "      <td>1248.0</td>\n",
       "      <td>1251.500000</td>\n",
       "      <td>1219.150024</td>\n",
       "      <td>1229.400024</td>\n",
       "      <td>1205.737915</td>\n",
       "      <td>1389118</td>\n",
       "      <td>4</td>\n",
       "      <td>Negative</td>\n",
       "      <td>Internet Explorer shutdown to cause Japan prob...</td>\n",
       "      <td>neutral</td>\n",
       "      <td>True</td>\n",
       "      <td>False</td>\n",
       "    </tr>\n",
       "  </tbody>\n",
       "</table>\n",
       "</div>"
      ],
      "text/plain": [
       "       Date_x    Open         High          Low        Close    Adj Close  \\\n",
       "0  2005-03-14  1155.0  1338.900024  1155.000000  1304.199951  1279.098267   \n",
       "1  2005-03-15  1310.0  1311.699951  1280.000000  1293.349976  1268.457153   \n",
       "2  2005-03-16  1295.0  1300.949951  1275.550049  1282.599976  1257.913940   \n",
       "3  2005-03-17  1280.0  1280.000000  1246.650024  1251.500000  1227.412598   \n",
       "4  2005-03-18  1248.0  1251.500000  1219.150024  1229.400024  1205.737915   \n",
       "\n",
       "     Volume  Date_y headline_category  \\\n",
       "0  12791631       0          Negative   \n",
       "1   3701537       1          Negative   \n",
       "2    958818       2          Negative   \n",
       "3    839750       3          Negative   \n",
       "4   1389118       4          Negative   \n",
       "\n",
       "                                       headline_text sentiment  neutral  \\\n",
       "0  Markets Close Mostly Lower Again; ROST, PANW R...  positive    False   \n",
       "1  Gap plummets on earnings miss, cuts full-year ...   neutral     True   \n",
       "2  Billionaire Ken Fisher is Selling These 10 Stocks   neutral     True   \n",
       "3          Corning net income drops 13%, shares fall   neutral     True   \n",
       "4  Internet Explorer shutdown to cause Japan prob...   neutral     True   \n",
       "\n",
       "   positive  \n",
       "0      True  \n",
       "1     False  \n",
       "2     False  \n",
       "3     False  \n",
       "4     False  "
      ]
     },
     "execution_count": 429,
     "metadata": {},
     "output_type": "execute_result"
    }
   ],
   "source": [
    "hybrid_data.head()"
   ]
  },
  {
   "cell_type": "markdown",
   "metadata": {
    "id": "7yfZ1CMebECS"
   },
   "source": [
    "## **Step 3.4.2: Adding subjectivity and polarity Scores to Textual Data (News Headlines)**"
   ]
  },
  {
   "cell_type": "code",
   "execution_count": 430,
   "metadata": {
    "id": "G6jekJ3muILJ"
   },
   "outputs": [],
   "source": [
    "#Functions to get the subjectivity and polarity\n",
    "def getSubjectivity(text):\n",
    "  return TextBlob(text).sentiment.subjectivity\n",
    "\n",
    "def getPolarity(text):\n",
    "  return  TextBlob(text).sentiment.polarity"
   ]
  },
  {
   "cell_type": "code",
   "execution_count": 431,
   "metadata": {
    "colab": {
     "base_uri": "https://localhost:8080/",
     "height": 304
    },
    "id": "gW04Zk0c6LrN",
    "outputId": "df580136-bac1-485e-ce34-73937f10e718"
   },
   "outputs": [
    {
     "data": {
      "text/html": [
       "<div>\n",
       "<style scoped>\n",
       "    .dataframe tbody tr th:only-of-type {\n",
       "        vertical-align: middle;\n",
       "    }\n",
       "\n",
       "    .dataframe tbody tr th {\n",
       "        vertical-align: top;\n",
       "    }\n",
       "\n",
       "    .dataframe thead th {\n",
       "        text-align: right;\n",
       "    }\n",
       "</style>\n",
       "<table border=\"1\" class=\"dataframe\">\n",
       "  <thead>\n",
       "    <tr style=\"text-align: right;\">\n",
       "      <th></th>\n",
       "      <th>Date_x</th>\n",
       "      <th>Open</th>\n",
       "      <th>High</th>\n",
       "      <th>Low</th>\n",
       "      <th>Close</th>\n",
       "      <th>Adj Close</th>\n",
       "      <th>Volume</th>\n",
       "      <th>Date_y</th>\n",
       "      <th>headline_category</th>\n",
       "      <th>headline_text</th>\n",
       "      <th>sentiment</th>\n",
       "      <th>neutral</th>\n",
       "      <th>positive</th>\n",
       "      <th>Subjectivity</th>\n",
       "      <th>Polarity</th>\n",
       "    </tr>\n",
       "  </thead>\n",
       "  <tbody>\n",
       "    <tr>\n",
       "      <th>0</th>\n",
       "      <td>2005-03-14</td>\n",
       "      <td>1155.0</td>\n",
       "      <td>1338.900024</td>\n",
       "      <td>1155.000000</td>\n",
       "      <td>1304.199951</td>\n",
       "      <td>1279.098267</td>\n",
       "      <td>12791631</td>\n",
       "      <td>0</td>\n",
       "      <td>Negative</td>\n",
       "      <td>Markets Close Mostly Lower Again; ROST, PANW R...</td>\n",
       "      <td>positive</td>\n",
       "      <td>False</td>\n",
       "      <td>True</td>\n",
       "      <td>0.5</td>\n",
       "      <td>0.5</td>\n",
       "    </tr>\n",
       "    <tr>\n",
       "      <th>1</th>\n",
       "      <td>2005-03-15</td>\n",
       "      <td>1310.0</td>\n",
       "      <td>1311.699951</td>\n",
       "      <td>1280.000000</td>\n",
       "      <td>1293.349976</td>\n",
       "      <td>1268.457153</td>\n",
       "      <td>3701537</td>\n",
       "      <td>1</td>\n",
       "      <td>Negative</td>\n",
       "      <td>Gap plummets on earnings miss, cuts full-year ...</td>\n",
       "      <td>neutral</td>\n",
       "      <td>True</td>\n",
       "      <td>False</td>\n",
       "      <td>0.0</td>\n",
       "      <td>0.0</td>\n",
       "    </tr>\n",
       "    <tr>\n",
       "      <th>2</th>\n",
       "      <td>2005-03-16</td>\n",
       "      <td>1295.0</td>\n",
       "      <td>1300.949951</td>\n",
       "      <td>1275.550049</td>\n",
       "      <td>1282.599976</td>\n",
       "      <td>1257.913940</td>\n",
       "      <td>958818</td>\n",
       "      <td>2</td>\n",
       "      <td>Negative</td>\n",
       "      <td>Billionaire Ken Fisher is Selling These 10 Stocks</td>\n",
       "      <td>neutral</td>\n",
       "      <td>True</td>\n",
       "      <td>False</td>\n",
       "      <td>0.0</td>\n",
       "      <td>0.0</td>\n",
       "    </tr>\n",
       "    <tr>\n",
       "      <th>3</th>\n",
       "      <td>2005-03-17</td>\n",
       "      <td>1280.0</td>\n",
       "      <td>1280.000000</td>\n",
       "      <td>1246.650024</td>\n",
       "      <td>1251.500000</td>\n",
       "      <td>1227.412598</td>\n",
       "      <td>839750</td>\n",
       "      <td>3</td>\n",
       "      <td>Negative</td>\n",
       "      <td>Corning net income drops 13%, shares fall</td>\n",
       "      <td>neutral</td>\n",
       "      <td>True</td>\n",
       "      <td>False</td>\n",
       "      <td>0.0</td>\n",
       "      <td>0.0</td>\n",
       "    </tr>\n",
       "    <tr>\n",
       "      <th>4</th>\n",
       "      <td>2005-03-18</td>\n",
       "      <td>1248.0</td>\n",
       "      <td>1251.500000</td>\n",
       "      <td>1219.150024</td>\n",
       "      <td>1229.400024</td>\n",
       "      <td>1205.737915</td>\n",
       "      <td>1389118</td>\n",
       "      <td>4</td>\n",
       "      <td>Negative</td>\n",
       "      <td>Internet Explorer shutdown to cause Japan prob...</td>\n",
       "      <td>neutral</td>\n",
       "      <td>True</td>\n",
       "      <td>False</td>\n",
       "      <td>0.0</td>\n",
       "      <td>0.0</td>\n",
       "    </tr>\n",
       "  </tbody>\n",
       "</table>\n",
       "</div>"
      ],
      "text/plain": [
       "       Date_x    Open         High          Low        Close    Adj Close  \\\n",
       "0  2005-03-14  1155.0  1338.900024  1155.000000  1304.199951  1279.098267   \n",
       "1  2005-03-15  1310.0  1311.699951  1280.000000  1293.349976  1268.457153   \n",
       "2  2005-03-16  1295.0  1300.949951  1275.550049  1282.599976  1257.913940   \n",
       "3  2005-03-17  1280.0  1280.000000  1246.650024  1251.500000  1227.412598   \n",
       "4  2005-03-18  1248.0  1251.500000  1219.150024  1229.400024  1205.737915   \n",
       "\n",
       "     Volume  Date_y headline_category  \\\n",
       "0  12791631       0          Negative   \n",
       "1   3701537       1          Negative   \n",
       "2    958818       2          Negative   \n",
       "3    839750       3          Negative   \n",
       "4   1389118       4          Negative   \n",
       "\n",
       "                                       headline_text sentiment  neutral  \\\n",
       "0  Markets Close Mostly Lower Again; ROST, PANW R...  positive    False   \n",
       "1  Gap plummets on earnings miss, cuts full-year ...   neutral     True   \n",
       "2  Billionaire Ken Fisher is Selling These 10 Stocks   neutral     True   \n",
       "3          Corning net income drops 13%, shares fall   neutral     True   \n",
       "4  Internet Explorer shutdown to cause Japan prob...   neutral     True   \n",
       "\n",
       "   positive  Subjectivity  Polarity  \n",
       "0      True           0.5       0.5  \n",
       "1     False           0.0       0.0  \n",
       "2     False           0.0       0.0  \n",
       "3     False           0.0       0.0  \n",
       "4     False           0.0       0.0  "
      ]
     },
     "execution_count": 431,
     "metadata": {},
     "output_type": "execute_result"
    }
   ],
   "source": [
    "#Adding subjectivity and polarity columns\n",
    "hybrid_data['Subjectivity'] =hybrid_data['headline_text'].apply(getSubjectivity)\n",
    "hybrid_data['Polarity'] = hybrid_data['headline_text'].apply(getPolarity)\n",
    "hybrid_data.head()"
   ]
  },
  {
   "cell_type": "markdown",
   "metadata": {
    "id": "T8gAJxdzFS4T"
   },
   "source": [
    "## **Step 3.4.3: Visualizing the polarity and Subjectivity scores**\n"
   ]
  },
  {
   "cell_type": "code",
   "execution_count": 432,
   "metadata": {
    "colab": {
     "base_uri": "https://localhost:8080/",
     "height": 0
    },
    "id": "8xg8Yx1W8psL",
    "outputId": "fa414f63-fca5-4a5b-dea1-1eae348c9baf"
   },
   "outputs": [
    {
     "data": {
      "image/png": "[encoded data removed]",
      "text/plain": [
       "<Figure size 1000x600 with 1 Axes>"
      ]
     },
     "metadata": {},
     "output_type": "display_data"
    }
   ],
   "source": [
    "import matplotlib.pyplot as plt\n",
    "\n",
    "plt.figure(figsize=(10,6))\n",
    "plt.title('News Polarity')\n",
    "plt.xlabel('Polarity Score')  # Label for the x-axis\n",
    "plt.ylabel('Frequency')  # Label for the y-axis\n",
    "hybrid_data['Polarity'].hist(color='#DE3163')\n",
    "plt.show()\n"
   ]
  },
  {
   "cell_type": "code",
   "execution_count": 433,
   "metadata": {
    "colab": {
     "base_uri": "https://localhost:8080/",
     "height": 0
    },
    "id": "lhnhHnCw809L",
    "outputId": "2d9f523b-d5c5-4d51-d460-3beaa565f22e"
   },
   "outputs": [
    {
     "data": {
      "image/png": "[encoded data removed]",
      "text/plain": [
       "<Figure size 1000x600 with 1 Axes>"
      ]
     },
     "metadata": {},
     "output_type": "display_data"
    }
   ],
   "source": [
    "import matplotlib.pyplot as plt\n",
    "\n",
    "plt.figure(figsize=(10,6))\n",
    "plt.title('News Subjectivity')\n",
    "plt.xlabel('Subjectivity Score')  # Label for the x-axis\n",
    "plt.ylabel('Frequency')  # Label for the y-axis\n",
    "hybrid_data['Subjectivity'].hist(color='#FFC300')\n",
    "plt.show()\n"
   ]
  },
  {
   "cell_type": "markdown",
   "metadata": {
    "id": "TtC5wuo6EfMx"
   },
   "source": [
    "## **Step 3.4.4 : Performing Sentiment Analysis over the news Headlines of Hybrid Data**"
   ]
  },
  {
   "cell_type": "code",
   "execution_count": 434,
   "metadata": {
    "colab": {
     "base_uri": "https://localhost:8080/",
     "height": 425
    },
    "id": "QJ20DxSN9aKS",
    "outputId": "5ba86230-5fd6-492a-d908-18989b1ac5dc"
   },
   "outputs": [
    {
     "data": {
      "text/html": [
       "<div>\n",
       "<style scoped>\n",
       "    .dataframe tbody tr th:only-of-type {\n",
       "        vertical-align: middle;\n",
       "    }\n",
       "\n",
       "    .dataframe tbody tr th {\n",
       "        vertical-align: top;\n",
       "    }\n",
       "\n",
       "    .dataframe thead th {\n",
       "        text-align: right;\n",
       "    }\n",
       "</style>\n",
       "<table border=\"1\" class=\"dataframe\">\n",
       "  <thead>\n",
       "    <tr style=\"text-align: right;\">\n",
       "      <th></th>\n",
       "      <th>Date_x</th>\n",
       "      <th>Open</th>\n",
       "      <th>High</th>\n",
       "      <th>Low</th>\n",
       "      <th>Close</th>\n",
       "      <th>Adj Close</th>\n",
       "      <th>Volume</th>\n",
       "      <th>Date_y</th>\n",
       "      <th>headline_category</th>\n",
       "      <th>headline_text</th>\n",
       "      <th>sentiment</th>\n",
       "      <th>neutral</th>\n",
       "      <th>positive</th>\n",
       "      <th>Subjectivity</th>\n",
       "      <th>Polarity</th>\n",
       "      <th>Compound</th>\n",
       "      <th>Negative</th>\n",
       "      <th>Neutral</th>\n",
       "      <th>Positive</th>\n",
       "    </tr>\n",
       "  </thead>\n",
       "  <tbody>\n",
       "    <tr>\n",
       "      <th>0</th>\n",
       "      <td>2005-03-14</td>\n",
       "      <td>1155.0</td>\n",
       "      <td>1338.900024</td>\n",
       "      <td>1155.000000</td>\n",
       "      <td>1304.199951</td>\n",
       "      <td>1279.098267</td>\n",
       "      <td>12791631</td>\n",
       "      <td>0</td>\n",
       "      <td>Negative</td>\n",
       "      <td>Markets Close Mostly Lower Again; ROST, PANW R...</td>\n",
       "      <td>positive</td>\n",
       "      <td>False</td>\n",
       "      <td>True</td>\n",
       "      <td>0.5</td>\n",
       "      <td>0.5</td>\n",
       "      <td>-0.2960</td>\n",
       "      <td>0.216</td>\n",
       "      <td>0.784</td>\n",
       "      <td>0.000</td>\n",
       "    </tr>\n",
       "    <tr>\n",
       "      <th>1</th>\n",
       "      <td>2005-03-15</td>\n",
       "      <td>1310.0</td>\n",
       "      <td>1311.699951</td>\n",
       "      <td>1280.000000</td>\n",
       "      <td>1293.349976</td>\n",
       "      <td>1268.457153</td>\n",
       "      <td>3701537</td>\n",
       "      <td>1</td>\n",
       "      <td>Negative</td>\n",
       "      <td>Gap plummets on earnings miss, cuts full-year ...</td>\n",
       "      <td>neutral</td>\n",
       "      <td>True</td>\n",
       "      <td>False</td>\n",
       "      <td>0.0</td>\n",
       "      <td>0.0</td>\n",
       "      <td>-0.4215</td>\n",
       "      <td>0.388</td>\n",
       "      <td>0.612</td>\n",
       "      <td>0.000</td>\n",
       "    </tr>\n",
       "    <tr>\n",
       "      <th>2</th>\n",
       "      <td>2005-03-16</td>\n",
       "      <td>1295.0</td>\n",
       "      <td>1300.949951</td>\n",
       "      <td>1275.550049</td>\n",
       "      <td>1282.599976</td>\n",
       "      <td>1257.913940</td>\n",
       "      <td>958818</td>\n",
       "      <td>2</td>\n",
       "      <td>Negative</td>\n",
       "      <td>Billionaire Ken Fisher is Selling These 10 Stocks</td>\n",
       "      <td>neutral</td>\n",
       "      <td>True</td>\n",
       "      <td>False</td>\n",
       "      <td>0.0</td>\n",
       "      <td>0.0</td>\n",
       "      <td>0.0000</td>\n",
       "      <td>0.000</td>\n",
       "      <td>1.000</td>\n",
       "      <td>0.000</td>\n",
       "    </tr>\n",
       "    <tr>\n",
       "      <th>3</th>\n",
       "      <td>2005-03-17</td>\n",
       "      <td>1280.0</td>\n",
       "      <td>1280.000000</td>\n",
       "      <td>1246.650024</td>\n",
       "      <td>1251.500000</td>\n",
       "      <td>1227.412598</td>\n",
       "      <td>839750</td>\n",
       "      <td>3</td>\n",
       "      <td>Negative</td>\n",
       "      <td>Corning net income drops 13%, shares fall</td>\n",
       "      <td>neutral</td>\n",
       "      <td>True</td>\n",
       "      <td>False</td>\n",
       "      <td>0.0</td>\n",
       "      <td>0.0</td>\n",
       "      <td>0.2960</td>\n",
       "      <td>0.000</td>\n",
       "      <td>0.732</td>\n",
       "      <td>0.268</td>\n",
       "    </tr>\n",
       "    <tr>\n",
       "      <th>4</th>\n",
       "      <td>2005-03-18</td>\n",
       "      <td>1248.0</td>\n",
       "      <td>1251.500000</td>\n",
       "      <td>1219.150024</td>\n",
       "      <td>1229.400024</td>\n",
       "      <td>1205.737915</td>\n",
       "      <td>1389118</td>\n",
       "      <td>4</td>\n",
       "      <td>Negative</td>\n",
       "      <td>Internet Explorer shutdown to cause Japan prob...</td>\n",
       "      <td>neutral</td>\n",
       "      <td>True</td>\n",
       "      <td>False</td>\n",
       "      <td>0.0</td>\n",
       "      <td>0.0</td>\n",
       "      <td>-0.4019</td>\n",
       "      <td>0.252</td>\n",
       "      <td>0.748</td>\n",
       "      <td>0.000</td>\n",
       "    </tr>\n",
       "  </tbody>\n",
       "</table>\n",
       "</div>"
      ],
      "text/plain": [
       "       Date_x    Open         High          Low        Close    Adj Close  \\\n",
       "0  2005-03-14  1155.0  1338.900024  1155.000000  1304.199951  1279.098267   \n",
       "1  2005-03-15  1310.0  1311.699951  1280.000000  1293.349976  1268.457153   \n",
       "2  2005-03-16  1295.0  1300.949951  1275.550049  1282.599976  1257.913940   \n",
       "3  2005-03-17  1280.0  1280.000000  1246.650024  1251.500000  1227.412598   \n",
       "4  2005-03-18  1248.0  1251.500000  1219.150024  1229.400024  1205.737915   \n",
       "\n",
       "     Volume  Date_y headline_category  \\\n",
       "0  12791631       0          Negative   \n",
       "1   3701537       1          Negative   \n",
       "2    958818       2          Negative   \n",
       "3    839750       3          Negative   \n",
       "4   1389118       4          Negative   \n",
       "\n",
       "                                       headline_text sentiment  neutral  \\\n",
       "0  Markets Close Mostly Lower Again; ROST, PANW R...  positive    False   \n",
       "1  Gap plummets on earnings miss, cuts full-year ...   neutral     True   \n",
       "2  Billionaire Ken Fisher is Selling These 10 Stocks   neutral     True   \n",
       "3          Corning net income drops 13%, shares fall   neutral     True   \n",
       "4  Internet Explorer shutdown to cause Japan prob...   neutral     True   \n",
       "\n",
       "   positive  Subjectivity  Polarity  Compound  Negative  Neutral  Positive  \n",
       "0      True           0.5       0.5   -0.2960     0.216    0.784     0.000  \n",
       "1     False           0.0       0.0   -0.4215     0.388    0.612     0.000  \n",
       "2     False           0.0       0.0    0.0000     0.000    1.000     0.000  \n",
       "3     False           0.0       0.0    0.2960     0.000    0.732     0.268  \n",
       "4     False           0.0       0.0   -0.4019     0.252    0.748     0.000  "
      ]
     },
     "execution_count": 434,
     "metadata": {},
     "output_type": "execute_result"
    }
   ],
   "source": [
    "#Adding sentiment score to news(to recheck the scores textblob use vedar)\n",
    "senti_int_an = SentimentIntensityAnalyzer()\n",
    "\n",
    "hybrid_data['Compound'] = [senti_int_an.polarity_scores(v)['compound'] for v in hybrid_data['headline_text']]\n",
    "hybrid_data['Negative'] = [senti_int_an.polarity_scores(v)['neg'] for v in hybrid_data['headline_text']]\n",
    "hybrid_data['Neutral'] = [senti_int_an.polarity_scores(v)['neu'] for v in hybrid_data['headline_text']]\n",
    "hybrid_data['Positive'] = [senti_int_an.polarity_scores(v)['pos'] for v in hybrid_data['headline_text']]\n",
    "hybrid_data.head()"
   ]
  },
  {
   "cell_type": "code",
   "execution_count": 435,
   "metadata": {
    "colab": {
     "base_uri": "https://localhost:8080/"
    },
    "id": "YYcAjp7R_BrT",
    "outputId": "40a0bc14-0ed5-473f-e6f4-8cebf0780e0b"
   },
   "outputs": [
    {
     "data": {
      "text/plain": [
       "Index(['Date_x', 'Open', 'High', 'Low', 'Close', 'Adj Close', 'Volume',\n",
       "       'Date_y', 'headline_category', 'headline_text', 'sentiment', 'neutral',\n",
       "       'positive', 'Subjectivity', 'Polarity', 'Compound', 'Negative',\n",
       "       'Neutral', 'Positive'],\n",
       "      dtype='object')"
      ]
     },
     "execution_count": 435,
     "metadata": {},
     "output_type": "execute_result"
    }
   ],
   "source": [
    "hybrid_data.columns"
   ]
  },
  {
   "cell_type": "code",
   "execution_count": 436,
   "metadata": {
    "id": "50T53q_x_fNa"
   },
   "outputs": [],
   "source": [
    "req_col = [ 'Open',  'High', 'Low','Volume','Compound', 'Negative', 'Neutral' ,'Positive','positive']"
   ]
  },
  {
   "cell_type": "code",
   "execution_count": 437,
   "metadata": {
    "id": "i4tCIIRBApGq"
   },
   "outputs": [],
   "source": [
    "new_hybrid = hybrid_data[req_col]\n",
    "new_hybrid.reset_index(inplace = True)"
   ]
  },
  {
   "cell_type": "code",
   "execution_count": 438,
   "metadata": {
    "colab": {
     "base_uri": "https://localhost:8080/"
    },
    "id": "WezKKNoiGDGN",
    "outputId": "f2b40126-c8e8-4476-d42e-9d74dbfb2bec"
   },
   "outputs": [
    {
     "name": "stderr",
     "output_type": "stream",
     "text": [
      "/var/folders/2f/npyyptj56ld25y5frhh1q5gc0000gn/T/ipykernel_84553/2625432084.py:2: SettingWithCopyWarning: \n",
      "A value is trying to be set on a copy of a slice from a DataFrame\n",
      "\n",
      "See the caveats in the documentation: https://pandas.pydata.org/pandas-docs/stable/user_guide/indexing.html#returning-a-view-versus-a-copy\n",
      "  new_hybrid.rename(columns = {'positive':'Label'}, inplace = True)\n"
     ]
    }
   ],
   "source": [
    "# Rename the 'positive' column to 'Label' in the DataFrame for clarity\n",
    "new_hybrid.rename(columns = {'positive':'Label'}, inplace = True)"
   ]
  },
  {
   "cell_type": "code",
   "execution_count": 439,
   "metadata": {
    "colab": {
     "base_uri": "https://localhost:8080/",
     "height": 203
    },
    "id": "ncR4bNnPBCU5",
    "outputId": "3f773921-a094-47e6-9dc6-fa0e58df33a7"
   },
   "outputs": [
    {
     "data": {
      "text/html": [
       "<div>\n",
       "<style scoped>\n",
       "    .dataframe tbody tr th:only-of-type {\n",
       "        vertical-align: middle;\n",
       "    }\n",
       "\n",
       "    .dataframe tbody tr th {\n",
       "        vertical-align: top;\n",
       "    }\n",
       "\n",
       "    .dataframe thead th {\n",
       "        text-align: right;\n",
       "    }\n",
       "</style>\n",
       "<table border=\"1\" class=\"dataframe\">\n",
       "  <thead>\n",
       "    <tr style=\"text-align: right;\">\n",
       "      <th></th>\n",
       "      <th>index</th>\n",
       "      <th>Open</th>\n",
       "      <th>High</th>\n",
       "      <th>Low</th>\n",
       "      <th>Volume</th>\n",
       "      <th>Compound</th>\n",
       "      <th>Negative</th>\n",
       "      <th>Neutral</th>\n",
       "      <th>Positive</th>\n",
       "      <th>Label</th>\n",
       "    </tr>\n",
       "  </thead>\n",
       "  <tbody>\n",
       "    <tr>\n",
       "      <th>0</th>\n",
       "      <td>0</td>\n",
       "      <td>1155.0</td>\n",
       "      <td>1338.900024</td>\n",
       "      <td>1155.000000</td>\n",
       "      <td>12791631</td>\n",
       "      <td>-0.2960</td>\n",
       "      <td>0.216</td>\n",
       "      <td>0.784</td>\n",
       "      <td>0.000</td>\n",
       "      <td>True</td>\n",
       "    </tr>\n",
       "    <tr>\n",
       "      <th>1</th>\n",
       "      <td>1</td>\n",
       "      <td>1310.0</td>\n",
       "      <td>1311.699951</td>\n",
       "      <td>1280.000000</td>\n",
       "      <td>3701537</td>\n",
       "      <td>-0.4215</td>\n",
       "      <td>0.388</td>\n",
       "      <td>0.612</td>\n",
       "      <td>0.000</td>\n",
       "      <td>False</td>\n",
       "    </tr>\n",
       "    <tr>\n",
       "      <th>2</th>\n",
       "      <td>2</td>\n",
       "      <td>1295.0</td>\n",
       "      <td>1300.949951</td>\n",
       "      <td>1275.550049</td>\n",
       "      <td>958818</td>\n",
       "      <td>0.0000</td>\n",
       "      <td>0.000</td>\n",
       "      <td>1.000</td>\n",
       "      <td>0.000</td>\n",
       "      <td>False</td>\n",
       "    </tr>\n",
       "    <tr>\n",
       "      <th>3</th>\n",
       "      <td>3</td>\n",
       "      <td>1280.0</td>\n",
       "      <td>1280.000000</td>\n",
       "      <td>1246.650024</td>\n",
       "      <td>839750</td>\n",
       "      <td>0.2960</td>\n",
       "      <td>0.000</td>\n",
       "      <td>0.732</td>\n",
       "      <td>0.268</td>\n",
       "      <td>False</td>\n",
       "    </tr>\n",
       "    <tr>\n",
       "      <th>4</th>\n",
       "      <td>4</td>\n",
       "      <td>1248.0</td>\n",
       "      <td>1251.500000</td>\n",
       "      <td>1219.150024</td>\n",
       "      <td>1389118</td>\n",
       "      <td>-0.4019</td>\n",
       "      <td>0.252</td>\n",
       "      <td>0.748</td>\n",
       "      <td>0.000</td>\n",
       "      <td>False</td>\n",
       "    </tr>\n",
       "  </tbody>\n",
       "</table>\n",
       "</div>"
      ],
      "text/plain": [
       "   index    Open         High          Low    Volume  Compound  Negative  \\\n",
       "0      0  1155.0  1338.900024  1155.000000  12791631   -0.2960     0.216   \n",
       "1      1  1310.0  1311.699951  1280.000000   3701537   -0.4215     0.388   \n",
       "2      2  1295.0  1300.949951  1275.550049    958818    0.0000     0.000   \n",
       "3      3  1280.0  1280.000000  1246.650024    839750    0.2960     0.000   \n",
       "4      4  1248.0  1251.500000  1219.150024   1389118   -0.4019     0.252   \n",
       "\n",
       "   Neutral  Positive  Label  \n",
       "0    0.784     0.000   True  \n",
       "1    0.612     0.000  False  \n",
       "2    1.000     0.000  False  \n",
       "3    0.732     0.268  False  \n",
       "4    0.748     0.000  False  "
      ]
     },
     "execution_count": 439,
     "metadata": {},
     "output_type": "execute_result"
    }
   ],
   "source": [
    "new_hybrid.head()"
   ]
  },
  {
   "cell_type": "code",
   "execution_count": 440,
   "metadata": {
    "colab": {
     "base_uri": "https://localhost:8080/"
    },
    "id": "BvcGdn1fEpdS",
    "outputId": "cbaf9a8e-4e79-47de-89ed-ca633eba90b4"
   },
   "outputs": [
    {
     "data": {
      "text/plain": [
       "(4640, 10)"
      ]
     },
     "execution_count": 440,
     "metadata": {},
     "output_type": "execute_result"
    }
   ],
   "source": [
    "new_hybrid.shape\n"
   ]
  },
  {
   "cell_type": "code",
   "execution_count": 441,
   "metadata": {},
   "outputs": [
    {
     "data": {
      "text/html": [
       "<div>\n",
       "<style scoped>\n",
       "    .dataframe tbody tr th:only-of-type {\n",
       "        vertical-align: middle;\n",
       "    }\n",
       "\n",
       "    .dataframe tbody tr th {\n",
       "        vertical-align: top;\n",
       "    }\n",
       "\n",
       "    .dataframe thead th {\n",
       "        text-align: right;\n",
       "    }\n",
       "</style>\n",
       "<table border=\"1\" class=\"dataframe\">\n",
       "  <thead>\n",
       "    <tr style=\"text-align: right;\">\n",
       "      <th></th>\n",
       "      <th>index</th>\n",
       "      <th>Open</th>\n",
       "      <th>High</th>\n",
       "      <th>Low</th>\n",
       "      <th>Volume</th>\n",
       "      <th>Compound</th>\n",
       "      <th>Negative</th>\n",
       "      <th>Neutral</th>\n",
       "      <th>Positive</th>\n",
       "      <th>Label</th>\n",
       "    </tr>\n",
       "  </thead>\n",
       "  <tbody>\n",
       "    <tr>\n",
       "      <th>count</th>\n",
       "      <td>4640.000000</td>\n",
       "      <td>4640.000000</td>\n",
       "      <td>4640.000000</td>\n",
       "      <td>4640.000000</td>\n",
       "      <td>4.640000e+03</td>\n",
       "      <td>4640.00000</td>\n",
       "      <td>4640.000000</td>\n",
       "      <td>4640.000000</td>\n",
       "      <td>4640.000000</td>\n",
       "      <td>4640</td>\n",
       "    </tr>\n",
       "    <tr>\n",
       "      <th>unique</th>\n",
       "      <td>NaN</td>\n",
       "      <td>NaN</td>\n",
       "      <td>NaN</td>\n",
       "      <td>NaN</td>\n",
       "      <td>NaN</td>\n",
       "      <td>NaN</td>\n",
       "      <td>NaN</td>\n",
       "      <td>NaN</td>\n",
       "      <td>NaN</td>\n",
       "      <td>2</td>\n",
       "    </tr>\n",
       "    <tr>\n",
       "      <th>top</th>\n",
       "      <td>NaN</td>\n",
       "      <td>NaN</td>\n",
       "      <td>NaN</td>\n",
       "      <td>NaN</td>\n",
       "      <td>NaN</td>\n",
       "      <td>NaN</td>\n",
       "      <td>NaN</td>\n",
       "      <td>NaN</td>\n",
       "      <td>NaN</td>\n",
       "      <td>False</td>\n",
       "    </tr>\n",
       "    <tr>\n",
       "      <th>freq</th>\n",
       "      <td>NaN</td>\n",
       "      <td>NaN</td>\n",
       "      <td>NaN</td>\n",
       "      <td>NaN</td>\n",
       "      <td>NaN</td>\n",
       "      <td>NaN</td>\n",
       "      <td>NaN</td>\n",
       "      <td>NaN</td>\n",
       "      <td>NaN</td>\n",
       "      <td>3841</td>\n",
       "    </tr>\n",
       "    <tr>\n",
       "      <th>mean</th>\n",
       "      <td>2319.500000</td>\n",
       "      <td>411.450873</td>\n",
       "      <td>420.823180</td>\n",
       "      <td>401.781767</td>\n",
       "      <td>1.793483e+06</td>\n",
       "      <td>-0.04645</td>\n",
       "      <td>0.096527</td>\n",
       "      <td>0.841549</td>\n",
       "      <td>0.061925</td>\n",
       "      <td>NaN</td>\n",
       "    </tr>\n",
       "    <tr>\n",
       "      <th>std</th>\n",
       "      <td>1339.596954</td>\n",
       "      <td>303.271843</td>\n",
       "      <td>308.572522</td>\n",
       "      <td>297.420908</td>\n",
       "      <td>4.743835e+06</td>\n",
       "      <td>0.30206</td>\n",
       "      <td>0.132807</td>\n",
       "      <td>0.160249</td>\n",
       "      <td>0.108121</td>\n",
       "      <td>NaN</td>\n",
       "    </tr>\n",
       "    <tr>\n",
       "      <th>min</th>\n",
       "      <td>0.000000</td>\n",
       "      <td>13.000000</td>\n",
       "      <td>14.100000</td>\n",
       "      <td>13.000000</td>\n",
       "      <td>0.000000e+00</td>\n",
       "      <td>-0.88340</td>\n",
       "      <td>0.000000</td>\n",
       "      <td>0.246000</td>\n",
       "      <td>0.000000</td>\n",
       "      <td>NaN</td>\n",
       "    </tr>\n",
       "    <tr>\n",
       "      <th>25%</th>\n",
       "      <td>1159.750000</td>\n",
       "      <td>141.974998</td>\n",
       "      <td>147.599998</td>\n",
       "      <td>135.950005</td>\n",
       "      <td>9.418300e+04</td>\n",
       "      <td>-0.22630</td>\n",
       "      <td>0.000000</td>\n",
       "      <td>0.728000</td>\n",
       "      <td>0.000000</td>\n",
       "      <td>NaN</td>\n",
       "    </tr>\n",
       "    <tr>\n",
       "      <th>50%</th>\n",
       "      <td>2319.500000</td>\n",
       "      <td>374.000000</td>\n",
       "      <td>382.074997</td>\n",
       "      <td>364.250000</td>\n",
       "      <td>5.710835e+05</td>\n",
       "      <td>0.00000</td>\n",
       "      <td>0.000000</td>\n",
       "      <td>0.833000</td>\n",
       "      <td>0.000000</td>\n",
       "      <td>NaN</td>\n",
       "    </tr>\n",
       "    <tr>\n",
       "      <th>75%</th>\n",
       "      <td>3479.250000</td>\n",
       "      <td>576.824997</td>\n",
       "      <td>589.250015</td>\n",
       "      <td>565.262497</td>\n",
       "      <td>1.716776e+06</td>\n",
       "      <td>0.00000</td>\n",
       "      <td>0.192000</td>\n",
       "      <td>1.000000</td>\n",
       "      <td>0.131000</td>\n",
       "      <td>NaN</td>\n",
       "    </tr>\n",
       "    <tr>\n",
       "      <th>max</th>\n",
       "      <td>4639.000000</td>\n",
       "      <td>1370.000000</td>\n",
       "      <td>1382.750000</td>\n",
       "      <td>1330.000000</td>\n",
       "      <td>1.109133e+08</td>\n",
       "      <td>0.87200</td>\n",
       "      <td>0.752000</td>\n",
       "      <td>1.000000</td>\n",
       "      <td>0.737000</td>\n",
       "      <td>NaN</td>\n",
       "    </tr>\n",
       "  </tbody>\n",
       "</table>\n",
       "</div>"
      ],
      "text/plain": [
       "              index         Open         High          Low        Volume  \\\n",
       "count   4640.000000  4640.000000  4640.000000  4640.000000  4.640000e+03   \n",
       "unique          NaN          NaN          NaN          NaN           NaN   \n",
       "top             NaN          NaN          NaN          NaN           NaN   \n",
       "freq            NaN          NaN          NaN          NaN           NaN   \n",
       "mean    2319.500000   411.450873   420.823180   401.781767  1.793483e+06   \n",
       "std     1339.596954   303.271843   308.572522   297.420908  4.743835e+06   \n",
       "min        0.000000    13.000000    14.100000    13.000000  0.000000e+00   \n",
       "25%     1159.750000   141.974998   147.599998   135.950005  9.418300e+04   \n",
       "50%     2319.500000   374.000000   382.074997   364.250000  5.710835e+05   \n",
       "75%     3479.250000   576.824997   589.250015   565.262497  1.716776e+06   \n",
       "max     4639.000000  1370.000000  1382.750000  1330.000000  1.109133e+08   \n",
       "\n",
       "          Compound     Negative      Neutral     Positive  Label  \n",
       "count   4640.00000  4640.000000  4640.000000  4640.000000   4640  \n",
       "unique         NaN          NaN          NaN          NaN      2  \n",
       "top            NaN          NaN          NaN          NaN  False  \n",
       "freq           NaN          NaN          NaN          NaN   3841  \n",
       "mean      -0.04645     0.096527     0.841549     0.061925    NaN  \n",
       "std        0.30206     0.132807     0.160249     0.108121    NaN  \n",
       "min       -0.88340     0.000000     0.246000     0.000000    NaN  \n",
       "25%       -0.22630     0.000000     0.728000     0.000000    NaN  \n",
       "50%        0.00000     0.000000     0.833000     0.000000    NaN  \n",
       "75%        0.00000     0.192000     1.000000     0.131000    NaN  \n",
       "max        0.87200     0.752000     1.000000     0.737000    NaN  "
      ]
     },
     "execution_count": 441,
     "metadata": {},
     "output_type": "execute_result"
    }
   ],
   "source": [
    "# Generate summary statistics for all columns in the DataFrame, including both numerical and categorical variables\n",
    "new_hybrid.describe(include='all')\n"
   ]
  },
  {
   "cell_type": "code",
   "execution_count": 442,
   "metadata": {},
   "outputs": [
    {
     "name": "stdout",
     "output_type": "stream",
     "text": [
      "index       2.319500e+03\n",
      "Open        4.114509e+02\n",
      "High        4.208232e+02\n",
      "Low         4.017818e+02\n",
      "Volume      1.793483e+06\n",
      "Compound   -4.644957e-02\n",
      "Negative    9.652716e-02\n",
      "Neutral     8.415487e-01\n",
      "Positive    6.192543e-02\n",
      "Label       1.721983e-01\n",
      "dtype: float64\n"
     ]
    }
   ],
   "source": [
    "print(new_hybrid.mean())\n"
   ]
  },
  {
   "cell_type": "code",
   "execution_count": 443,
   "metadata": {},
   "outputs": [
    {
     "name": "stdout",
     "output_type": "stream",
     "text": [
      "0.06192543103448276\n",
      "0.0965271551724138\n",
      "0.8415487068965517\n"
     ]
    }
   ],
   "source": [
    "pos=new_hybrid.mean()['Positive']\n",
    "print(pos)\n",
    "neg=new_hybrid.mean()['Negative']\n",
    "print(neg)\n",
    "neu=new_hybrid.mean()['Neutral']\n",
    "print(neu)"
   ]
  },
  {
   "cell_type": "code",
   "execution_count": 444,
   "metadata": {},
   "outputs": [
    {
     "data": {
      "image/png": "[encoded data removed]",
      "text/plain": [
       "<Figure size 640x480 with 1 Axes>"
      ]
     },
     "metadata": {},
     "output_type": "display_data"
    }
   ],
   "source": [
    "# Data for the pie chart\n",
    "labels = ['Postive','Negative','Neutral']\n",
    "sizes = [pos,neg,neu]  # The values should add up to 100\n",
    "colors = ['green', 'red', 'purple']\n",
    "\n",
    "# Plot the pie chart\n",
    "fig, ax = plt.subplots()\n",
    "ax.pie(sizes, labels=labels, colors=colors, autopct='%1.1f%%', startangle=90)\n",
    "ax.axis('equal')  # Equal aspect ratio ensures that pie is drawn as a circle\n",
    "plt.title('Sentiments')\n",
    "\n",
    "# Show the plot\n",
    "plt.show()"
   ]
  },
  {
   "cell_type": "code",
   "execution_count": 445,
   "metadata": {},
   "outputs": [],
   "source": [
    "def sentimentcall():\n",
    "    if pos > 1.5*neg :\n",
    "        print(\"BUY THE STOCK!!!!!!!!\")\n",
    "    elif neg>1.5*pos:\n",
    "        print(\"SELL THE STOCK!!!!!!!!\")\n",
    "    else:\n",
    "        print(\"HOLD THE STOCK!!!!!!\")"
   ]
  },
  {
   "cell_type": "code",
   "execution_count": 446,
   "metadata": {},
   "outputs": [
    {
     "name": "stdout",
     "output_type": "stream",
     "text": [
      "SELL THE STOCK!!!!!!!!\n"
     ]
    }
   ],
   "source": [
    "sentimentcall()"
   ]
  },
  {
   "cell_type": "markdown",
   "metadata": {
    "id": "IvPrlMDKBEEj"
   },
   "source": [
    "# **Step 3.5: Training and Testing the Models for Stock Price/Performance Analysis**"
   ]
  },
  {
   "cell_type": "code",
   "execution_count": 209,
   "metadata": {
    "id": "TyNvRAF9GYgZ"
   },
   "outputs": [],
   "source": [
    "# Separate features (X) and target variable (y) from the DataFrame\n",
    "X = new_hybrid.drop('Label', axis=1) # Features (independent variables)   \n",
    "\n",
    "y = new_hybrid['Label']  # Target variable (dependent variable)"
   ]
  },
  {
   "cell_type": "code",
   "execution_count": 210,
   "metadata": {
    "id": "_f7n4bzLCwFR"
   },
   "outputs": [],
   "source": [
    "x_train, x_test, y_train, y_test = train_test_split(X, y, test_size=0.2, random_state = 0)\n",
    "# Splitting the data into training and testing sets\n"
   ]
  },
  {
   "cell_type": "code",
   "execution_count": 211,
   "metadata": {
    "colab": {
     "base_uri": "https://localhost:8080/"
    },
    "id": "m5ZL2bfKH_PL",
    "outputId": "0999bf3a-49af-4e0a-9536-07a70753cd18"
   },
   "outputs": [
    {
     "data": {
      "text/plain": [
       "False"
      ]
     },
     "execution_count": 211,
     "metadata": {},
     "output_type": "execute_result"
    }
   ],
   "source": [
    "# Check if there are any NaN values in the training features (x_train)\n",
    "np.any(np.isnan(x_train)) "
   ]
  },
  {
   "cell_type": "code",
   "execution_count": 212,
   "metadata": {
    "colab": {
     "base_uri": "https://localhost:8080/"
    },
    "id": "nTEeUPNeIBAL",
    "outputId": "3c9f3b57-2fbd-46bd-8a06-67e429702f82"
   },
   "outputs": [
    {
     "data": {
      "text/plain": [
       "True"
      ]
     },
     "execution_count": 212,
     "metadata": {},
     "output_type": "execute_result"
    }
   ],
   "source": [
    "# Check if there all are any finite values \n",
    "np.all(np.isfinite(x_train)) "
   ]
  },
  {
   "cell_type": "code",
   "execution_count": 213,
   "metadata": {
    "id": "W_uFyPa0IEmo"
   },
   "outputs": [],
   "source": [
    "# Fill missing values in the training features (x_train) with the mean of each column\n",
    "x_train = x_train.fillna(x_train.mean())"
   ]
  },
  {
   "cell_type": "code",
   "execution_count": 214,
   "metadata": {
    "id": "Aa-RlvhhIWuK"
   },
   "outputs": [],
   "source": [
    "x_test=x_test.fillna(x_test.mean())"
   ]
  },
  {
   "cell_type": "markdown",
   "metadata": {
    "id": "55_LkcUyB7JJ"
   },
   "source": [
    "## **Step 3.5.1: Stock Price/Performance analysis using Logistic Regressor Model**"
   ]
  },
  {
   "cell_type": "code",
   "execution_count": 215,
   "metadata": {},
   "outputs": [],
   "source": [
    "# Importing performance metrics and evaluation functions for classification models\n",
    "from sklearn.metrics import precision_score, recall_score, f1_score, accuracy_score\n",
    "from sklearn.metrics import classification_report,confusion_matrix"
   ]
  },
  {
   "cell_type": "code",
   "execution_count": 216,
   "metadata": {
    "colab": {
     "base_uri": "https://localhost:8080/"
    },
    "id": "1OnpX0gADDJh",
    "outputId": "8a83b7a6-ccd4-4cc0-a999-40258ad23987"
   },
   "outputs": [
    {
     "name": "stdout",
     "output_type": "stream",
     "text": [
      "0.8002114164904862\n",
      "0.15384615384615385\n",
      "0.011111111111111112\n",
      "0.020725388601036274\n"
     ]
    }
   ],
   "source": [
    "logit = LogisticRegression()\n",
    "logit.fit(x_train,y_train)\n",
    "y_logit_pred = logit.predict(x_test)\n",
    "print(accuracy_score(y_test,y_logit_pred))\n",
    "print(precision_score(y_test,y_logit_pred))\n",
    "print(recall_score(y_test,y_logit_pred))\n",
    "print(f1_score(y_test,y_logit_pred))\n"
   ]
  },
  {
   "cell_type": "markdown",
   "metadata": {
    "id": "aBN4tfyWCfwZ"
   },
   "source": [
    "## **Step 3.5.2: Stock Price/Performance analysis using Random Forest Model**"
   ]
  },
  {
   "cell_type": "code",
   "execution_count": 217,
   "metadata": {
    "colab": {
     "base_uri": "https://localhost:8080/"
    },
    "id": "iTl1sLuWIvzW",
    "outputId": "07a1e9b6-f74f-4b5b-ab58-e8314910ccdc"
   },
   "outputs": [
    {
     "name": "stdout",
     "output_type": "stream",
     "text": [
      "0.8509513742071881\n",
      "0.7746478873239436\n",
      "0.3055555555555556\n",
      "0.4382470119521912\n"
     ]
    }
   ],
   "source": [
    "rf = RandomForestClassifier(n_estimators=200)\n",
    "rf.fit(x_train,y_train)\n",
    "y_rf_pred = rf.predict(x_test)\n",
    "print(accuracy_score(y_test,y_rf_pred))\n",
    "print(precision_score(y_test,y_rf_pred))\n",
    "print(recall_score(y_test,y_rf_pred))\n",
    "print(f1_score(y_test,y_rf_pred))"
   ]
  },
  {
   "cell_type": "markdown",
   "metadata": {
    "id": "osUSrBDQCqbU"
   },
   "source": [
    "## **Step 3.5.3 : Stock Price/Performance analysis using Decision Tree Model**"
   ]
  },
  {
   "cell_type": "code",
   "execution_count": 218,
   "metadata": {
    "colab": {
     "base_uri": "https://localhost:8080/"
    },
    "id": "V6xOBuuxIwJo",
    "outputId": "9ded35e0-9074-4e09-a805-7ac7b64696da"
   },
   "outputs": [
    {
     "name": "stdout",
     "output_type": "stream",
     "text": [
      "0.7716701902748414\n",
      "0.398876404494382\n",
      "0.39444444444444443\n",
      "0.39664804469273746\n"
     ]
    }
   ],
   "source": [
    "dt = DecisionTreeClassifier()\n",
    "dt.fit(x_train, y_train)\n",
    "y_dt_pred = dt.predict(x_test)\n",
    "print(accuracy_score(y_test,y_dt_pred))\n",
    "print(precision_score(y_test,y_dt_pred))\n",
    "print(recall_score(y_test,y_dt_pred))\n",
    "print(f1_score(y_test,y_dt_pred))"
   ]
  },
  {
   "cell_type": "markdown",
   "metadata": {
    "id": "0Ar46YdWDXvc"
   },
   "source": [
    "## **Step 3.5.4: Stock Price/Performance analysis using Logistic Gradient Boosting Model**"
   ]
  },
  {
   "cell_type": "code",
   "execution_count": 219,
   "metadata": {
    "colab": {
     "base_uri": "https://localhost:8080/"
    },
    "id": "UmfCS4f5NY_s",
    "outputId": "e7bbcc4d-4f22-43e7-ac09-f828040fb4d8"
   },
   "outputs": [
    {
     "name": "stdout",
     "output_type": "stream",
     "text": [
      "0.8414376321353065\n",
      "0.7777777777777778\n",
      "0.23333333333333334\n",
      "0.35897435897435903\n"
     ]
    }
   ],
   "source": [
    "xgb = GradientBoostingClassifier()\n",
    "xgb.fit(x_train, y_train)\n",
    "y_xgb_pred = xgb.predict(x_test)\n",
    "print(accuracy_score(y_test,y_xgb_pred))\n",
    "print(precision_score(y_test,y_xgb_pred))\n",
    "print(recall_score(y_test,y_xgb_pred))\n",
    "print(f1_score(y_test,y_xgb_pred))"
   ]
  },
  {
   "cell_type": "code",
   "execution_count": null,
   "metadata": {},
   "outputs": [],
   "source": [
    "from tensorflow.keras.layers import GRU\n",
    "\n",
    "# Build the CNN + GRU Hybrid Model for Time-Series\n",
    "model = Sequential()\n",
    "\n",
    "# CNN Layer for feature extraction from time-series\n",
    "model.add(Conv1D(filters=64, kernel_size=3, activation='relu', input_shape=(time_steps, features)))\n",
    "model.add(MaxPooling1D(pool_size=2))\n",
    "\n",
    "# GRU Layer for capturing temporal patterns\n",
    "model.add(GRU(64))\n",
    "\n",
    "# Fully connected layer for prediction\n",
    "model.add(Dense(1))  # Output for regression (e.g., predicting next time step)\n",
    "\n",
    "# Compile the model\n",
    "model.compile(optimizer='adam', loss='mean_squared_error')\n",
    "\n",
    "# Train the model\n",
    "model.fit(x_train, y_train, epochs=20, batch_size=32, validation_data=(x_test, y_test))"
   ]
  },
  {
   "cell_type": "code",
   "execution_count": 220,
   "metadata": {
    "colab": {
     "base_uri": "https://localhost:8080/"
    },
    "id": "grIZoGNpS3lE",
    "outputId": "460773ac-3485-499b-b710-b8642d3b6b9d"
   },
   "outputs": [
    {
     "name": "stdout",
     "output_type": "stream",
     "text": [
      "Accuracy of Logistic Regression Model:  80.02114164904862 %\n",
      "Accuracy of Random forest Model      :  85.09513742071881 %\n",
      "Accuracy of Decision Tree Model      :  77.16701902748414 %\n",
      "Accuracy of Gradient Boosting Model  :  84.14376321353065 %\n"
     ]
    }
   ],
   "source": [
    "print(\"Accuracy of Logistic Regression Model: \",accuracy_score(y_test,y_logit_pred)*100,\"%\")\n",
    "print(\"Accuracy of Random forest Model      : \",accuracy_score(y_test,y_rf_pred)*100,\"%\")\n",
    "print(\"Accuracy of Decision Tree Model      : \",accuracy_score(y_test,y_dt_pred)*100,\"%\")\n",
    "print(\"Accuracy of Gradient Boosting Model  : \",accuracy_score(y_test,y_xgb_pred)*100,\"%\")"
   ]
  },
  {
   "attachments": {},
   "cell_type": "markdown",
   "metadata": {
    "id": "o2DubAyaF2jQ"
   },
   "source": [
    "# **Conclusion:**\n",
    "\n",
    "Here, I have used six different Neural Network models to carry out the analysis and prediction of stock price/performance and train them with Hybrid data generated from Numerical data (i.e. Last 17 years Stock price/performance records of TCS (Tata Consultancy Service)) and Textual data (i.e.India News Headlines data). \n",
    "\n",
    "WI have found accuracy of  each model as mention below:\n",
    "\n",
    "\n",
    "Accuracy of Logistic Regression Model:  80.02114164904862 %\n",
    "Accuracy of Random forest Model      :  85.20084566596195 %\n",
    "Accuracy of Decision Tree Model      :  77.48414376321352 %\n",
    "Accuracy of Gradient Boosting Model  :  84.14376321353065 %\n",
    "\n",
    " At the end, we can clearly see that Random forest Model gives more accuracy(i.e. 85.2%)  as compared to all other models.Random forest Model has 85.2% accuracy which means it performs better  on Analysis and prediction of Stock price/performance than other 3 Neural Network Models."
   ]
  },
  {
   "cell_type": "code",
   "execution_count": null,
   "metadata": {},
   "outputs": [],
   "source": []
  },
  {
   "cell_type": "code",
   "execution_count": null,
   "metadata": {},
   "outputs": [],
   "source": []
  }
 ],
 "metadata": {
  "accelerator": "TPU",
  "colab": {
   "collapsed_sections": [],
   "name": "Stock Market Prediction using  Numerical and Textual Analysis.ipynb",
   "provenance": []
  },
  "kernelspec": {
   "display_name": "Python 3 (ipykernel)",
   "language": "python",
   "name": "python3"
  },
  "language_info": {
   "codemirror_mode": {
    "name": "ipython",
    "version": 3
   },
   "file_extension": ".py",
   "mimetype": "text/x-python",
   "name": "python",
   "nbconvert_exporter": "python",
   "pygments_lexer": "ipython3",
   "version": "3.11.7"
  }
 },
 "nbformat": 4,
 "nbformat_minor": 4
}
